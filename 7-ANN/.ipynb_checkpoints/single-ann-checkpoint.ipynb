{
 "cells": [
  {
   "cell_type": "markdown",
   "id": "29183648-1ab8-479b-be8a-3a34bb7ace1b",
   "metadata": {
    "tags": []
   },
   "source": [
    "# A single ANN hyperpar at both preMD and postMD"
   ]
  },
  {
   "cell_type": "markdown",
   "id": "7a4b9581-d091-4f18-bcb7-45fdeac578a9",
   "metadata": {
    "jp-MarkdownHeadingCollapsed": true,
    "tags": []
   },
   "source": [
    "# Load the libraries"
   ]
  },
  {
   "cell_type": "code",
   "execution_count": 1,
   "id": "6d1ac0aa-f754-4dce-86ef-55858eb89302",
   "metadata": {},
   "outputs": [
    {
     "name": "stdout",
     "output_type": "stream",
     "text": [
      "numpy:  1.20.3\n",
      "pandas:  1.3.4\n",
      "matplotlib:  3.4.3\n",
      "sklearn:  0.24.2\n"
     ]
    }
   ],
   "source": [
    "import os\n",
    "import time\n",
    "import datetime\n",
    "\n",
    "import numpy as np\n",
    "print(\"numpy: \",np.__version__)\n",
    "import pandas as pd\n",
    "print(\"pandas: \",pd.__version__)\n",
    "\n",
    "import seaborn as sns\n",
    "sns.set_theme(context='notebook', style='whitegrid')\n",
    "\n",
    "import matplotlib as mpl\n",
    "from matplotlib import pyplot as plt\n",
    "from matplotlib import cm\n",
    "print(\"matplotlib: \",mpl.__version__)\n",
    "\n",
    "import sklearn\n",
    "\n",
    "## models\n",
    "from sklearn.linear_model import Lasso                                     ## LASSO\n",
    "from sklearn.kernel_ridge import KernelRidge                               ## kernel ridge regression\n",
    "from sklearn.gaussian_process import GaussianProcessRegressor              ## ANN\n",
    "from sklearn.gaussian_process.kernels import RBF, ConstantKernel as C\n",
    "\n",
    "## metrics\n",
    "from sklearn import metrics\n",
    "from sklearn.metrics import mean_squared_error\n",
    "from sklearn.metrics import mean_absolute_error\n",
    "from sklearn.metrics import mean_absolute_percentage_error\n",
    "from sklearn.metrics import r2_score\n",
    "\n",
    "rng = np.random.default_rng()\n",
    "\n",
    "## data splits\n",
    "# from sklearn.cross_validation import Bootstrap -- deprecated\n",
    "# from sklearn import cross_validation -- deprecated\n",
    "from sklearn.model_selection import ShuffleSplit\n",
    "from sklearn.model_selection import train_test_split\n",
    "from sklearn.model_selection import KFold\n",
    "from sklearn.model_selection import cross_val_score\n",
    "from sklearn.model_selection import StratifiedKFold\n",
    "from sklearn.pipeline import Pipeline\n",
    "\n",
    "## misc\n",
    "from sklearn.preprocessing import MinMaxScaler\n",
    "print(\"sklearn: \",sklearn.__version__)\n",
    "\n",
    "from scipy.stats import zscore\n",
    "\n",
    "import pickle\n",
    "import joblib\n",
    "rand = 1   ## set the random number seed for any shuffle/mixing process"
   ]
  },
  {
   "cell_type": "code",
   "execution_count": 2,
   "id": "041ddf7a-030e-4ce2-ba16-ee5c24ee3a26",
   "metadata": {},
   "outputs": [
    {
     "name": "stdout",
     "output_type": "stream",
     "text": [
      "2 Physical GPUs, 2 Logical GPUs\n"
     ]
    },
    {
     "name": "stderr",
     "output_type": "stream",
     "text": [
      "2022-08-12 00:32:54.470837: I tensorflow/core/platform/cpu_feature_guard.cc:151] This TensorFlow binary is optimized with oneAPI Deep Neural Network Library (oneDNN) to use the following CPU instructions in performance-critical operations:  AVX2 FMA\n",
      "To enable them in other operations, rebuild TensorFlow with the appropriate compiler flags.\n",
      "2022-08-12 00:32:57.003909: I tensorflow/core/common_runtime/gpu/gpu_device.cc:1525] Created device /job:localhost/replica:0/task:0/device:GPU:0 with 10240 MB memory:  -> device: 0, name: NVIDIA A100-PCIE-40GB, pci bus id: 0000:61:00.0, compute capability: 8.0\n",
      "2022-08-12 00:32:57.031977: I tensorflow/core/common_runtime/gpu/gpu_device.cc:1525] Created device /job:localhost/replica:0/task:0/device:GPU:1 with 38416 MB memory:  -> device: 1, name: NVIDIA A100-PCIE-40GB, pci bus id: 0000:a1:00.0, compute capability: 8.0\n"
     ]
    }
   ],
   "source": [
    "## Neural Nets related\n",
    "import tensorflow as tf\n",
    "from tensorflow import keras\n",
    "from keras.models import Sequential\n",
    "from keras.layers import Dense, Activation, Dropout\n",
    "from tensorflow.keras.optimizers import SGD, Adam\n",
    "from tensorflow.keras import layers\n",
    "from tensorflow.keras import regularizers\n",
    "from keras.constraints import maxnorm\n",
    "from keras.wrappers.scikit_learn import KerasRegressor\n",
    "from tensorflow.keras.models import save_model, load_model\n",
    "\n",
    "gpus = tf.config.list_physical_devices('GPU')\n",
    "if gpus:\n",
    "    # Restrict TensorFlow to only allocate 1GB of memory on the first GPU\n",
    "    try:\n",
    "        tf.config.set_logical_device_configuration(\n",
    "            gpus[0],\n",
    "            [tf.config.LogicalDeviceConfiguration(memory_limit=10240)])\n",
    "        logical_gpus = tf.config.list_logical_devices('GPU')\n",
    "        print(len(gpus), \"Physical GPUs,\", len(logical_gpus), \"Logical GPUs\")\n",
    "    except RuntimeError as e:\n",
    "        # Virtual devices must be set before GPUs have been initialized\n",
    "        print(e)"
   ]
  },
  {
   "cell_type": "code",
   "execution_count": 3,
   "id": "804b71a7-4ad8-4021-9795-3838fff299d7",
   "metadata": {},
   "outputs": [],
   "source": [
    "plt.style.use('../mpl-templates/nikhil1.mplstyle')\n",
    "import string\n",
    "label_list = list(string.ascii_lowercase)"
   ]
  },
  {
   "cell_type": "code",
   "execution_count": 8,
   "id": "07393086-b60b-43bf-b2bf-3c92925b9e71",
   "metadata": {},
   "outputs": [],
   "source": [
    "## Create directories if they don't exist\n",
    "if not os.path.isdir('figures'):\n",
    "    print(\"Creating figures folder\")\n",
    "    os.makedirs('figures')\n",
    "    \n",
    "if not os.path.isdir('best-models'):\n",
    "    print(\"Creating best-models folder\")\n",
    "    os.makedirs('best-models')\n",
    "        \n",
    "if not os.path.isdir('ensemble-metrics'):\n",
    "    print(\"Creating ensemble-metrics folder\")\n",
    "    os.makedirs('ensemble-metrics')"
   ]
  },
  {
   "cell_type": "markdown",
   "id": "5506045b-4542-48b5-baf3-0b1e4479e6d3",
   "metadata": {
    "jp-MarkdownHeadingCollapsed": true,
    "tags": []
   },
   "source": [
    "# Load the data"
   ]
  },
  {
   "cell_type": "code",
   "execution_count": 4,
   "id": "371a88a4-440e-448d-ba5e-cbf5ce19146a",
   "metadata": {},
   "outputs": [],
   "source": [
    "## Load the data\n",
    "datafile = \"../data/vlugt-1059points.csv\"\n",
    "vdata_all = pd.read_csv(datafile) \n",
    "\n",
    "## Select the box length -- 2000p\n",
    "vdata_np_list = []\n",
    "vdata_np_list.append(vdata_all[vdata_all['num_particles']==500].copy())\n",
    "vdata_np_list.append(vdata_all[vdata_all['num_particles']==1000].copy())\n",
    "vdata_np_list.append(vdata_all[vdata_all['num_particles']==2000].copy())\n",
    "vdata_np_list.append(vdata_all[vdata_all['num_particles']==4000].copy())"
   ]
  },
  {
   "cell_type": "code",
   "execution_count": 5,
   "id": "24943c2b-a3e5-47b6-815b-bd95eee98420",
   "metadata": {},
   "outputs": [
    {
     "name": "stdout",
     "output_type": "stream",
     "text": [
      "X shape:  (273, 6)\n",
      "Y shape:  (273,)\n",
      "Yerr shape:  (273,)\n"
     ]
    }
   ],
   "source": [
    "## Extract features from the dataframe\n",
    "npdata = vdata_np_list[2][['X_1', 'epsilon_2', 'sigma_2', 'k_12', 'zeta', 'BoxLength', 'Viscosity', 'Viscosity_err',\n",
    "                            'num_particles']].values\n",
    "np.random.seed(rand)\n",
    "np.random.shuffle(npdata)\n",
    "\n",
    "X_2000p_preMD_raw = npdata[:, :4].copy()\n",
    "zeta_2000p_raw = npdata[:, 4].copy().reshape((-1,1)).copy()\n",
    "density_2000p_raw = np.array(npdata[:, 8]/(npdata[:,5]**3)).reshape((-1,1)).copy()\n",
    "X_2000p_fset1_raw = np.hstack((X_2000p_preMD_raw,zeta_2000p_raw,density_2000p_raw))\n",
    "\n",
    "Y_fset1_raw = npdata[:, 6].copy()\n",
    "Yerr_fset1_raw = npdata[:, 7].copy()\n",
    "\n",
    "print(\"X shape: \", X_2000p_fset1_raw.shape)\n",
    "print(\"Y shape: \", Y_fset1_raw.shape)\n",
    "print(\"Yerr shape: \", Yerr_fset1_raw.shape)"
   ]
  },
  {
   "cell_type": "code",
   "execution_count": 6,
   "id": "ece5ff5a-50ac-4ebe-b46e-838c26c30526",
   "metadata": {},
   "outputs": [
    {
     "name": "stdout",
     "output_type": "stream",
     "text": [
      "X scaled :  (273, 6)\n"
     ]
    }
   ],
   "source": [
    "## transform the features if necessary\n",
    "sc_2000p_fset1 = MinMaxScaler() ## Needs a 2D array -- if only a single feature, use reshape\n",
    "sc_2000p_fset1.fit(X_2000p_fset1_raw) \n",
    "X_2000p_fset1_scaled = sc_2000p_fset1.transform(X_2000p_fset1_raw)\n",
    "print(\"X scaled : \", X_2000p_fset1_scaled.shape)"
   ]
  },
  {
   "cell_type": "markdown",
   "id": "6ad44688-e08b-4342-bd54-3c0b6094e5da",
   "metadata": {
    "jp-MarkdownHeadingCollapsed": true,
    "tags": [],
    "toc-hr-collapsed": true
   },
   "source": [
    "# Interpolation data"
   ]
  },
  {
   "cell_type": "markdown",
   "id": "3d74d12a-2f1f-4c63-810c-4827c11e215f",
   "metadata": {
    "tags": []
   },
   "source": [
    "## load the data and convert to a dataframe"
   ]
  },
  {
   "cell_type": "code",
   "execution_count": 8,
   "id": "9fda7033-b237-4a63-aa7c-507f696d460c",
   "metadata": {},
   "outputs": [],
   "source": [
    "x1_grid_points = pd.read_csv(\"../data/x1_int_points_18mar22.csv\")\n",
    "x1_grid_points['BoxLength'] = [19.2295, 22.1713, 14.6200, 18.4201]\n",
    "x1_grid_points['num_particles'] = [2000, 2000, 2000, 2000]\n",
    "\n",
    "eps2_grid_points = pd.read_csv(\"../data/eps2_int_points_18mar22.csv\")\n",
    "eps2_grid_points['BoxLength'] = [21.9797, 21.1303, 20.9318, 20.0900]\n",
    "eps2_grid_points['num_particles'] = [2000, 2000, 2000, 2000]\n",
    "\n",
    "sig2_grid_points = pd.read_csv(\"../data/sig2_int_points_18mar22.csv\")\n",
    "sig2_grid_points['BoxLength'] = [22.3893, 18.0137, 15.3401, 16.4214]\n",
    "sig2_grid_points['num_particles'] = [2000, 2000, 2000, 2000]\n",
    "\n",
    "k12_grid_points = pd.read_csv(\"../data/k12_int_points_18mar22.csv\")\n",
    "k12_grid_points['BoxLength'] = [23.5442, 13.1799, 19.0972, 16.3606, 21.2325]\n",
    "k12_grid_points['num_particles'] = [2000, 2000, 2000, 2000, 2000]"
   ]
  },
  {
   "cell_type": "markdown",
   "id": "e05029c4-4953-444a-84ee-343d9dbdaf77",
   "metadata": {
    "jp-MarkdownHeadingCollapsed": true,
    "tags": []
   },
   "source": [
    "## preMD: extract to numpy arrays"
   ]
  },
  {
   "cell_type": "code",
   "execution_count": 9,
   "id": "83c2a2a6-4830-4a93-9706-b925bde9d5b0",
   "metadata": {},
   "outputs": [
    {
     "name": "stdout",
     "output_type": "stream",
     "text": [
      "interp MAPE: 2.26\n"
     ]
    }
   ],
   "source": [
    "interp_df = pd.concat([x1_grid_points, eps2_grid_points, sig2_grid_points, k12_grid_points], ignore_index=True)\n",
    "interp_data = interp_df[['u_x1', 'u_eps2', 'u_sig2', 'u_k12', 'BoxLength', 'num_particles', 'eta_md', 'eta_md_err']].values\n",
    "\n",
    "X_interp_preMD_raw = interp_data[:, :4].copy()\n",
    "Y_interp_raw = interp_data[:, 6].copy()\n",
    "Yerr_interp_raw = interp_data[:, 7].copy()\n",
    "print(\"interp MAPE: {:.2f}\".format(100*np.mean(Yerr_interp_raw/Y_interp_raw)))"
   ]
  },
  {
   "cell_type": "markdown",
   "id": "94daaed9-d0c6-4da6-b8b3-6d849ab445f8",
   "metadata": {},
   "source": [
    "### use the same transform as the train data"
   ]
  },
  {
   "cell_type": "code",
   "execution_count": 10,
   "id": "204dac34-c685-43b7-950c-a2cc2d9cbd18",
   "metadata": {},
   "outputs": [],
   "source": [
    "## transform the features if necessary\n",
    "# X_interp_preMD_scaled = sc_alldata_preMD.transform(X_interp_preMD_raw)\n",
    "# print(\"X interp scaled : \", X_interp_preMD_scaled.shape)"
   ]
  },
  {
   "cell_type": "markdown",
   "id": "245705da-a01e-4ca4-b181-01f354fb923b",
   "metadata": {
    "jp-MarkdownHeadingCollapsed": true,
    "tags": []
   },
   "source": [
    "## fset1: extract to numpy arrays"
   ]
  },
  {
   "cell_type": "code",
   "execution_count": 11,
   "id": "91a6ff9c-a9e9-417b-9338-2235ce2a4bc9",
   "metadata": {},
   "outputs": [],
   "source": [
    "interp_df = pd.concat([x1_grid_points, eps2_grid_points, sig2_grid_points, k12_grid_points], ignore_index=True)\n",
    "interp_data = interp_df[['u_x1', 'u_eps2', 'u_sig2', 'u_k12', 'BoxLength', 'num_particles', 'eta_md', 'eta_md_err']].values\n",
    "\n",
    "zeta_interp_raw = (interp_data[:,5]*np.pi/(6.0*interp_data[:,4]**3))*\\\n",
    "                  (interp_data[:,0]*1.0**3 + (1-interp_data[:,0])*interp_data[:,2]**3)\n",
    "zeta_interp_raw = zeta_interp_raw.reshape((-1,1))\n",
    "density_interp_raw = np.array(interp_data[:,5]/interp_data[:,4]**3).reshape((-1,1))\n",
    "\n",
    "X_interp_fset1_raw = np.hstack((X_interp_preMD_raw,zeta_interp_raw,density_interp_raw))\n",
    "Y_interp_raw = interp_data[:, 6].copy()\n",
    "Yerr_interp_raw = interp_data[:, 7].copy()"
   ]
  },
  {
   "cell_type": "code",
   "execution_count": 12,
   "id": "d0f1acb3-5bf7-45f3-aa35-f20aaa11b14f",
   "metadata": {},
   "outputs": [
    {
     "name": "stdout",
     "output_type": "stream",
     "text": [
      "X interp scaled :  (17, 6)\n"
     ]
    }
   ],
   "source": [
    "X_interp_fset1_scaled = sc_2000p_fset1.transform(X_interp_fset1_raw)\n",
    "print(\"X interp scaled : \", X_interp_fset1_scaled.shape)"
   ]
  },
  {
   "cell_type": "code",
   "execution_count": 13,
   "id": "826f604a-72d9-4d9d-a4b8-be04c727d5d7",
   "metadata": {
    "tags": []
   },
   "outputs": [
    {
     "name": "stdout",
     "output_type": "stream",
     "text": [
      "interp MAPE: 2.26\n"
     ]
    }
   ],
   "source": [
    "print(\"interp MAPE: {:.2f}\".format(100*np.mean(Yerr_interp_raw/Y_interp_raw)))"
   ]
  },
  {
   "cell_type": "markdown",
   "id": "5e69ac7e-168d-4455-816d-e17d43cbb294",
   "metadata": {
    "jp-MarkdownHeadingCollapsed": true,
    "tags": [],
    "toc-hr-collapsed": true
   },
   "source": [
    "# Helper classes and data creation"
   ]
  },
  {
   "cell_type": "markdown",
   "id": "f4d801a4-6b81-4724-ba05-85e3c58995ad",
   "metadata": {
    "tags": [],
    "toc-hr-collapsed": true
   },
   "source": [
    "## Data classes"
   ]
  },
  {
   "cell_type": "markdown",
   "id": "28ba91e1-966e-442e-9176-ad6ece10e238",
   "metadata": {
    "jp-MarkdownHeadingCollapsed": true,
    "tags": []
   },
   "source": [
    "### data class for Kfold+split model selection and performance evaluation (mspe) -- kfold_split_mspe_data()"
   ]
  },
  {
   "cell_type": "code",
   "execution_count": 14,
   "id": "edd07810-1402-42a6-a19e-5d814b0d0435",
   "metadata": {},
   "outputs": [],
   "source": [
    "## Add a list to store the data to be fitted by the best hyperparameter in each split\n",
    "class kfold_split_mspe_data:\n",
    "    def __init__(self):\n",
    "        self.num_splits = 0\n",
    "        self.num_folds = 0\n",
    "        self.num_train_pts = 0\n",
    "        self.num_val_pts = 0\n",
    "        self.num_test_pts = 0\n",
    "        self.num_interp_pts = 0\n",
    "        self.num_fit_pts = 0\n",
    "        \n",
    "        ## Lists to store the data\n",
    "        self.X_train_dbllist = [] ; self.Y_train_dbllist = [] ; self.Yerr_train_dbllist = []\n",
    "        self.X_val_dbllist = [] ; self.Y_val_dbllist = [] ; self.Yerr_val_dbllist = []\n",
    "        self.X_test_list = [] ; self.Y_test_list = [] ; self.Yerr_test_list = []\n",
    "        self.X_interp_list = [] ; self.Y_interp_list = [] ; self.Yerr_interp_list = []\n",
    "        self.X_fit_list = [] ; self.Y_fit_list = [] ; self.Yerr_fit_list = []\n",
    "        "
   ]
  },
  {
   "cell_type": "markdown",
   "id": "5403697c-61c1-448e-b9cd-4a3b2d84ce41",
   "metadata": {
    "tags": [],
    "toc-hr-collapsed": true
   },
   "source": [
    "## Create Kfol+shuffle split data "
   ]
  },
  {
   "cell_type": "markdown",
   "id": "2d6aa37a-a98c-4cf0-8af9-1de9e23b117e",
   "metadata": {
    "jp-MarkdownHeadingCollapsed": true,
    "tags": []
   },
   "source": [
    "### 5fold CV -- kfs_mspe_data_t1"
   ]
  },
  {
   "cell_type": "code",
   "execution_count": 15,
   "id": "053a2118-f79e-4a99-a944-59f33c7cfa25",
   "metadata": {},
   "outputs": [],
   "source": [
    "# \n",
    "num_kfs_cycles_t1 = 20 ; num_kfs_folds_t1 = 5 ;\n",
    "num_data_pts = X_2000p_fset1_raw.shape[0]\n",
    "\n",
    "# Initialize the RNG\n",
    "rng_kfs_t1 = np.random.default_rng(seed=1245)\n",
    "rand_kfs_seed_t1 = rng_kfs_t1.integers(1,100000,size=num_kfs_cycles_t1)\n",
    "\n",
    "# Create the data object\n",
    "kfs_mspe_data_t1 = kfold_split_mspe_data()\n",
    "kfs_mspe_data_t1.num_splits = num_kfs_cycles_t1\n",
    "kfs_mspe_data_t1.num_folds = num_kfs_folds_t1\n",
    "\n",
    "# create shuffle split train-val-test samples from the whole dataset\n",
    "for j in range(num_kfs_cycles_t1):\n",
    "    X_kfs_train_t1, X_kfs_test_t1, \\\n",
    "    Y_kfs_train_t1, Y_kfs_test_t1, \\\n",
    "    Yerr_kfs_train_t1, Yerr_kfs_test_t1 = train_test_split(X_2000p_fset1_scaled, Y_fset1_raw, Yerr_fset1_raw,\n",
    "                                         test_size = 0.20, random_state=rand_kfs_seed_t1[j])\n",
    "    \n",
    "    X_kfs_fit_t1  = []  ; X_kfs_val_t1 = []\n",
    "    Y_kfs_fit_t1 = []   ; Y_kfs_val_t1 = []\n",
    "    Yerr_kfs_fit_t1 = []; Yerr_kfs_val_t1 = []\n",
    "\n",
    "    ## Prepare the 5-fold splits\n",
    "    kf = KFold(num_kfs_folds_t1, shuffle=True, random_state=2*rand_kfs_seed_t1[j])\n",
    "\n",
    "    # kf.split iterates over n_splits\n",
    "    for train_ndx, val_ndx in kf.split(X_kfs_train_t1):\n",
    "        X_kfs_fit_t1 .append(X_kfs_train_t1[train_ndx])\n",
    "        X_kfs_val_t1.append(X_kfs_train_t1[val_ndx])\n",
    "        Y_kfs_fit_t1.append(Y_kfs_train_t1[train_ndx])\n",
    "        Y_kfs_val_t1.append(Y_kfs_train_t1[val_ndx])\n",
    "        Yerr_kfs_fit_t1.append(Yerr_kfs_train_t1[train_ndx])\n",
    "        Yerr_kfs_val_t1.append(Yerr_kfs_train_t1[val_ndx])\n",
    "\n",
    "    kfs_mspe_data_t1.X_train_dbllist.append(X_kfs_fit_t1) ; kfs_mspe_data_t1.Y_train_dbllist.append(Y_kfs_fit_t1) ; kfs_mspe_data_t1.Yerr_train_dbllist.append(Yerr_kfs_fit_t1)\n",
    "    kfs_mspe_data_t1.X_val_dbllist.append(X_kfs_val_t1) ; kfs_mspe_data_t1.Y_val_dbllist.append(Y_kfs_val_t1) ; kfs_mspe_data_t1.Yerr_val_dbllist.append(Yerr_kfs_val_t1)\n",
    "    kfs_mspe_data_t1.X_test_list.append(X_kfs_test_t1) ; kfs_mspe_data_t1.Y_test_list.append(Y_kfs_test_t1) ; kfs_mspe_data_t1.Yerr_test_list.append(Yerr_kfs_test_t1)\n",
    "    kfs_mspe_data_t1.X_interp_list.append(X_interp_fset1_scaled) ; kfs_mspe_data_t1.Y_interp_list.append(Y_interp_raw) ; kfs_mspe_data_t1.Yerr_interp_list.append(Yerr_interp_raw)\n",
    "    kfs_mspe_data_t1.X_fit_list.append(X_kfs_train_t1) ; kfs_mspe_data_t1.Y_fit_list.append(Y_kfs_train_t1) ; kfs_mspe_data_t1.Yerr_fit_list.append(Yerr_kfs_train_t1)\n",
    "\n",
    "kfs_mspe_data_t1.num_train_pts = X_kfs_fit_t1[0].shape[0] \n",
    "kfs_mspe_data_t1.num_val_pts = X_kfs_val_t1[0].shape[0] \n",
    "kfs_mspe_data_t1.num_test_pts = X_kfs_test_t1.shape[0] \n",
    "kfs_mspe_data_t1.num_interp_pts = X_interp_fset1_scaled.shape[0] \n",
    "kfs_mspe_data_t1.num_fit_pts = kfs_mspe_data_t1.num_train_pts + kfs_mspe_data_t1.num_val_pts"
   ]
  },
  {
   "cell_type": "code",
   "execution_count": 16,
   "id": "8eb45224-68c9-4dd9-ade7-2a4c26b186f3",
   "metadata": {},
   "outputs": [
    {
     "name": "stdout",
     "output_type": "stream",
     "text": [
      "SPLITS:  20\n",
      "SPLITS:  5\n",
      "TRAIN:  174\n",
      "VAL:  44\n",
      "TEST:  55\n",
      "INTERP:  17\n"
     ]
    },
    {
     "data": {
      "text/plain": [
       "[<matplotlib.lines.Line2D at 0x7fe0580506a0>]"
      ]
     },
     "execution_count": 16,
     "metadata": {},
     "output_type": "execute_result"
    },
    {
     "data": {
      "image/png": "[encoded data removed]",
      "text/plain": [
       "<Figure size 432x288 with 1 Axes>"
      ]
     },
     "metadata": {},
     "output_type": "display_data"
    }
   ],
   "source": [
    "print(\"SPLITS: \",kfs_mspe_data_t1.num_splits)\n",
    "print(\"SPLITS: \",kfs_mspe_data_t1.num_folds)\n",
    "print(\"TRAIN: \",kfs_mspe_data_t1.num_train_pts)\n",
    "print(\"VAL: \",kfs_mspe_data_t1.num_val_pts)\n",
    "print(\"TEST: \",kfs_mspe_data_t1.num_test_pts)\n",
    "print(\"INTERP: \",kfs_mspe_data_t1.num_interp_pts)\n",
    "tmparr = [] ; tmparr2 = [] ; tmparr3 = []\n",
    "for i in range(kfs_mspe_data_t1.num_splits):\n",
    "    tmparr3.append(np.mean(kfs_mspe_data_t1.Y_test_list[i][:]))\n",
    "    for j in range(kfs_mspe_data_t1.num_folds):\n",
    "        # print(\"MEAN visc: {:.2f} \".format(np.mean(kfs_data_t1.Y_train_dbllist[i][j][:])))\n",
    "        tmparr.append(np.mean(kfs_mspe_data_t1.Y_train_dbllist[i][j][:]))\n",
    "        tmparr2.append(np.mean(kfs_mspe_data_t1.Y_val_dbllist[i][j][:]))\n",
    "        \n",
    "plt.plot(tmparr)        \n",
    "plt.plot(tmparr2) \n",
    "plt.plot(tmparr3) "
   ]
  },
  {
   "cell_type": "markdown",
   "id": "ab9e2b48-ede4-4d03-a5e0-172337f89277",
   "metadata": {
    "jp-MarkdownHeadingCollapsed": true,
    "tags": [],
    "toc-hr-collapsed": true
   },
   "source": [
    "## Model classes"
   ]
  },
  {
   "cell_type": "markdown",
   "id": "d666e748-22d0-4cc5-a89b-bd4250843cb3",
   "metadata": {
    "tags": []
   },
   "source": [
    "### Kfold models for mspe -- kfold_split_mspe_models()"
   ]
  },
  {
   "cell_type": "code",
   "execution_count": 17,
   "id": "fdf840b6-d7d8-420c-8299-29caeb6de3ae",
   "metadata": {},
   "outputs": [],
   "source": [
    "# the idea is to use it once for model selection (by saving models to trained_model_dbllist)\n",
    "# then at the selected hyperparameter train the models on the whole fit data set (save the models to fit_model_list)\n",
    "class kfold_split_mspe_models:\n",
    "    def __init__(self):\n",
    "        self.num_splits = 0\n",
    "        self.num_folds = 0\n",
    "        \n",
    "        ## Lists to store the models and their predictions\n",
    "        self.trained_model_dbllist = []\n",
    "        self.fit_model_list = []\n",
    "        self.best_hyperparameter_dict = {}\n",
    "        \n",
    "    def predict(self,kfs_mspe_data,ft_indx):\n",
    "        self.num_train_pts = kfs_mspe_data.num_train_pts\n",
    "        self.num_val_pts = kfs_mspe_data.num_val_pts\n",
    "        self.num_test_pts = kfs_mspe_data.num_test_pts\n",
    "        self.num_interp_pts = kfs_mspe_data.num_interp_pts\n",
    "        self.num_fit_pts = kfs_mspe_data.num_fit_pts\n",
    "        self.ft_indx = ft_indx\n",
    "\n",
    "        ## Lists to store the predicted values\n",
    "        ## Yerr_pred exist only for ANN\n",
    "        self.Y_pred_train_dbllist = [] ; self.Yerr_pred_train_dbllist = []\n",
    "        self.Y_pred_val_dbllist = [] ; self.Yerr_pred_val_dbllist = []\n",
    "        self.Y_pred_test_dbllist = [] ; self.Yerr_pred_test_dbllist = []\n",
    "        self.Y_pred_interp_dbllist = [] ; self.Yerr_pred_interp_dbllist = []\n",
    "        \n",
    "\n",
    "        for i in range(self.num_splits):\n",
    "            tmparr1 = [] ; tmparr2 = [] ; tmparr3 = [] ; tmparr4 = []\n",
    "            for j in range(self.num_folds):\n",
    "                # Train pred\n",
    "                tmparr1.append(\n",
    "                     np.power(10,self.trained_model_dbllist[i][j].predict(\n",
    "                        kfs_mspe_data.X_train_dbllist[i][j][:,ft_indx])))\n",
    "                # Val pred\n",
    "                tmparr2.append(\n",
    "                     np.power(10,self.trained_model_dbllist[i][j].predict(\n",
    "                        kfs_mspe_data.X_val_dbllist[i][j][:,ft_indx])))\n",
    "                # Test pred\n",
    "                tmparr3.append(\n",
    "                     np.power(10,self.trained_model_dbllist[i][j].predict(\n",
    "                        kfs_mspe_data.X_test_list[i][:,ft_indx])))\n",
    "                # Interp pred\n",
    "                tmparr4.append(\n",
    "                     np.power(10,self.trained_model_dbllist[i][j].predict(\n",
    "                        kfs_mspe_data.X_interp_list[i][:,ft_indx])))\n",
    "            \n",
    "            ## store the predictions\n",
    "            self.Y_pred_train_dbllist.append(tmparr1)\n",
    "            self.Y_pred_val_dbllist.append(tmparr2)\n",
    "            self.Y_pred_test_dbllist.append(tmparr3)\n",
    "            self.Y_pred_interp_dbllist.append(tmparr4)\n",
    "\n",
    "    def predict_for_performance_evaluation(self,kfs_mspe_data,ft_indx):\n",
    "        ## Lists to store the predicted values for performance evaluation\n",
    "        ## ideally to be evaluated at optimized hyperparameter values (though this class doesn't care)\n",
    "        ## Yerr_pred exist only for ANN\n",
    "        self.Y_pred_pe_fit_list = [] ; self.Yerr_pred_pe_fit_list = []\n",
    "        self.Y_pred_pe_test_list = [] ; self.Yerr_pred_pe_test_list = []\n",
    "        self.Y_pred_pe_interp_list = [] ; self.Yerr_pred_pe_interp_list = []\n",
    "        \n",
    "        for i in range(self.num_splits):\n",
    "            # Train pred\n",
    "            tmparr1 = np.power(10,self.fit_model_list[i].predict(\n",
    "                    kfs_mspe_data.X_fit_list[i][:,ft_indx]))\n",
    "            # Test pred\n",
    "            tmparr3 = np.power(10,self.fit_model_list[i].predict(\n",
    "                    kfs_mspe_data.X_test_list[i][:,ft_indx]))\n",
    "            # Interp pred\n",
    "            tmparr4 = np.power(10,self.fit_model_list[i].predict(\n",
    "                    kfs_mspe_data.X_interp_list[i][:,ft_indx]))\n",
    "            \n",
    "            ## store the predictions\n",
    "            self.Y_pred_pe_fit_list.append(tmparr1)\n",
    "            self.Y_pred_pe_test_list.append(tmparr3)\n",
    "            self.Y_pred_pe_interp_list.append(tmparr4)"
   ]
  },
  {
   "cell_type": "markdown",
   "id": "cc05d1f9-924a-4664-8d32-5f21d4e45976",
   "metadata": {
    "tags": []
   },
   "source": [
    "## Metric classes"
   ]
  },
  {
   "cell_type": "markdown",
   "id": "2e5345a3-0c4d-4b57-ac2d-ce86c4049038",
   "metadata": {
    "jp-MarkdownHeadingCollapsed": true,
    "tags": []
   },
   "source": [
    "### metric class to store the final results in one place -- metric_obj()"
   ]
  },
  {
   "cell_type": "code",
   "execution_count": 18,
   "id": "1f9cf1bb-c720-413d-a5a8-dff8fa882d62",
   "metadata": {},
   "outputs": [],
   "source": [
    "class metric_obj:\n",
    "    def __init__(self):\n",
    "        self.val_MSE_avg = 0\n",
    "        self.val_MAE_avg = 0\n",
    "        self.val_MAPE_avg = 0\n",
    "        self.val_R2_avg = 0\n",
    "        self.val_ME_avg = 0\n",
    "        self.val_MPE_avg = 0\n",
    "        self.val_MSE_std = 0\n",
    "        self.val_MAE_std = 0\n",
    "        self.val_MAPE_std = 0\n",
    "        self.val_R2_std = 0\n",
    "        self.val_ME_std = 0\n",
    "        self.val_MPE_std = 0\n",
    "\n",
    "        self.test_MSE_avg = 0\n",
    "        self.test_MAE_avg = 0\n",
    "        self.test_MAPE_avg = 0\n",
    "        self.test_R2_avg = 0\n",
    "        self.test_ME_avg = 0\n",
    "        self.test_MPE_avg = 0\n",
    "        self.test_MSE_std = 0\n",
    "        self.test_MAE_std = 0\n",
    "        self.test_MAPE_std = 0\n",
    "        self.test_R2_std = 0\n",
    "        self.test_ME_std = 0\n",
    "        self.test_MPE_std = 0\n",
    "\n",
    "        self.interp_MSE_avg = 0\n",
    "        self.interp_MAE_avg = 0\n",
    "        self.interp_MAPE_avg = 0\n",
    "        self.interp_R2_avg = 0\n",
    "        self.interp_ME_avg = 0\n",
    "        self.interp_MPE_avg = 0\n",
    "        self.interp_MSE_std = 0\n",
    "        self.interp_MAE_std = 0\n",
    "        self.interp_MAPE_std = 0\n",
    "        self.interp_R2_std = 0\n",
    "        self.interp_ME_std = 0\n",
    "        self.interp_MPE_std = 0\n",
    "\n",
    "        self.train_MSE_avg = 0\n",
    "        self.train_MAE_avg = 0\n",
    "        self.train_MAPE_avg = 0\n",
    "        self.train_R2_avg = 0\n",
    "        self.train_ME_avg = 0\n",
    "        self.train_MPE_avg = 0\n",
    "        self.train_MSE_std = 0\n",
    "        self.train_MAE_std = 0\n",
    "        self.train_MAPE_std = 0\n",
    "        self.train_R2_std = 0\n",
    "        self.train_ME_std = 0\n",
    "        self.train_MPE_std = 0\n",
    "\n",
    "        ## quantile\n",
    "        self.val_MSE_median = 0\n",
    "        self.val_MAE_median = 0\n",
    "        self.val_MAPE_median = 0\n",
    "        self.val_R2_median = 0\n",
    "        self.val_ME_median = 0\n",
    "        self.val_MPE_median = 0\n",
    "        self.val_MSE_q2p5 = 0 ; self.val_MSE_q97p5 = 0\n",
    "        self.val_MAE_q2p5 = 0 ; self.val_MAE_q97p5 = 0\n",
    "        self.val_MAPE_q2p5 = 0 ; self.val_MAPE_q97p5 = 0\n",
    "        self.val_R2_q2p5 = 0 ; self.val_R2_q97p5 = 0\n",
    "        self.val_ME_q2p5 = 0 ; self.val_ME_q97p5 = 0\n",
    "        self.val_MPE_q2p5 = 0 ; self.val_MPE_q97p5 = 0\n",
    "\n",
    "        self.test_MSE_median = 0\n",
    "        self.test_MAE_median = 0\n",
    "        self.test_MAPE_median = 0\n",
    "        self.test_R2_median = 0\n",
    "        self.test_ME_median = 0\n",
    "        self.test_MPE_median = 0\n",
    "        self.test_MSE_q2p5 = 0 ; self.test_MSE_q97p5 = 0\n",
    "        self.test_MAE_q2p5 = 0 ; self.test_MAE_q97p5 = 0\n",
    "        self.test_MAPE_q2p5 = 0 ; self.test_MAPE_q97p5 = 0\n",
    "        self.test_R2_q2p5 = 0 ; self.test_R2_q97p5 = 0\n",
    "        self.test_ME_q2p5 = 0 ; self.test_ME_q97p5 = 0\n",
    "        self.test_MPE_q2p5 = 0 ; self.test_MPE_q97p5 = 0\n",
    "\n",
    "        self.interp_MSE_median = 0\n",
    "        self.interp_MAE_median = 0\n",
    "        self.interp_MAPE_median = 0\n",
    "        self.interp_R2_median = 0\n",
    "        self.interp_ME_median = 0\n",
    "        self.interp_MPE_median = 0\n",
    "        self.interp_MSE_q2p5 = 0 ; self.interp_MSE_q97p5 = 0\n",
    "        self.interp_MAE_q2p5 = 0 ; self.interp_MAE_q97p5 = 0\n",
    "        self.interp_MAPE_q2p5 = 0 ; self.interp_MAPE_q97p5 = 0\n",
    "        self.interp_R2_q2p5 = 0 ; self.interp_R2_q97p5 = 0\n",
    "        self.interp_ME_q2p5 = 0 ; self.interp_ME_q97p5 = 0\n",
    "        self.interp_MPE_q2p5 = 0 ; self.interp_MPE_q97p5 = 0\n",
    "\n",
    "        self.train_MSE_median = 0\n",
    "        self.train_MAE_median = 0\n",
    "        self.train_MAPE_median = 0\n",
    "        self.train_R2_median = 0\n",
    "        self.train_ME_median = 0\n",
    "        self.train_MPE_median = 0\n",
    "        self.train_MSE_q2p5 = 0 ; self.train_MSE_q97p5 = 0\n",
    "        self.train_MAE_q2p5 = 0 ; self.train_MAE_q97p5 = 0\n",
    "        self.train_MAPE_q2p5 = 0 ; self.train_MAPE_q97p5 = 0\n",
    "        self.train_R2_q2p5 = 0 ; self.train_R2_q97p5 = 0\n",
    "        self.train_ME_q2p5 = 0 ; self.train_ME_q97p5 = 0\n",
    "        self.train_MPE_q2p5 = 0 ; self.train_MPE_q97p5 = 0\n",
    "        \n",
    "        self.ndx = 0"
   ]
  },
  {
   "cell_type": "markdown",
   "id": "bcf35a7f-6d74-4786-82a9-feddc51fa96d",
   "metadata": {
    "jp-MarkdownHeadingCollapsed": true,
    "tags": []
   },
   "source": [
    "### metric class for mspe -- kfs_mspe_metrics()"
   ]
  },
  {
   "cell_type": "code",
   "execution_count": 19,
   "id": "3d1a60ec-19d6-40b8-9ed5-6f06c6e7c01b",
   "metadata": {},
   "outputs": [],
   "source": [
    "class kfs_mspe_metrics:\n",
    "    def __init__(self):\n",
    "        self.num_splits = 0\n",
    "        self.num_folds = 0\n",
    "\n",
    "    def est_errors(self,kfs_mspe_data,kfs_mspe_models):\n",
    "        self.num_splits = kfs_mspe_data.num_splits\n",
    "        self.num_folds = kfs_mspe_data.num_folds\n",
    "        self.num_train_pts = kfs_mspe_data.num_train_pts\n",
    "        self.num_val_pts = kfs_mspe_data.num_val_pts\n",
    "        self.num_test_pts = kfs_mspe_data.num_test_pts\n",
    "        self.num_interp_pts = kfs_mspe_data.num_interp_pts\n",
    "        self.num_fit_pts = kfs_mspe_data.num_fit_pts\n",
    "        self.ft_indx = kfs_mspe_models.ft_indx\n",
    "\n",
    "        ## Lists to store the model fold+split errors\n",
    "        self.MSE_train_split_fold = np.zeros((self.num_splits,self.num_folds))\n",
    "        self.MAE_train_split_fold = np.zeros((self.num_splits,self.num_folds))\n",
    "        self.MAPE_train_split_fold = np.zeros((self.num_splits,self.num_folds))\n",
    "        self.R2_train_split_fold = np.zeros((self.num_splits,self.num_folds))\n",
    "        self.ME_train_split_fold = np.zeros((self.num_splits,self.num_folds))\n",
    "        self.MPE_train_split_fold = np.zeros((self.num_splits,self.num_folds))\n",
    "\n",
    "        self.MSE_val_split_fold = np.zeros((self.num_splits,self.num_folds)) \n",
    "        self.MAE_val_split_fold = np.zeros((self.num_splits,self.num_folds)) \n",
    "        self.MAPE_val_split_fold = np.zeros((self.num_splits,self.num_folds)) \n",
    "        self.R2_val_split_fold = np.zeros((self.num_splits,self.num_folds)) \n",
    "        self.ME_val_split_fold = np.zeros((self.num_splits,self.num_folds)) \n",
    "        self.MPE_val_split_fold = np.zeros((self.num_splits,self.num_folds)) \n",
    "\n",
    "        self.MSE_test_split_fold = np.zeros((self.num_splits,self.num_folds)) \n",
    "        self.MAE_test_split_fold = np.zeros((self.num_splits,self.num_folds)) \n",
    "        self.MAPE_test_split_fold = np.zeros((self.num_splits,self.num_folds)) \n",
    "        self.R2_test_split_fold = np.zeros((self.num_splits,self.num_folds)) \n",
    "        self.ME_test_split_fold = np.zeros((self.num_splits,self.num_folds)) \n",
    "        self.MPE_test_split_fold = np.zeros((self.num_splits,self.num_folds)) \n",
    "\n",
    "        self.MSE_interp_split_fold = np.zeros((self.num_splits,self.num_folds))\n",
    "        self.MAE_interp_split_fold = np.zeros((self.num_splits,self.num_folds))\n",
    "        self.MAPE_interp_split_fold = np.zeros((self.num_splits,self.num_folds))\n",
    "        self.R2_interp_split_fold = np.zeros((self.num_splits,self.num_folds))\n",
    "        self.ME_interp_split_fold = np.zeros((self.num_splits,self.num_folds))\n",
    "        self.MPE_interp_split_fold = np.zeros((self.num_splits,self.num_folds))\n",
    "\n",
    "        for i in range(self.num_splits):\n",
    "            for j in range(self.num_folds):\n",
    "                # Train errors\n",
    "                self.MSE_train_split_fold[i,j] = mean_squared_error(kfs_mspe_data.Y_train_dbllist[i][j],kfs_mspe_models.Y_pred_train_dbllist[i][j])\n",
    "                self.MAE_train_split_fold[i,j] = mean_absolute_error(kfs_mspe_data.Y_train_dbllist[i][j],kfs_mspe_models.Y_pred_train_dbllist[i][j])\n",
    "                self.MAPE_train_split_fold[i,j] = 100*mean_absolute_percentage_error(kfs_mspe_data.Y_train_dbllist[i][j],kfs_mspe_models.Y_pred_train_dbllist[i][j])\n",
    "                self.R2_train_split_fold[i,j] = r2_score(kfs_mspe_data.Y_train_dbllist[i][j],kfs_mspe_models.Y_pred_train_dbllist[i][j])\n",
    "                tmparr = kfs_mspe_models.Y_pred_train_dbllist[i][j]-kfs_mspe_data.Y_train_dbllist[i][j]\n",
    "                self.ME_train_split_fold[i,j] = np.mean(tmparr)\n",
    "                self.MPE_train_split_fold[i,j] = 100*np.mean((tmparr)/kfs_mspe_data.Y_train_dbllist[i][j])\n",
    "\n",
    "                # Val errors\n",
    "                self.MSE_val_split_fold[i,j] = mean_squared_error(kfs_mspe_data.Y_val_dbllist[i][j],kfs_mspe_models.Y_pred_val_dbllist[i][j])\n",
    "                self.MAE_val_split_fold[i,j] = mean_absolute_error(kfs_mspe_data.Y_val_dbllist[i][j],kfs_mspe_models.Y_pred_val_dbllist[i][j])\n",
    "                self.MAPE_val_split_fold[i,j] = 100*mean_absolute_percentage_error(kfs_mspe_data.Y_val_dbllist[i][j],kfs_mspe_models.Y_pred_val_dbllist[i][j])\n",
    "                self.R2_val_split_fold[i,j] = r2_score(kfs_mspe_data.Y_val_dbllist[i][j],kfs_mspe_models.Y_pred_val_dbllist[i][j])\n",
    "                tmparr = kfs_mspe_models.Y_pred_val_dbllist[i][j]-kfs_mspe_data.Y_val_dbllist[i][j]\n",
    "                self.ME_val_split_fold[i,j] = np.mean(tmparr)\n",
    "                self.MPE_val_split_fold[i,j] = 100*np.mean((tmparr)/kfs_mspe_data.Y_val_dbllist[i][j])\n",
    "\n",
    "                # Test errors\n",
    "                self.MSE_test_split_fold[i,j] = mean_squared_error(kfs_mspe_data.Y_test_list[i],kfs_mspe_models.Y_pred_test_dbllist[i][j])\n",
    "                self.MAE_test_split_fold[i,j] = mean_absolute_error(kfs_mspe_data.Y_test_list[i],kfs_mspe_models.Y_pred_test_dbllist[i][j])\n",
    "                self.MAPE_test_split_fold[i,j] = 100*mean_absolute_percentage_error(kfs_mspe_data.Y_test_list[i],kfs_mspe_models.Y_pred_test_dbllist[i][j])\n",
    "                self.R2_test_split_fold[i,j] = r2_score(kfs_mspe_data.Y_test_list[i],kfs_mspe_models.Y_pred_test_dbllist[i][j])\n",
    "                tmparr = kfs_mspe_models.Y_pred_test_dbllist[i][j]-kfs_mspe_data.Y_test_list[i]\n",
    "                self.ME_test_split_fold[i,j] = np.mean(tmparr)\n",
    "                self.MPE_test_split_fold[i,j] = 100*np.mean((tmparr)/kfs_mspe_data.Y_test_list[i])\n",
    "\n",
    "                # Interp errors\n",
    "                self.MSE_interp_split_fold[i,j] = mean_squared_error(kfs_mspe_data.Y_interp_list[i],kfs_mspe_models.Y_pred_interp_dbllist[i][j])\n",
    "                self.MAE_interp_split_fold[i,j] = mean_absolute_error(kfs_mspe_data.Y_interp_list[i],kfs_mspe_models.Y_pred_interp_dbllist[i][j])\n",
    "                self.MAPE_interp_split_fold[i,j] = 100*mean_absolute_percentage_error(kfs_mspe_data.Y_interp_list[i],kfs_mspe_models.Y_pred_interp_dbllist[i][j])\n",
    "                self.R2_interp_split_fold[i,j] = r2_score(kfs_mspe_data.Y_interp_list[i],kfs_mspe_models.Y_pred_interp_dbllist[i][j])\n",
    "                tmparr = kfs_mspe_models.Y_pred_interp_dbllist[i][j]-kfs_mspe_data.Y_interp_list[i]\n",
    "                self.ME_interp_split_fold[i,j] = np.mean(tmparr)\n",
    "                self.MPE_interp_split_fold[i,j] = 100*np.mean((tmparr)/kfs_mspe_data.Y_interp_list[i])\n",
    "        \n",
    "        # Now evaluate the statistics on the above metrics\n",
    "        self._stat_errors()\n",
    "\n",
    "    def est_errors_for_performance_evaluation(self,kfs_mspe_data,kfs_mspe_models):\n",
    "        # Note that the model object's fit_model_list[] has to be populated before this function is called\n",
    "        self.best_hyperparameter_dict = kfs_mspe_models.best_hyperparameter_dict\n",
    "\n",
    "        ## Lists to store the model fold+split errors\n",
    "        self.MSE_mspe_fit_split = np.zeros(self.num_splits)\n",
    "        self.MAE_mspe_fit_split = np.zeros(self.num_splits)\n",
    "        self.MAPE_mspe_fit_split = np.zeros(self.num_splits)\n",
    "        self.R2_mspe_fit_split = np.zeros(self.num_splits)\n",
    "        self.ME_mspe_fit_split = np.zeros(self.num_splits)\n",
    "        self.MPE_mspe_fit_split = np.zeros(self.num_splits)\n",
    "\n",
    "        self.MSE_mspe_test_split = np.zeros(self.num_splits)\n",
    "        self.MAE_mspe_test_split = np.zeros(self.num_splits)\n",
    "        self.MAPE_mspe_test_split = np.zeros(self.num_splits)\n",
    "        self.R2_mspe_test_split = np.zeros(self.num_splits)\n",
    "        self.ME_mspe_test_split = np.zeros(self.num_splits)\n",
    "        self.MPE_mspe_test_split = np.zeros(self.num_splits)\n",
    "\n",
    "        self.MSE_mspe_interp_split = np.zeros(self.num_splits)\n",
    "        self.MAE_mspe_interp_split = np.zeros(self.num_splits)\n",
    "        self.MAPE_mspe_interp_split = np.zeros(self.num_splits)\n",
    "        self.R2_mspe_interp_split = np.zeros(self.num_splits)\n",
    "        self.ME_mspe_interp_split = np.zeros(self.num_splits)\n",
    "        self.MPE_mspe_interp_split = np.zeros(self.num_splits)\n",
    "\n",
    "        for i in range(self.num_splits):\n",
    "            # Train errors\n",
    "            self.MSE_mspe_fit_split[i] = mean_squared_error(kfs_mspe_data.Y_fit_list[i],kfs_mspe_models.Y_pred_pe_fit_list[i])\n",
    "            self.MAE_mspe_fit_split[i] = mean_absolute_error(kfs_mspe_data.Y_fit_list[i],kfs_mspe_models.Y_pred_pe_fit_list[i])\n",
    "            self.MAPE_mspe_fit_split[i] = 100*mean_absolute_percentage_error(kfs_mspe_data.Y_fit_list[i],kfs_mspe_models.Y_pred_pe_fit_list[i])\n",
    "            self.R2_mspe_fit_split[i] = r2_score(kfs_mspe_data.Y_fit_list[i],kfs_mspe_models.Y_pred_pe_fit_list[i])\n",
    "            tmparr = kfs_mspe_models.Y_pred_pe_fit_list[i]-kfs_mspe_data.Y_fit_list[i]\n",
    "            self.ME_mspe_fit_split[i] = np.mean(tmparr)\n",
    "            self.MPE_mspe_fit_split[i] = 100*np.mean((tmparr)/kfs_mspe_data.Y_fit_list[i])\n",
    "\n",
    "            # Test errors\n",
    "            self.MSE_mspe_test_split[i] = mean_squared_error(kfs_mspe_data.Y_test_list[i],kfs_mspe_models.Y_pred_pe_test_list[i])\n",
    "            self.MAE_mspe_test_split[i] = mean_absolute_error(kfs_mspe_data.Y_test_list[i],kfs_mspe_models.Y_pred_pe_test_list[i])\n",
    "            self.MAPE_mspe_test_split[i] = 100*mean_absolute_percentage_error(kfs_mspe_data.Y_test_list[i],kfs_mspe_models.Y_pred_pe_test_list[i])\n",
    "            self.R2_mspe_test_split[i] = r2_score(kfs_mspe_data.Y_test_list[i],kfs_mspe_models.Y_pred_pe_test_list[i])\n",
    "            tmparr = kfs_mspe_models.Y_pred_pe_test_list[i]-kfs_mspe_data.Y_test_list[i]\n",
    "            self.ME_mspe_test_split[i] = np.mean(tmparr)\n",
    "            self.MPE_mspe_test_split[i] = 100*np.mean((tmparr)/kfs_mspe_data.Y_test_list[i])\n",
    "\n",
    "            # Interp errors\n",
    "            self.MSE_mspe_interp_split[i] = mean_squared_error(kfs_mspe_data.Y_interp_list[i],kfs_mspe_models.Y_pred_pe_interp_list[i])\n",
    "            self.MAE_mspe_interp_split[i] = mean_absolute_error(kfs_mspe_data.Y_interp_list[i],kfs_mspe_models.Y_pred_pe_interp_list[i])\n",
    "            self.MAPE_mspe_interp_split[i] = 100*mean_absolute_percentage_error(kfs_mspe_data.Y_interp_list[i],kfs_mspe_models.Y_pred_pe_interp_list[i])\n",
    "            self.R2_mspe_interp_split[i] = r2_score(kfs_mspe_data.Y_interp_list[i],kfs_mspe_models.Y_pred_pe_interp_list[i])\n",
    "            tmparr = kfs_mspe_models.Y_pred_pe_interp_list[i]-kfs_mspe_data.Y_interp_list[i]\n",
    "            self.ME_mspe_interp_split[i] = np.mean(tmparr)\n",
    "            self.MPE_mspe_interp_split[i] = 100*np.mean((tmparr)/kfs_mspe_data.Y_interp_list[i])\n",
    "\n",
    "        ## Lists to store the mean model errors\n",
    "        self.MSE_mspe_fit_avg = np.mean(self.MSE_mspe_fit_split) ; self.MSE_mspe_fit_std = np.std(self.MSE_mspe_fit_split)\n",
    "        self.MAE_mspe_fit_avg = np.mean(self.MAE_mspe_fit_split) ; self.MAE_mspe_fit_std = np.std(self.MAE_mspe_fit_split)\n",
    "        self.MAPE_mspe_fit_avg = np.mean(self.MAPE_mspe_fit_split) ; self.MAPE_mspe_fit_std = np.std(self.MAPE_mspe_fit_split)\n",
    "        self.R2_mspe_fit_avg = np.mean(self.R2_mspe_fit_split) ; self.R2_mspe_fit_std = np.std(self.R2_mspe_fit_split)\n",
    "        self.ME_mspe_fit_avg = np.mean(self.ME_mspe_fit_split) ; self.ME_mspe_fit_std = np.std(self.ME_mspe_fit_split)\n",
    "        self.MPE_mspe_fit_avg = np.mean(self.MPE_mspe_fit_split) ; self.MPE_mspe_fit_std = np.std(self.MPE_mspe_fit_split)\n",
    "\n",
    "        self.MSE_mspe_test_avg = np.mean(self.MSE_mspe_test_split) ; self.MSE_mspe_test_std = np.std(self.MSE_mspe_test_split)\n",
    "        self.MAE_mspe_test_avg = np.mean(self.MAE_mspe_test_split) ; self.MAE_mspe_test_std = np.std(self.MAE_mspe_test_split)\n",
    "        self.MAPE_mspe_test_avg = np.mean(self.MAPE_mspe_test_split) ; self.MAPE_mspe_test_std = np.std(self.MAPE_mspe_test_split)\n",
    "        self.R2_mspe_test_avg = np.mean(self.R2_mspe_test_split) ; self.R2_mspe_test_std = np.std(self.R2_mspe_test_split)\n",
    "        self.ME_mspe_test_avg = np.mean(self.ME_mspe_test_split) ; self.ME_mspe_test_std = np.std(self.ME_mspe_test_split)\n",
    "        self.MPE_mspe_test_avg = np.mean(self.MPE_mspe_test_split) ; self.MPE_mspe_test_std = np.std(self.MPE_mspe_test_split)\n",
    "        \n",
    "        self.MSE_mspe_interp_avg = np.mean(self.MSE_mspe_interp_split) ; self.MSE_mspe_interp_std = np.std(self.MSE_mspe_interp_split)\n",
    "        self.MAE_mspe_interp_avg = np.mean(self.MAE_mspe_interp_split) ; self.MAE_mspe_interp_std = np.std(self.MAE_mspe_interp_split)\n",
    "        self.MAPE_mspe_interp_avg = np.mean(self.MAPE_mspe_interp_split) ; self.MAPE_mspe_interp_std = np.std(self.MAPE_mspe_interp_split)\n",
    "        self.R2_mspe_interp_avg = np.mean(self.R2_mspe_interp_split) ; self.R2_mspe_interp_std = np.std(self.R2_mspe_interp_split)\n",
    "        self.ME_mspe_interp_avg = np.mean(self.ME_mspe_interp_split) ; self.ME_mspe_interp_std = np.std(self.ME_mspe_interp_split)\n",
    "        self.MPE_mspe_interp_avg = np.mean(self.MPE_mspe_interp_split) ; self.MPE_mspe_interp_std = np.std(self.MPE_mspe_interp_split)\n",
    "\n",
    "        ## Lists to store the mean model errors\n",
    "        self.MSE_mspe_fit_median = np.median(self.MSE_mspe_fit_split) ; self.MSE_mspe_fit_q2p5 = np.percentile(self.MSE_mspe_fit_split,2.5) ; self.MSE_mspe_fit_q97p5 = np.percentile(self.MSE_mspe_fit_split,97.5)\n",
    "        self.MAE_mspe_fit_median = np.median(self.MAE_mspe_fit_split) ; self.MAE_mspe_fit_q2p5 = np.percentile(self.MAE_mspe_fit_split,2.5) ; self.MAE_mspe_fit_q97p5 = np.percentile(self.MAE_mspe_fit_split,97.5)\n",
    "        self.MAPE_mspe_fit_median = np.median(self.MAPE_mspe_fit_split) ; self.MAPE_mspe_fit_q2p5 = np.percentile(self.MAPE_mspe_fit_split,2.5) ; self.MAPE_mspe_fit_q97p5 = np.percentile(self.MAPE_mspe_fit_split,97.5)\n",
    "        self.R2_mspe_fit_median = np.median(self.R2_mspe_fit_split) ; self.R2_mspe_fit_q2p5 = np.percentile(self.R2_mspe_fit_split,2.5) ; self.R2_mspe_fit_q97p5 = np.percentile(self.R2_mspe_fit_split,97.5)\n",
    "        self.ME_mspe_fit_median = np.median(self.ME_mspe_fit_split) ; self.ME_mspe_fit_q2p5 = np.percentile(self.ME_mspe_fit_split,2.5) ; self.ME_mspe_fit_q97p5 = np.percentile(self.ME_mspe_fit_split,97.5)\n",
    "        self.MPE_mspe_fit_median = np.median(self.MPE_mspe_fit_split) ; self.MPE_mspe_fit_q2p5 = np.percentile(self.MPE_mspe_fit_split,2.5) ; self.MPE_mspe_fit_q97p5 = np.percentile(self.MPE_mspe_fit_split,97.5)\n",
    "\n",
    "        self.MSE_mspe_test_median = np.median(self.MSE_mspe_test_split) ; self.MSE_mspe_test_q2p5 = np.percentile(self.MSE_mspe_test_split,2.5) ; self.MSE_mspe_test_q97p5 = np.percentile(self.MSE_mspe_test_split,97.5)\n",
    "        self.MAE_mspe_test_median = np.median(self.MAE_mspe_test_split) ; self.MAE_mspe_test_q2p5 = np.percentile(self.MAE_mspe_test_split,2.5) ; self.MAE_mspe_test_q97p5 = np.percentile(self.MAE_mspe_test_split,97.5)\n",
    "        self.MAPE_mspe_test_median = np.median(self.MAPE_mspe_test_split) ; self.MAPE_mspe_test_q2p5 = np.percentile(self.MAPE_mspe_test_split,2.5) ; self.MAPE_mspe_test_q97p5 = np.percentile(self.MAPE_mspe_test_split,97.5)\n",
    "        self.R2_mspe_test_median = np.median(self.R2_mspe_test_split) ; self.R2_mspe_test_q2p5 = np.percentile(self.R2_mspe_test_split,2.5) ; self.R2_mspe_test_q97p5 = np.percentile(self.R2_mspe_test_split,97.5)\n",
    "        self.ME_mspe_test_median = np.median(self.ME_mspe_test_split) ; self.ME_mspe_test_q2p5 = np.percentile(self.ME_mspe_test_split,2.5) ; self.ME_mspe_test_q97p5 = np.percentile(self.ME_mspe_test_split,97.5)\n",
    "        self.MPE_mspe_test_median = np.median(self.MPE_mspe_test_split) ; self.MPE_mspe_test_q2p5 = np.percentile(self.MPE_mspe_test_split,2.5) ; self.MPE_mspe_test_q97p5 = np.percentile(self.MPE_mspe_test_split,97.5)\n",
    "        \n",
    "        self.MSE_mspe_interp_median = np.median(self.MSE_mspe_interp_split) ; self.MSE_mspe_interp_q2p5 = np.percentile(self.MSE_mspe_interp_split,2.5) ; self.MSE_mspe_interp_q97p5 = np.percentile(self.MSE_mspe_interp_split,97.5)\n",
    "        self.MAE_mspe_interp_median = np.median(self.MAE_mspe_interp_split) ; self.MAE_mspe_interp_q2p5 = np.percentile(self.MAE_mspe_interp_split,2.5) ; self.MAE_mspe_interp_q97p5 = np.percentile(self.MAE_mspe_interp_split,97.5)\n",
    "        self.MAPE_mspe_interp_median = np.median(self.MAPE_mspe_interp_split) ; self.MAPE_mspe_interp_q2p5 = np.percentile(self.MAPE_mspe_interp_split,2.5) ; self.MAPE_mspe_interp_q97p5 = np.percentile(self.MAPE_mspe_interp_split,97.5)\n",
    "        self.R2_mspe_interp_median = np.median(self.R2_mspe_interp_split) ; self.R2_mspe_interp_q2p5 = np.percentile(self.R2_mspe_interp_split,2.5) ; self.R2_mspe_interp_q97p5 = np.percentile(self.R2_mspe_interp_split,97.5)\n",
    "        self.ME_mspe_interp_median = np.median(self.ME_mspe_interp_split) ; self.ME_mspe_interp_q2p5 = np.percentile(self.ME_mspe_interp_split,2.5) ; self.ME_mspe_interp_q97p5 = np.percentile(self.ME_mspe_interp_split,97.5)\n",
    "        self.MPE_mspe_interp_median = np.median(self.MPE_mspe_interp_split) ; self.MPE_mspe_interp_q2p5 = np.percentile(self.MPE_mspe_interp_split,2.5) ; self.MPE_mspe_interp_q97p5 = np.percentile(self.MPE_mspe_interp_split,97.5)\n",
    "            \n",
    "    def _stat_errors(self):\n",
    "\n",
    "        ## Lists to store the model split errors\n",
    "        self.MSE_train_split = np.zeros(self.num_splits)\n",
    "        self.MAE_train_split = np.zeros(self.num_splits)\n",
    "        self.MAPE_train_split = np.zeros(self.num_splits)\n",
    "        self.R2_train_split = np.zeros(self.num_splits)\n",
    "        self.ME_train_split = np.zeros(self.num_splits)\n",
    "        self.MPE_train_split = np.zeros(self.num_splits)\n",
    "\n",
    "        self.MSE_val_split = np.zeros(self.num_splits) \n",
    "        self.MAE_val_split = np.zeros(self.num_splits) \n",
    "        self.MAPE_val_split = np.zeros(self.num_splits) \n",
    "        self.R2_val_split = np.zeros(self.num_splits) \n",
    "        self.ME_val_split = np.zeros(self.num_splits) \n",
    "        self.MPE_val_split = np.zeros(self.num_splits) \n",
    "\n",
    "        self.MSE_test_split = np.zeros(self.num_splits) \n",
    "        self.MAE_test_split = np.zeros(self.num_splits) \n",
    "        self.MAPE_test_split = np.zeros(self.num_splits) \n",
    "        self.R2_test_split = np.zeros(self.num_splits) \n",
    "        self.ME_test_split = np.zeros(self.num_splits) \n",
    "        self.MPE_test_split = np.zeros(self.num_splits) \n",
    "\n",
    "        self.MSE_interp_split = np.zeros(self.num_splits)\n",
    "        self.MAE_interp_split = np.zeros(self.num_splits)\n",
    "        self.MAPE_interp_split = np.zeros(self.num_splits)\n",
    "        self.R2_interp_split = np.zeros(self.num_splits)\n",
    "        self.ME_interp_split = np.zeros(self.num_splits)\n",
    "        self.MPE_interp_split = np.zeros(self.num_splits)\n",
    "\n",
    "        # Estimate the mean over the folds\n",
    "        for i in range(self.num_splits):\n",
    "            self.MSE_train_split[i] = np.mean(self.MSE_train_split_fold[i,:])\n",
    "            self.MAE_train_split[i] = np.mean(self.MAE_train_split_fold[i,:])\n",
    "            self.MAPE_train_split[i] = np.mean(self.MAPE_train_split_fold[i,:])\n",
    "            self.R2_train_split[i] = np.mean(self.R2_train_split_fold[i,:])\n",
    "            self.ME_train_split[i] = np.mean(self.ME_train_split_fold[i,:])\n",
    "            self.MPE_train_split[i] = np.mean(self.MPE_train_split_fold[i,:])\n",
    "\n",
    "            self.MSE_val_split[i] = np.mean(self.MSE_val_split_fold[i,:]) \n",
    "            self.MAE_val_split[i] = np.mean(self.MAE_val_split_fold[i,:]) \n",
    "            self.MAPE_val_split[i] = np.mean(self.MAPE_val_split_fold[i,:]) \n",
    "            self.R2_val_split[i] = np.mean(self.R2_val_split_fold[i,:]) \n",
    "            self.ME_val_split[i] = np.mean(self.ME_val_split_fold[i,:]) \n",
    "            self.MPE_val_split[i] = np.mean(self.MPE_val_split_fold[i,:]) \n",
    "\n",
    "            self.MSE_test_split[i] = np.mean(self.MSE_test_split_fold[i,:]) \n",
    "            self.MAE_test_split[i] = np.mean(self.MAE_test_split_fold[i,:]) \n",
    "            self.MAPE_test_split[i] = np.mean(self.MAPE_test_split_fold[i,:]) \n",
    "            self.R2_test_split[i] = np.mean(self.R2_test_split_fold[i,:]) \n",
    "            self.ME_test_split[i] = np.mean(self.ME_test_split_fold[i,:]) \n",
    "            self.MPE_test_split[i] = np.mean(self.MPE_test_split_fold[i,:]) \n",
    "\n",
    "            self.MSE_interp_split[i] = np.mean(self.MSE_interp_split_fold[i,:])\n",
    "            self.MAE_interp_split[i] = np.mean(self.MAE_interp_split_fold[i,:])\n",
    "            self.MAPE_interp_split[i] = np.mean(self.MAPE_interp_split_fold[i,:])\n",
    "            self.R2_interp_split[i] = np.mean(self.R2_interp_split_fold[i,:])\n",
    "            self.ME_interp_split[i] = np.mean(self.ME_interp_split_fold[i,:])\n",
    "            self.MPE_interp_split[i] = np.mean(self.MPE_interp_split_fold[i,:])\n",
    "\n",
    "\n",
    "        ## Lists to store the mean model errors\n",
    "        self.MSE_train_avg = np.mean(self.MSE_train_split) ; self.MSE_train_std = np.std(self.MSE_train_split)\n",
    "        self.MAE_train_avg = np.mean(self.MAE_train_split) ; self.MAE_train_std = np.std(self.MAE_train_split)\n",
    "        self.MAPE_train_avg = np.mean(self.MAPE_train_split) ; self.MAPE_train_std = np.std(self.MAPE_train_split)\n",
    "        self.R2_train_avg = np.mean(self.R2_train_split) ; self.R2_train_std = np.std(self.R2_train_split)\n",
    "        self.ME_train_avg = np.mean(self.ME_train_split) ; self.ME_train_std = np.std(self.ME_train_split)\n",
    "        self.MPE_train_avg = np.mean(self.MPE_train_split) ; self.MPE_train_std = np.std(self.MPE_train_split)\n",
    "\n",
    "        self.MSE_val_avg = np.mean(self.MSE_val_split) ; self.MSE_val_std = np.std(self.MSE_val_split) \n",
    "        self.MAE_val_avg = np.mean(self.MAE_val_split) ; self.MAE_val_std = np.std(self.MAE_val_split) \n",
    "        self.MAPE_val_avg = np.mean(self.MAPE_val_split) ; self.MAPE_val_std = np.std(self.MAPE_val_split) \n",
    "        self.R2_val_avg = np.mean(self.R2_val_split) ; self.R2_val_std = np.std(self.R2_val_split) \n",
    "        self.ME_val_avg = np.mean(self.ME_val_split) ; self.ME_val_std = np.std(self.ME_val_split) \n",
    "        self.MPE_val_avg = np.mean(self.MPE_val_split) ; self.MPE_val_std = np.std(self.MPE_val_split) \n",
    "\n",
    "        self.MSE_test_avg = np.mean(self.MSE_test_split) ; self.MSE_test_std = np.std(self.MSE_test_split)\n",
    "        self.MAE_test_avg = np.mean(self.MAE_test_split) ; self.MAE_test_std = np.std(self.MAE_test_split)\n",
    "        self.MAPE_test_avg = np.mean(self.MAPE_test_split) ; self.MAPE_test_std = np.std(self.MAPE_test_split)\n",
    "        self.R2_test_avg = np.mean(self.R2_test_split) ; self.R2_test_std = np.std(self.R2_test_split)\n",
    "        self.ME_test_avg = np.mean(self.ME_test_split) ; self.ME_test_std = np.std(self.ME_test_split)\n",
    "        self.MPE_test_avg = np.mean(self.MPE_test_split) ; self.MPE_test_std = np.std(self.MPE_test_split)\n",
    "        \n",
    "        self.MSE_interp_avg = np.mean(self.MSE_interp_split) ; self.MSE_interp_std = np.std(self.MSE_interp_split)\n",
    "        self.MAE_interp_avg = np.mean(self.MAE_interp_split) ; self.MAE_interp_std = np.std(self.MAE_interp_split)\n",
    "        self.MAPE_interp_avg = np.mean(self.MAPE_interp_split) ; self.MAPE_interp_std = np.std(self.MAPE_interp_split)\n",
    "        self.R2_interp_avg = np.mean(self.R2_interp_split) ; self.R2_interp_std = np.std(self.R2_interp_split)\n",
    "        self.ME_interp_avg = np.mean(self.ME_interp_split) ; self.ME_interp_std = np.std(self.ME_interp_split)\n",
    "        self.MPE_interp_avg = np.mean(self.MPE_interp_split) ; self.MPE_interp_std = np.std(self.MPE_interp_split)\n",
    "\n",
    "        ## Lists to store the quantile model errors\n",
    "        self.MSE_train_median = np.median(self.MSE_train_split) ; self.MSE_train_q2p5 = np.percentile(self.MSE_train_split,2.5) ; self.MSE_train_q97p5 = np.percentile(self.MSE_train_split,97.5)\n",
    "        self.MAE_train_median = np.median(self.MAE_train_split) ; self.MAE_train_q2p5 = np.percentile(self.MAE_train_split,2.5) ; self.MAE_train_q97p5 = np.percentile(self.MAE_train_split,97.5)\n",
    "        self.MAPE_train_median = np.median(self.MAPE_train_split) ; self.MAPE_train_q2p5 = np.percentile(self.MAPE_train_split,2.5) ; self.MAPE_train_q97p5 = np.percentile(self.MAPE_train_split,97.5)\n",
    "        self.R2_train_median = np.median(self.R2_train_split) ; self.R2_train_q2p5 = np.percentile(self.R2_train_split,2.5) ; self.R2_train_q97p5 = np.percentile(self.R2_train_split,97.5)\n",
    "        self.ME_train_median = np.median(self.ME_train_split) ; self.ME_train_q2p5 = np.percentile(self.ME_train_split,2.5) ; self.ME_train_q97p5 = np.percentile(self.ME_train_split,97.5)\n",
    "        self.MPE_train_median = np.median(self.MPE_train_split) ; self.MPE_train_q2p5 = np.percentile(self.MPE_train_split,2.5) ; self.MPE_train_q97p5 = np.percentile(self.MPE_train_split,97.5)\n",
    "\n",
    "        self.MSE_val_median = np.median(self.MSE_val_split) ; self.MSE_val_q2p5 = np.percentile(self.MSE_val_split,2.5)  ; self.MSE_val_q97p5 = np.percentile(self.MSE_val_split,97.5) \n",
    "        self.MAE_val_median = np.median(self.MAE_val_split) ; self.MAE_val_q2p5 = np.percentile(self.MAE_val_split,2.5)  ; self.MAE_val_q97p5 = np.percentile(self.MAE_val_split,97.5) \n",
    "        self.MAPE_val_median = np.median(self.MAPE_val_split) ; self.MAPE_val_q2p5 = np.percentile(self.MAPE_val_split,2.5)  ; self.MAPE_val_q97p5 = np.percentile(self.MAPE_val_split,97.5) \n",
    "        self.R2_val_median = np.median(self.R2_val_split) ; self.R2_val_q2p5 = np.percentile(self.R2_val_split,2.5)  ; self.R2_val_q97p5 = np.percentile(self.R2_val_split,97.5) \n",
    "        self.ME_val_median = np.median(self.ME_val_split) ; self.ME_val_q2p5 = np.percentile(self.ME_val_split,2.5)  ; self.ME_val_q97p5 = np.percentile(self.ME_val_split,97.5) \n",
    "        self.MPE_val_median = np.median(self.MPE_val_split) ; self.MPE_val_q2p5 = np.percentile(self.MPE_val_split,2.5)  ; self.MPE_val_q97p5 = np.percentile(self.MPE_val_split,97.5) \n",
    "\n",
    "        self.MSE_test_median = np.median(self.MSE_test_split) ; self.MSE_test_q2p5 = np.percentile(self.MSE_test_split,2.5) ; self.MSE_test_q97p5 = np.percentile(self.MSE_test_split,97.5)\n",
    "        self.MAE_test_median = np.median(self.MAE_test_split) ; self.MAE_test_q2p5 = np.percentile(self.MAE_test_split,2.5) ; self.MAE_test_q97p5 = np.percentile(self.MAE_test_split,97.5)\n",
    "        self.MAPE_test_median = np.median(self.MAPE_test_split) ; self.MAPE_test_q2p5 = np.percentile(self.MAPE_test_split,2.5) ; self.MAPE_test_q97p5 = np.percentile(self.MAPE_test_split,97.5)\n",
    "        self.R2_test_median = np.median(self.R2_test_split) ; self.R2_test_q2p5 = np.percentile(self.R2_test_split,2.5) ; self.R2_test_q97p5 = np.percentile(self.R2_test_split,97.5)\n",
    "        self.ME_test_median = np.median(self.ME_test_split) ; self.ME_test_q2p5 = np.percentile(self.ME_test_split,2.5) ; self.ME_test_q97p5 = np.percentile(self.ME_test_split,97.5)\n",
    "        self.MPE_test_median = np.median(self.MPE_test_split) ; self.MPE_test_q2p5 = np.percentile(self.MPE_test_split,2.5) ; self.MPE_test_q97p5 = np.percentile(self.MPE_test_split,97.5)\n",
    "        \n",
    "        self.MSE_interp_median = np.median(self.MSE_interp_split) ; self.MSE_interp_q2p5 = np.percentile(self.MSE_interp_split,2.5) ; self.MSE_interp_q97p5 = np.percentile(self.MSE_interp_split,97.5)\n",
    "        self.MAE_interp_median = np.median(self.MAE_interp_split) ; self.MAE_interp_q2p5 = np.percentile(self.MAE_interp_split,2.5) ; self.MAE_interp_q97p5 = np.percentile(self.MAE_interp_split,97.5)\n",
    "        self.MAPE_interp_median = np.median(self.MAPE_interp_split) ; self.MAPE_interp_q2p5 = np.percentile(self.MAPE_interp_split,2.5) ; self.MAPE_interp_q97p5 = np.percentile(self.MAPE_interp_split,97.5)\n",
    "        self.R2_interp_median = np.median(self.R2_interp_split) ; self.R2_interp_q2p5 = np.percentile(self.R2_interp_split,2.5) ; self.R2_interp_q97p5 = np.percentile(self.R2_interp_split,97.5)\n",
    "        self.ME_interp_median = np.median(self.ME_interp_split) ; self.ME_interp_q2p5 = np.percentile(self.ME_interp_split,2.5) ; self.ME_interp_q97p5 = np.percentile(self.ME_interp_split,97.5)\n",
    "        self.MPE_interp_median = np.median(self.MPE_interp_split) ; self.MPE_interp_q2p5 = np.percentile(self.MPE_interp_split,2.5) ; self.MPE_interp_q97p5 = np.percentile(self.MPE_interp_split,97.5)"
   ]
  },
  {
   "cell_type": "markdown",
   "id": "aaf3e7d0-62b9-45c5-9126-f0177b0fd134",
   "metadata": {
    "jp-MarkdownHeadingCollapsed": true,
    "tags": [],
    "toc-hr-collapsed": true
   },
   "source": [
    "# Load the saved postMD ANN models"
   ]
  },
  {
   "cell_type": "markdown",
   "id": "f6f1c1f4-26d4-40ba-a860-90580153265d",
   "metadata": {
    "jp-MarkdownHeadingCollapsed": true,
    "tags": []
   },
   "source": [
    "## Load"
   ]
  },
  {
   "cell_type": "code",
   "execution_count": 24,
   "id": "b81a5b75-02c1-40ab-ac85-9a36643a0fde",
   "metadata": {
    "tags": []
   },
   "outputs": [
    {
     "name": "stdout",
     "output_type": "stream",
     "text": [
      "0%\n",
      "10%\n",
      "20%\n",
      "30%\n",
      "40%\n",
      "50%\n",
      "60%\n",
      "70%\n",
      "80%\n",
      "90%\n",
      "Time taken: 1 min\n"
     ]
    }
   ],
   "source": [
    "loadpath = \"1-test-single-ANN/saved-models/\"\n",
    "\n",
    "ft_indx = [0,1,2,3,4,5]\n",
    "ANN_kfs_postMD_t1 = kfold_split_mspe_models() \n",
    "ANN_kfs_postMD_t1.num_splits = kfs_mspe_data_t1.num_splits\n",
    "ANN_kfs_postMD_t1.num_folds = kfs_mspe_data_t1.num_folds\n",
    "\n",
    "tic = time.perf_counter() \n",
    "# Loop over splits\n",
    "for j in range(kfs_mspe_data_t1.num_splits):\n",
    "    tmparr = [] \n",
    "    # Loop over k-folds\n",
    "    for k in range(kfs_mspe_data_t1.num_folds):\n",
    "\n",
    "        # Load the trained model with the particular train split and hyperparameter\n",
    "        ANNmdl = load_model(loadpath+'ANN_postMD_{}_{}.h5'.format(j,k))\n",
    "        tmparr.append(ANNmdl) \n",
    "    \n",
    "    # store the k-trained models\n",
    "    ANN_kfs_postMD_t1.trained_model_dbllist.append(tmparr)\n",
    "\n",
    "    if(np.mod(j,2)==0):\n",
    "        print(\"{:.0f}%\".format(100*j/kfs_mspe_data_t1.num_splits))\n",
    "        # ANNmdl.summary()\n",
    "\n",
    "# Predict on val, test and interp sets\n",
    "ANN_kfs_postMD_t1.predict(kfs_mspe_data_t1,ft_indx)\n",
    "\n",
    "toc = time.perf_counter()        \n",
    "print(\"Time taken: {:.0f} min\".format((toc-tic)/60))"
   ]
  },
  {
   "cell_type": "code",
   "execution_count": 25,
   "id": "58edec30-ba97-42f7-9bcb-ee5f81d6b97d",
   "metadata": {},
   "outputs": [
    {
     "name": "stdout",
     "output_type": "stream",
     "text": [
      "Time taken: 0 min\n"
     ]
    }
   ],
   "source": [
    "tic = time.perf_counter() \n",
    "\n",
    "## Create the metrics object\n",
    "ANN_kfs_metrics_postMD_t1 = kfs_mspe_metrics()\n",
    "\n",
    "## Estimate the errors and the corresponding statistics\n",
    "ANN_kfs_metrics_postMD_t1.est_errors(kfs_mspe_data_t1,ANN_kfs_postMD_t1)\n",
    "\n",
    "toc = time.perf_counter()        \n",
    "print(\"Time taken: {:.0f} min\".format((toc-tic)/60))        "
   ]
  },
  {
   "cell_type": "markdown",
   "id": "eab8ff5d-23ce-4451-83c5-c5c42efdf287",
   "metadata": {},
   "source": [
    "## Print the summary"
   ]
  },
  {
   "cell_type": "code",
   "execution_count": 26,
   "id": "d1fe6ff0-b70b-4799-ab2b-02585be30999",
   "metadata": {},
   "outputs": [
    {
     "name": "stdout",
     "output_type": "stream",
     "text": [
      "---------------------------------------------------------------------------------------\n",
      "------------------------------ AVG VALIDATION LANDSCAPE -------------------------------\n",
      "---------------------------------------------------------------------------------------\n",
      "\n",
      "***************************************************************************************\n",
      "CRITERION: MIN VAL MSE --> 7.734e-02 (7e-02) \n",
      "---------------------------------------------------------------------------------------\n",
      " METRIC || Train            ::   Val            ::   Test           ::  Interp \n",
      "---------------------------------------------------------------------------------------\n",
      " MSE    || 3.15e-02 (4e-02) :: 7.73e-02 (7e-02) :: 9.94e-02 (2e-01) :: 5.48e-03 (3e-03) \n",
      " MAE    || 5.75e-02 (2e-02) :: 8.82e-02 (3e-02) :: 9.98e-02 (6e-02) :: 4.33e-02 (9e-03) \n",
      " MAPE   || 1.5     (0.4)    :: 2.1     (0.5)    :: 2.2     (0.4)    :: 4.5     (1.4)    \n",
      " R2     || 0.99379 (7e-03)  :: 0.98842 (9e-03)  :: 0.98489 (2e-02)  :: 0.99599 (2e-03)  \n",
      "---------------------------------------------------------------------------------------\n"
     ]
    }
   ],
   "source": [
    "print(\"---------------------------------------------------------------------------------------\")\n",
    "print(\"------------------------------ AVG VALIDATION LANDSCAPE -------------------------------\")\n",
    "print(\"---------------------------------------------------------------------------------------\")\n",
    "print()\n",
    "\n",
    "print(\"***************************************************************************************\")\n",
    "print(\"CRITERION: MIN VAL MSE --> {:.3e} ({:.0e}) \".format(ANN_kfs_metrics_postMD_t1.MSE_val_avg,\n",
    "    2*ANN_kfs_metrics_postMD_t1.MSE_val_std))\n",
    "print(\"---------------------------------------------------------------------------------------\")\n",
    "print(\" METRIC || Train            ::   Val            ::   Test           ::  Interp \")\n",
    "print(\"---------------------------------------------------------------------------------------\")\n",
    "print(\" MSE    || {:.2e} ({:.0e}) :: {:.2e} ({:.0e}) :: {:.2e} ({:.0e}) :: {:.2e} ({:.0e}) \"\n",
    "      .format(ANN_kfs_metrics_postMD_t1.MSE_train_avg,2*ANN_kfs_metrics_postMD_t1.MSE_train_std,\n",
    "              ANN_kfs_metrics_postMD_t1.MSE_val_avg,2*ANN_kfs_metrics_postMD_t1.MSE_val_std,\n",
    "              ANN_kfs_metrics_postMD_t1.MSE_test_avg,2*ANN_kfs_metrics_postMD_t1.MSE_test_std,\n",
    "              ANN_kfs_metrics_postMD_t1.MSE_interp_avg,2*ANN_kfs_metrics_postMD_t1.MSE_interp_std))\n",
    "print(\" MAE    || {:.2e} ({:.0e}) :: {:.2e} ({:.0e}) :: {:.2e} ({:.0e}) :: {:.2e} ({:.0e}) \"\n",
    "      .format(ANN_kfs_metrics_postMD_t1.MAE_train_avg,2*ANN_kfs_metrics_postMD_t1.MAE_train_std,\n",
    "              ANN_kfs_metrics_postMD_t1.MAE_val_avg,2*ANN_kfs_metrics_postMD_t1.MAE_val_std,\n",
    "              ANN_kfs_metrics_postMD_t1.MAE_test_avg,2*ANN_kfs_metrics_postMD_t1.MAE_test_std,\n",
    "              ANN_kfs_metrics_postMD_t1.MAE_interp_avg,2*ANN_kfs_metrics_postMD_t1.MAE_interp_std))\n",
    "print(\" MAPE   || {:.1f}     ({:.1f})    :: {:.1f}     ({:.1f})    :: {:.1f}     ({:.1f})    :: {:.1f}     ({:.1f})    \"\n",
    "      .format(ANN_kfs_metrics_postMD_t1.MAPE_train_avg,2*ANN_kfs_metrics_postMD_t1.MAPE_train_std,\n",
    "              ANN_kfs_metrics_postMD_t1.MAPE_val_avg,2*ANN_kfs_metrics_postMD_t1.MAPE_val_std,\n",
    "              ANN_kfs_metrics_postMD_t1.MAPE_test_avg,2*ANN_kfs_metrics_postMD_t1.MAPE_test_std,\n",
    "              ANN_kfs_metrics_postMD_t1.MAPE_interp_avg,2*ANN_kfs_metrics_postMD_t1.MAPE_interp_std))\n",
    "print(\" R2     || {:.5f} ({:.0e})  :: {:.5f} ({:.0e})  :: {:.5f} ({:.0e})  :: {:.5f} ({:.0e})  \"\n",
    "      .format(ANN_kfs_metrics_postMD_t1.R2_train_avg,2*ANN_kfs_metrics_postMD_t1.R2_train_std,\n",
    "              ANN_kfs_metrics_postMD_t1.R2_val_avg,2*ANN_kfs_metrics_postMD_t1.R2_val_std,\n",
    "              ANN_kfs_metrics_postMD_t1.R2_test_avg,2*ANN_kfs_metrics_postMD_t1.R2_test_std,\n",
    "              ANN_kfs_metrics_postMD_t1.R2_interp_avg,2*ANN_kfs_metrics_postMD_t1.R2_interp_std))\n",
    "print(\"---------------------------------------------------------------------------------------\")"
   ]
  },
  {
   "cell_type": "markdown",
   "id": "34088937-a743-4289-8eb2-3f3b931ac7be",
   "metadata": {
    "jp-MarkdownHeadingCollapsed": true,
    "tags": [],
    "toc-hr-collapsed": true
   },
   "source": [
    "# Load the saved preMD ANN models"
   ]
  },
  {
   "cell_type": "markdown",
   "id": "1daec9dc-ff4a-4053-a0cd-518983b6db5b",
   "metadata": {},
   "source": [
    "## Load"
   ]
  },
  {
   "cell_type": "code",
   "execution_count": 70,
   "id": "1310f625-43d4-4873-ab6e-41e3cf27f0f4",
   "metadata": {
    "tags": []
   },
   "outputs": [
    {
     "name": "stdout",
     "output_type": "stream",
     "text": [
      "0%\n",
      "10%\n",
      "20%\n",
      "30%\n",
      "40%\n",
      "50%\n",
      "60%\n",
      "70%\n",
      "80%\n",
      "90%\n",
      "Time taken: 1 min\n"
     ]
    }
   ],
   "source": [
    "loadpath = \"1-test-single-ANN/saved-models/\"\n",
    "\n",
    "ft_indx = [0,1,2,3]\n",
    "ANN_kfs_preMD_t1 = kfold_split_mspe_models() \n",
    "ANN_kfs_preMD_t1.num_splits = kfs_mspe_data_t1.num_splits\n",
    "ANN_kfs_preMD_t1.num_folds = kfs_mspe_data_t1.num_folds\n",
    "\n",
    "tic = time.perf_counter() \n",
    "# Loop over splits\n",
    "for j in range(kfs_mspe_data_t1.num_splits):\n",
    "    tmparr = [] \n",
    "    # Loop over k-folds\n",
    "    for k in range(kfs_mspe_data_t1.num_folds):\n",
    "\n",
    "        # Load the trained model with the particular train split and hyperparameter\n",
    "        ANNmdl = load_model(loadpath+'ANN_preMD_{}_{}.h5'.format(j,k))\n",
    "        tmparr.append(ANNmdl) \n",
    "    \n",
    "    # store the k-trained models\n",
    "    ANN_kfs_preMD_t1.trained_model_dbllist.append(tmparr)\n",
    "\n",
    "    if(np.mod(j,2)==0):\n",
    "        print(\"{:.0f}%\".format(100*j/kfs_mspe_data_t1.num_splits))\n",
    "        # ANNmdl.summary()\n",
    "\n",
    "# Predict on val, test and interp sets\n",
    "ANN_kfs_preMD_t1.predict(kfs_mspe_data_t1,ft_indx)\n",
    "\n",
    "toc = time.perf_counter()        \n",
    "print(\"Time taken: {:.0f} min\".format((toc-tic)/60))"
   ]
  },
  {
   "cell_type": "code",
   "execution_count": 71,
   "id": "4d4e0a28-ad4d-476b-8cc1-d61ff5ae8a73",
   "metadata": {},
   "outputs": [
    {
     "name": "stdout",
     "output_type": "stream",
     "text": [
      "Time taken: 0 min\n"
     ]
    }
   ],
   "source": [
    "tic = time.perf_counter() \n",
    "\n",
    "## Create the metrics object\n",
    "ANN_kfs_metrics_preMD_t1 = kfs_mspe_metrics()\n",
    "\n",
    "## Estimate the errors and the corresponding statistics\n",
    "ANN_kfs_metrics_preMD_t1.est_errors(kfs_mspe_data_t1,ANN_kfs_preMD_t1)\n",
    "\n",
    "toc = time.perf_counter()        \n",
    "print(\"Time taken: {:.0f} min\".format((toc-tic)/60))        "
   ]
  },
  {
   "cell_type": "markdown",
   "id": "7a61bfab-4686-4a0f-ba8d-64a6e4289364",
   "metadata": {},
   "source": [
    "## Print the summary"
   ]
  },
  {
   "cell_type": "code",
   "execution_count": 72,
   "id": "13914276-9cd8-40b3-af09-13d00686b830",
   "metadata": {},
   "outputs": [
    {
     "name": "stdout",
     "output_type": "stream",
     "text": [
      "---------------------------------------------------------------------------------------\n",
      "------------------------------ AVG VALIDATION LANDSCAPE -------------------------------\n",
      "---------------------------------------------------------------------------------------\n",
      "\n",
      "***************************************************************************************\n",
      "CRITERION: MIN VAL MSE --> 1.024e-01 (1e-01) \n",
      "---------------------------------------------------------------------------------------\n",
      " METRIC || Train            ::   Val            ::   Test           ::  Interp \n",
      "---------------------------------------------------------------------------------------\n",
      " MSE    || 4.27e-02 (4e-02) :: 1.02e-01 (1e-01) :: 1.26e-01 (3e-01) :: 1.25e-02 (4e-03) \n",
      " MAE    || 6.34e-02 (2e-02) :: 1.02e-01 (3e-02) :: 1.13e-01 (7e-02) :: 6.54e-02 (1e-02) \n",
      " MAPE   || 1.7     (0.5)    :: 2.5     (0.6)    :: 2.6     (0.8)    :: 15.5     (2.4)    \n",
      " R2     || 0.99136 (8e-03)  :: 0.98374 (1e-02)  :: 0.98048 (3e-02)  :: 0.99083 (3e-03)  \n",
      "---------------------------------------------------------------------------------------\n"
     ]
    }
   ],
   "source": [
    "print(\"---------------------------------------------------------------------------------------\")\n",
    "print(\"------------------------------ AVG VALIDATION LANDSCAPE -------------------------------\")\n",
    "print(\"---------------------------------------------------------------------------------------\")\n",
    "print()\n",
    "\n",
    "print(\"***************************************************************************************\")\n",
    "print(\"CRITERION: MIN VAL MSE --> {:.3e} ({:.0e}) \".format(ANN_kfs_metrics_preMD_t1.MSE_val_avg,\n",
    "    2*ANN_kfs_metrics_preMD_t1.MSE_val_std))\n",
    "print(\"---------------------------------------------------------------------------------------\")\n",
    "print(\" METRIC || Train            ::   Val            ::   Test           ::  Interp \")\n",
    "print(\"---------------------------------------------------------------------------------------\")\n",
    "print(\" MSE    || {:.2e} ({:.0e}) :: {:.2e} ({:.0e}) :: {:.2e} ({:.0e}) :: {:.2e} ({:.0e}) \"\n",
    "      .format(ANN_kfs_metrics_preMD_t1.MSE_train_avg,2*ANN_kfs_metrics_preMD_t1.MSE_train_std,\n",
    "              ANN_kfs_metrics_preMD_t1.MSE_val_avg,2*ANN_kfs_metrics_preMD_t1.MSE_val_std,\n",
    "              ANN_kfs_metrics_preMD_t1.MSE_test_avg,2*ANN_kfs_metrics_preMD_t1.MSE_test_std,\n",
    "              ANN_kfs_metrics_preMD_t1.MSE_interp_avg,2*ANN_kfs_metrics_preMD_t1.MSE_interp_std))\n",
    "print(\" MAE    || {:.2e} ({:.0e}) :: {:.2e} ({:.0e}) :: {:.2e} ({:.0e}) :: {:.2e} ({:.0e}) \"\n",
    "      .format(ANN_kfs_metrics_preMD_t1.MAE_train_avg,2*ANN_kfs_metrics_preMD_t1.MAE_train_std,\n",
    "              ANN_kfs_metrics_preMD_t1.MAE_val_avg,2*ANN_kfs_metrics_preMD_t1.MAE_val_std,\n",
    "              ANN_kfs_metrics_preMD_t1.MAE_test_avg,2*ANN_kfs_metrics_preMD_t1.MAE_test_std,\n",
    "              ANN_kfs_metrics_preMD_t1.MAE_interp_avg,2*ANN_kfs_metrics_preMD_t1.MAE_interp_std))\n",
    "print(\" MAPE   || {:.1f}     ({:.1f})    :: {:.1f}     ({:.1f})    :: {:.1f}     ({:.1f})    :: {:.1f}     ({:.1f})    \"\n",
    "      .format(ANN_kfs_metrics_preMD_t1.MAPE_train_avg,2*ANN_kfs_metrics_preMD_t1.MAPE_train_std,\n",
    "              ANN_kfs_metrics_preMD_t1.MAPE_val_avg,2*ANN_kfs_metrics_preMD_t1.MAPE_val_std,\n",
    "              ANN_kfs_metrics_preMD_t1.MAPE_test_avg,2*ANN_kfs_metrics_preMD_t1.MAPE_test_std,\n",
    "              ANN_kfs_metrics_preMD_t1.MAPE_interp_avg,2*ANN_kfs_metrics_preMD_t1.MAPE_interp_std))\n",
    "print(\" R2     || {:.5f} ({:.0e})  :: {:.5f} ({:.0e})  :: {:.5f} ({:.0e})  :: {:.5f} ({:.0e})  \"\n",
    "      .format(ANN_kfs_metrics_preMD_t1.R2_train_avg,2*ANN_kfs_metrics_preMD_t1.R2_train_std,\n",
    "              ANN_kfs_metrics_preMD_t1.R2_val_avg,2*ANN_kfs_metrics_preMD_t1.R2_val_std,\n",
    "              ANN_kfs_metrics_preMD_t1.R2_test_avg,2*ANN_kfs_metrics_preMD_t1.R2_test_std,\n",
    "              ANN_kfs_metrics_preMD_t1.R2_interp_avg,2*ANN_kfs_metrics_preMD_t1.R2_interp_std))\n",
    "print(\"---------------------------------------------------------------------------------------\")"
   ]
  },
  {
   "cell_type": "markdown",
   "id": "29371c83-a30b-4dfa-bfd3-79580073542d",
   "metadata": {
    "jp-MarkdownHeadingCollapsed": true,
    "tags": [],
    "toc-hr-collapsed": true
   },
   "source": [
    "# Applicability domain on interpolation"
   ]
  },
  {
   "cell_type": "markdown",
   "id": "9127b558-9fc7-4ea9-9f39-5b1fce0f52fd",
   "metadata": {
    "jp-MarkdownHeadingCollapsed": true,
    "tags": []
   },
   "source": [
    "## Prepare the data arrays"
   ]
  },
  {
   "cell_type": "code",
   "execution_count": 27,
   "id": "5869ca67-56aa-412f-a82b-a81c968769d7",
   "metadata": {},
   "outputs": [
    {
     "name": "stdout",
     "output_type": "stream",
     "text": [
      "X interp scaled :  (13, 6)\n",
      "interp MAPE: 2.30\n",
      "X interp scaled :  (4, 6)\n",
      "interp MAPE: 2.16\n"
     ]
    }
   ],
   "source": [
    "## the order of features\n",
    "# X_interp_fset1_raw = np.hstack((X_interp_preMD_raw,zeta_interp_raw,density_interp_raw))\n",
    "# interp_out_df = pd.read_csv(\"../data/interp-all17-09aug22.csv\")\n",
    "interp_accept_df = pd.read_csv(\"../data/interp-accepted13-04aug22.csv\")\n",
    "interp_reject_df = pd.read_csv(\"../data/interp-rejected4-04aug22.csv\")\n",
    "\n",
    "## Accepted points\n",
    "interp_accept_data = interp_accept_df[['u_x1', 'u_eps2', 'u_sig2', 'u_k12', 'zeta', 'density', 'eta_md', 'eta_md_err']].values\n",
    "X_interp_accept_raw = interp_accept_data[:, :6].copy()\n",
    "Y_interp_accept_raw = interp_accept_data[:, 6].copy()\n",
    "Yerr_interp_accept_raw = interp_accept_data[:, 7].copy()\n",
    "X_interp_accept_scaled = sc_2000p_fset1.transform(X_interp_accept_raw)\n",
    "print(\"X interp scaled : \", X_interp_accept_scaled.shape)\n",
    "print(\"interp MAPE: {:.2f}\".format(100*np.mean(Yerr_interp_accept_raw/Y_interp_accept_raw)))\n",
    "\n",
    "## Rejected points\n",
    "interp_reject_data = interp_reject_df[['u_x1', 'u_eps2', 'u_sig2', 'u_k12', 'zeta', 'density', 'eta_md', 'eta_md_err']].values\n",
    "X_interp_reject_raw = interp_reject_data[:, :6].copy()\n",
    "Y_interp_reject_raw = interp_reject_data[:, 6].copy()\n",
    "Yerr_interp_reject_raw = interp_reject_data[:, 7].copy()\n",
    "X_interp_reject_scaled = sc_2000p_fset1.transform(X_interp_reject_raw)\n",
    "print(\"X interp scaled : \", X_interp_reject_scaled.shape)\n",
    "print(\"interp MAPE: {:.2f}\".format(100*np.mean(Yerr_interp_reject_raw/Y_interp_reject_raw)))"
   ]
  },
  {
   "cell_type": "markdown",
   "id": "e397fab6-95aa-474a-9e84-e732a0dc2066",
   "metadata": {
    "jp-MarkdownHeadingCollapsed": true,
    "tags": [],
    "toc-hr-collapsed": true
   },
   "source": [
    "# Ensemble: convenience classes"
   ]
  },
  {
   "cell_type": "markdown",
   "id": "c1436c49-515e-405a-8a50-0cba09798f1d",
   "metadata": {
    "jp-MarkdownHeadingCollapsed": true,
    "tags": []
   },
   "source": [
    "## Class: ensemble metrics for model ranking -- evaluate_mymodel()"
   ]
  },
  {
   "cell_type": "code",
   "execution_count": 28,
   "id": "a194ea8b-0d19-41f4-a277-b25b0f52db38",
   "metadata": {},
   "outputs": [],
   "source": [
    "# A convenience class to evaluate the models\n",
    "# This assumes only one output label: either viscosity or log viscosity\n",
    "class evaluate_mymodel:\n",
    "    def __init__(self, Y_true, Y_pred):\n",
    "        self.Y_true = Y_true\n",
    "        self.Y_pred = Y_pred\n",
    "        self.num_pts = len(Y_true)\n",
    "        self.metric_dict = self.evaluate(Y_true, Y_pred)\n",
    "        \n",
    "    def evaluate(self, Y_true, Y_pred):\n",
    "        mydict = {'scores': {} ,\n",
    "                  'stats': {} }\n",
    "        \n",
    "        # compute and add metrics to the dictionary\n",
    "        mydict['scores']['mse'] = sklearn.metrics.mean_squared_error(Y_true, Y_pred)\n",
    "        mydict['scores']['rmse'] = np.sqrt(mydict['scores']['mse'])\n",
    "        mydict['scores']['mape'] = 100.0*sklearn.metrics.mean_absolute_percentage_error(Y_true, Y_pred)\n",
    "        mydict['scores']['mae'] = sklearn.metrics.mean_absolute_error(Y_true, Y_pred)\n",
    "        mydict['scores']['R2'] = sklearn.metrics.r2_score(Y_true, Y_pred)\n",
    "        \n",
    "        # compute and residuals to the dictionary\n",
    "        residuals = Y_pred - Y_true\n",
    "        resuduals_percent = 100.0*(Y_pred - Y_true)/Y_true\n",
    "        resuduals_abs_percent = np.absolute(resuduals_percent)\n",
    "        residuals_sq = np.square(residuals)\n",
    "        residuals_abs = np.abs(residuals)\n",
    "        \n",
    "        mydict['resid'] = residuals\n",
    "        mydict['resid_percent'] = resuduals_percent\n",
    "        mydict['resid_abs_percent'] = resuduals_abs_percent\n",
    "        mydict['resid_sq'] = residuals_sq\n",
    "        mydict['resid_abs'] = residuals_abs\n",
    "        \n",
    "        # compute and add residual statistics to the dictionary\n",
    "        mydict['stats']['resid'] = self._stats(residuals)\n",
    "        mydict['stats']['resid_percent'] =  self._stats(resuduals_percent)\n",
    "        mydict['stats']['resid_abs_percent']  = self._stats(resuduals_abs_percent)\n",
    "        mydict['stats']['resid_sq']  = self._stats(residuals_sq)\n",
    "        mydict['stats']['resid_abs']  = self._stats(residuals_abs)\n",
    "        \n",
    "        return mydict\n",
    "        \n",
    "    def _stats(self, resid):\n",
    "        tmpdict = {}\n",
    "        tmpdict['mean'] = np.mean(resid)\n",
    "        tmpdict['median'] = np.median(resid)\n",
    "        tmpdict['std'] = np.std(resid)\n",
    "        tmpdict['min'] = np.min(resid)\n",
    "        tmpdict['max'] = np.max(resid)\n",
    "        tmpdict['count'] = len(resid)\n",
    "        tmpdict['ptile_2p5'] = np.percentile(resid, 2.5)\n",
    "        tmpdict['ptile_97p5'] = np.percentile(resid, 97.5)\n",
    "        tmpdict['ptile_95'] = np.percentile(resid, 95)\n",
    "        \n",
    "        return tmpdict\n",
    "        \n",
    "        \n",
    "    def summary(self):\n",
    "        print(\"--------------------------------------------------------------\")\n",
    "        print(\"  score             test                \")\n",
    "        print(\"  MAE               {:.2E}    \".format(self.metric_dict['scores']['mae']))\n",
    "        print(\"    MEDIAN          {:6.2f}    \".format(self.metric_dict['stats']['resid_abs']['median']))\n",
    "        print(\"    2.5%            {:6.2f}    \".format(self.metric_dict['stats']['resid_abs']['ptile_2p5']))\n",
    "        print(\"    97.5%           {:6.2f}    \".format(self.metric_dict['stats']['resid_abs']['ptile_97p5']))\n",
    "        print(\"    MAX             {:6.2f}    \".format(self.metric_dict['stats']['resid_abs']['max']))\n",
    "\n",
    "        print(\"  MSE               {:.2E}    \".format(self.metric_dict['scores']['mse']))\n",
    "        print(\"  RMSE              {:.2E}    \".format(self.metric_dict['scores']['rmse']))\n",
    "        print(\"  R2                {:8.6f}   \".format(self.metric_dict['scores']['R2']))\n",
    "        \n",
    "        print(\"\")\n",
    "        print(\"  MAPE              {:6.2f}    \".format(self.metric_dict['scores']['mape']))\n",
    "        print(\"    MEDIAN          {:6.2f}    \".format(self.metric_dict['stats']['resid_abs_percent']['median']))\n",
    "        print(\"    2.5%            {:6.2f}    \".format(self.metric_dict['stats']['resid_abs_percent']['ptile_2p5']))\n",
    "        print(\"    97.5%           {:6.2f}    \".format(self.metric_dict['stats']['resid_abs_percent']['ptile_97p5']))\n",
    "        print(\"    MAX             {:6.2f}    \".format(self.metric_dict['stats']['resid_abs_percent']['max']))\n",
    "                                                                               \n",
    "        print(\"\")\n",
    "        print(\"  ME                {:6.2f}    \".format(self.metric_dict['stats']['resid']['mean']))\n",
    "        print(\"  MPE               {:6.2f}    \".format(self.metric_dict['stats']['resid_percent']['mean']))\n",
    "        print(\"    MEDIAN          {:6.2f}    \".format(self.metric_dict['stats']['resid_percent']['median']))\n",
    "        print(\"    2.5%            {:6.2f}    \".format(self.metric_dict['stats']['resid_percent']['ptile_2p5']))\n",
    "        print(\"    97.5%           {:6.2f}    \".format(self.metric_dict['stats']['resid_percent']['ptile_97p5']))\n",
    "        print(\"    MAX             {:6.2f}    \".format(self.metric_dict['stats']['resid_percent']['max']))\n",
    "        print(\"--------------------------------------------------------------\")\n",
    "\n",
    "    def summary_tofile(self,filename):\n",
    "        fl = open(filename,\"wt\")\n",
    "        fl.write(\"Metric,\"+\"Test \\n\")\n",
    "        fl.write(\"Mean_AE, \"+\"{:.6E} \\n\".format(self.metric_dict['stats']['resid_abs']['mean']))\n",
    "        fl.write(\"Mean_SE, \"+\"{:.6E} \\n\".format(self.metric_dict['stats']['resid_sq']['mean']))\n",
    "        fl.write(\"Mean_APE, \"+\"{:.6E} \\n\".format(self.metric_dict['stats']['resid_abs_percent']['mean']))\n",
    "\n",
    "        fl.write(\"Median_AE, \"+\"{:.6E} \\n\".format(self.metric_dict['stats']['resid_abs']['median']))\n",
    "        fl.write(\"Median_SE, \"+\"{:.6E} \\n\".format(self.metric_dict['stats']['resid_sq']['median']))\n",
    "        fl.write(\"Median_APE, \"+\"{:.6E} \\n\".format(self.metric_dict['stats']['resid_abs_percent']['median']))\n",
    "        \n",
    "        fl.write(\"Mean_E, \"+\"{:.6E} \\n\".format(self.metric_dict['stats']['resid']['mean']))\n",
    "        fl.write(\"Mean_PE, \"+\"{:.6E} \\n\".format(self.metric_dict['stats']['resid_percent']['mean']))\n",
    "\n",
    "        fl.write(\"Median_E, \"+\"{:.6E} \\n\".format(self.metric_dict['stats']['resid']['median']))\n",
    "        fl.write(\"Median_PE, \"+\"{:.6E} \\n\".format(self.metric_dict['stats']['resid_percent']['median']))\n",
    "        fl.write(\"R2, \"+\"{:.8E} \\n\".format(self.metric_dict['scores']['R2']))\n",
    "        \n",
    "        fl.write(\"Max_AE, \"+\"{:.6E} \\n\".format(self.metric_dict['stats']['resid_abs']['max']))\n",
    "        fl.write(\"Max_SE, \"+\"{:.6E} \\n\".format(self.metric_dict['stats']['resid_sq']['max']))\n",
    "        fl.write(\"Max_APE, \"+\"{:.6E} \\n\".format(self.metric_dict['stats']['resid_abs_percent']['max']))\n",
    "        \n",
    "        fl.write(\"Min_E, \"+\"{:.6E} \\n\".format(self.metric_dict['stats']['resid']['min']))\n",
    "        fl.write(\"Min_PE, \"+\"{:.6E} \\n\".format(self.metric_dict['stats']['resid_percent']['min']))\n",
    "        fl.write(\"Max_E, \"+\"{:.6E} \\n\".format(self.metric_dict['stats']['resid']['max']))\n",
    "        fl.write(\"Max_PE, \"+\"{:.6E} \\n\".format(self.metric_dict['stats']['resid_percent']['max']))\n",
    "        fl.close()\n"
   ]
  },
  {
   "cell_type": "markdown",
   "id": "ab155a02-c507-4e94-9fff-4eea27e0f47e",
   "metadata": {
    "jp-MarkdownHeadingCollapsed": true,
    "tags": []
   },
   "source": [
    "## Class: avg ensemble predictions -- stats_ypred()"
   ]
  },
  {
   "cell_type": "code",
   "execution_count": 29,
   "id": "206ab8ff-2615-4ba3-950f-f838a08e660d",
   "metadata": {},
   "outputs": [],
   "source": [
    "class stats_ypred:\n",
    "    def __init__(self,list_ens_ypred):\n",
    "        # Get the number of ypred values per realization\n",
    "        self.num_splits = len(list_ens_ypred)\n",
    "        if self.num_splits == 0:\n",
    "            return\n",
    "        self.num_ypred = list_ens_ypred[0].shape[0]\n",
    "        self._eval_stats(list_ens_ypred)\n",
    "        \n",
    "    def _eval_stats(self,list_ens_ypred):\n",
    "        tmp_arr = np.stack(list_ens_ypred,axis=0)\n",
    "        self.yp_mean_arr = np.mean(tmp_arr,axis=0)\n",
    "        self.yp_std_arr = np.std(tmp_arr,axis=0)\n",
    "        self.yp_median_arr = np.quantile(tmp_arr,0.5000,axis=0)\n",
    "        self.yp_2p5_arr = np.quantile(tmp_arr,0.0250,axis=0)\n",
    "        self.yp_97p5_arr = np.quantile(tmp_arr,0.9750,axis=0)          \n",
    "                "
   ]
  },
  {
   "cell_type": "markdown",
   "id": "06d2aae9-bab4-4cf7-b16e-82fc75893758",
   "metadata": {
    "jp-MarkdownHeadingCollapsed": true,
    "tags": [],
    "toc-hr-collapsed": true
   },
   "source": [
    "# Ensemble: postMD"
   ]
  },
  {
   "cell_type": "markdown",
   "id": "052e092a-1f9f-4346-87c2-17bc67583959",
   "metadata": {
    "jp-MarkdownHeadingCollapsed": true,
    "tags": []
   },
   "source": [
    "## Predict the labels (eta) of the ensemble model: \n",
    "- Vlugt dataset \n",
    "- Interpolation set (all,acc,rej)"
   ]
  },
  {
   "cell_type": "code",
   "execution_count": 47,
   "id": "8aa45f8f-c93b-466c-9459-17bccb770cac",
   "metadata": {},
   "outputs": [],
   "source": [
    "ft_indx = [0,1,2,3,4,5]\n",
    "ANN_best_postMD_model_t1 = ANN_kfs_postMD_t1\n",
    "ANN_ens_postMD_Vlugt_Ypred_list_t1 = []\n",
    "ANN_ens_postMD_iall_Ypred_list_t1 = []\n",
    "ANN_ens_postMD_iacc_Ypred_list_t1 = []\n",
    "ANN_ens_postMD_irej_Ypred_list_t1 = []\n",
    "\n",
    "for i in range(ANN_best_postMD_model_t1.num_splits):\n",
    "    for j in range(ANN_best_postMD_model_t1.num_folds):\n",
    "        this_model = ANN_best_postMD_model_t1.trained_model_dbllist[i][j]\n",
    "        ## Vlugt data\n",
    "        Ypred = np.power(10,this_model.predict(X_2000p_fset1_scaled[:,ft_indx]))\n",
    "        ANN_ens_postMD_Vlugt_Ypred_list_t1.append(Ypred[:,0])\n",
    "        \n",
    "        ## All Interpolation data\n",
    "        Ypred = np.power(10,this_model.predict(X_interp_fset1_scaled[:,ft_indx]))\n",
    "        ANN_ens_postMD_iall_Ypred_list_t1.append(Ypred[:,0])\n",
    "        \n",
    "        ## Accepted interpolation data\n",
    "        Ypred = np.power(10,this_model.predict(X_interp_accept_scaled[:,ft_indx]))\n",
    "        ANN_ens_postMD_iacc_Ypred_list_t1.append(Ypred[:,0])\n",
    "        \n",
    "        ## Rejected interpolation data\n",
    "        Ypred = np.power(10,this_model.predict(X_interp_reject_scaled[:,ft_indx]))\n",
    "        ANN_ens_postMD_irej_Ypred_list_t1.append(Ypred[:,0])"
   ]
  },
  {
   "cell_type": "code",
   "execution_count": 48,
   "id": "89f6b419-c68a-411f-87ea-686d80960299",
   "metadata": {},
   "outputs": [],
   "source": [
    "ANN_ens_postMD_Vlugt_Ypred_stats_t1 = stats_ypred(ANN_ens_postMD_Vlugt_Ypred_list_t1)\n",
    "ANN_ens_postMD_iall_Ypred_stats_t1 = stats_ypred(ANN_ens_postMD_iall_Ypred_list_t1)\n",
    "ANN_ens_postMD_iacc_Ypred_stats_t1 = stats_ypred(ANN_ens_postMD_iacc_Ypred_list_t1)\n",
    "ANN_ens_postMD_irej_Ypred_stats_t1 = stats_ypred(ANN_ens_postMD_irej_Ypred_list_t1)"
   ]
  },
  {
   "cell_type": "code",
   "execution_count": 49,
   "id": "37acd8dc-2953-4b5c-8d8f-5be1911f6030",
   "metadata": {},
   "outputs": [],
   "source": [
    "ANN_ens_postMD_Vlugt_mape = 100*mean_absolute_percentage_error(Y_fset1_raw,ANN_ens_postMD_Vlugt_Ypred_stats_t1.yp_mean_arr)\n",
    "ANN_ens_postMD_iall_mape = 100*mean_absolute_percentage_error(Y_interp_raw,ANN_ens_postMD_iall_Ypred_stats_t1.yp_mean_arr)\n",
    "ANN_ens_postMD_iacc_mape = 100*mean_absolute_percentage_error(Y_interp_accept_raw,ANN_ens_postMD_iacc_Ypred_stats_t1.yp_mean_arr)\n",
    "ANN_ens_postMD_irej_mape = 100*mean_absolute_percentage_error(Y_interp_reject_raw,ANN_ens_postMD_irej_Ypred_stats_t1.yp_mean_arr)"
   ]
  },
  {
   "cell_type": "markdown",
   "id": "09e06bd2-27ef-464c-b9bc-90f90d2641ca",
   "metadata": {
    "jp-MarkdownHeadingCollapsed": true,
    "tags": []
   },
   "source": [
    "## Plot the results"
   ]
  },
  {
   "cell_type": "code",
   "execution_count": 50,
   "id": "e28e2f9b-324c-4341-9fb0-2f047d03e94a",
   "metadata": {},
   "outputs": [
    {
     "data": {
      "image/png": "[encoded data removed]",
      "text/plain": [
       "<Figure size 680x480 with 1 Axes>"
      ]
     },
     "metadata": {},
     "output_type": "display_data"
    }
   ],
   "source": [
    "f,ax = plt.subplots(1,1,figsize=(6.8,4.8),dpi=100)\n",
    "\n",
    "stline = np.arange(0.09,20,0.01)\n",
    "\n",
    "ax.plot(Y_fset1_raw,ANN_ens_postMD_Vlugt_Ypred_stats_t1.yp_mean_arr,\n",
    "        \"s\",c=\"black\",mfc=\"none\",label=\"all MAPE:{:.1f}\".format(ANN_ens_postMD_Vlugt_mape))\n",
    "ax.plot(Y_interp_accept_raw,ANN_ens_postMD_iacc_Ypred_stats_t1.yp_mean_arr,\n",
    "        \"^\",c=\"orange\",mfc=\"none\",label=\"iacc MAPE:{:.1f}\".format(ANN_ens_postMD_iacc_mape))\n",
    "ax.plot(Y_interp_reject_raw,ANN_ens_postMD_irej_Ypred_stats_t1.yp_mean_arr,\n",
    "        \"*\",c=\"red\",mfc=\"none\",label=\"irej MAPE:{:.1f}\".format(ANN_ens_postMD_irej_mape))\n",
    "ax.plot(stline,stline,\"k--\",alpha=0.5)\n",
    "\n",
    "ax.legend()\n",
    "ax.set_xscale(\"log\") ; ax.set_yscale(\"log\")\n",
    "ax.set_xlabel(r\"$\\eta_{true}$\") ; ax.set_ylabel(r\"$\\eta_{pred}$\")\n",
    "plt.savefig(\"figures/fig-ytrue-vs-ENSpred.png\",dpi=300,bbox_inches='tight')"
   ]
  },
  {
   "cell_type": "markdown",
   "id": "9a5db743-5dd6-4990-954a-8d3a81e7a601",
   "metadata": {
    "jp-MarkdownHeadingCollapsed": true,
    "tags": []
   },
   "source": [
    "## Estimate the errors"
   ]
  },
  {
   "cell_type": "code",
   "execution_count": 51,
   "id": "84de938d-77cc-4e6a-bbdf-603ff630d936",
   "metadata": {},
   "outputs": [
    {
     "name": "stdout",
     "output_type": "stream",
     "text": [
      "[[0.7093986 ]\n",
      " [0.4483408 ]\n",
      " [2.1587398 ]\n",
      " [2.6683028 ]\n",
      " [0.8459195 ]\n",
      " [1.71861   ]\n",
      " [2.1995077 ]\n",
      " [1.3441877 ]\n",
      " [0.12895203]\n",
      " [0.91439325]\n",
      " [1.9452028 ]\n",
      " [2.1978846 ]\n",
      " [0.42600474]\n",
      " [5.2530146 ]\n",
      " [0.9538493 ]\n",
      " [2.835329  ]\n",
      " [1.5069566 ]]\n",
      "(17, 1)\n",
      "[0.7093986  0.4483408  2.1587398  2.6683028  0.8459195  1.71861\n",
      " 2.1995077  1.3441877  0.12895203 0.91439325 1.9452028  2.1978846\n",
      " 0.42600474 5.2530146  0.9538493  2.835329   1.5069566 ]\n"
     ]
    }
   ],
   "source": [
    "# print(ANN_kfs_postMD_t1.Y_pred_interp_dbllist[0][0])\n",
    "print(ANN_kfs_postMD_t1.Y_pred_interp_dbllist[0][0].shape)\n",
    "print(ANN_kfs_postMD_t1.Y_pred_interp_dbllist[0][0][:,0])"
   ]
  },
  {
   "cell_type": "markdown",
   "id": "c136d547-f580-4b3f-9489-ae3f194f8dfa",
   "metadata": {
    "tags": []
   },
   "source": [
    "### Vlugt data"
   ]
  },
  {
   "cell_type": "code",
   "execution_count": 53,
   "id": "9a3213cb-e017-4c97-81f4-f5b9dc904049",
   "metadata": {},
   "outputs": [
    {
     "name": "stdout",
     "output_type": "stream",
     "text": [
      "--------------------------------------------------------------\n",
      "  score             test                \n",
      "  MAE               4.64E-02    \n",
      "    MEDIAN            0.01    \n",
      "    2.5%              0.00    \n",
      "    97.5%             0.30    \n",
      "    MAX               2.72    \n",
      "  MSE               3.54E-02    \n",
      "  RMSE              1.88E-01    \n",
      "  R2                0.992761   \n",
      "\n",
      "  MAPE                0.97    \n",
      "    MEDIAN            0.63    \n",
      "    2.5%              0.04    \n",
      "    97.5%             3.31    \n",
      "    MAX              15.18    \n",
      "\n",
      "  ME                 -0.01    \n",
      "  MPE                -0.10    \n",
      "    MEDIAN           -0.09    \n",
      "    2.5%             -2.55    \n",
      "    97.5%             2.50    \n",
      "    MAX               5.85    \n",
      "--------------------------------------------------------------\n"
     ]
    }
   ],
   "source": [
    "ANN_postMD_Vlugt_eval_t1  = evaluate_mymodel(Y_fset1_raw,ANN_ens_postMD_Vlugt_Ypred_stats_t1.yp_mean_arr)\n",
    "ANN_postMD_Vlugt_eval_t1.summary_tofile(\"ensemble-metrics/ANN_postMD_Vlugt_metrics-11aug22.csv\")\n",
    "ANN_postMD_Vlugt_eval_t1.summary()"
   ]
  },
  {
   "cell_type": "markdown",
   "id": "82ff821a-6c96-4c8f-a54b-4c013494fd59",
   "metadata": {
    "tags": []
   },
   "source": [
    "### All interpolation data"
   ]
  },
  {
   "cell_type": "code",
   "execution_count": 54,
   "id": "1792b4b0-647c-47a4-8324-d2312952be75",
   "metadata": {},
   "outputs": [
    {
     "name": "stdout",
     "output_type": "stream",
     "text": [
      "--------------------------------------------------------------\n",
      "  score             test                \n",
      "  MAE               3.41E-02    \n",
      "    MEDIAN            0.02    \n",
      "    2.5%              0.00    \n",
      "    97.5%             0.16    \n",
      "    MAX               0.18    \n",
      "  MSE               3.45E-03    \n",
      "  RMSE              5.88E-02    \n",
      "  R2                0.997473   \n",
      "\n",
      "  MAPE                3.52    \n",
      "    MEDIAN            1.28    \n",
      "    2.5%              0.22    \n",
      "    97.5%            22.00    \n",
      "    MAX              29.48    \n",
      "\n",
      "  ME                  0.02    \n",
      "  MPE                 2.45    \n",
      "    MEDIAN           -0.18    \n",
      "    2.5%             -2.22    \n",
      "    97.5%            22.00    \n",
      "    MAX              29.48    \n",
      "--------------------------------------------------------------\n"
     ]
    }
   ],
   "source": [
    "ANN_postMD_iall_eval_t1  = evaluate_mymodel(Y_interp_raw,ANN_ens_postMD_iall_Ypred_stats_t1.yp_mean_arr)\n",
    "ANN_postMD_iall_eval_t1.summary_tofile(\"ensemble-metrics/ANN_postMD_iall_metrics-11aug22.csv\")\n",
    "ANN_postMD_iall_eval_t1.summary()"
   ]
  },
  {
   "cell_type": "markdown",
   "id": "5f76bb1e-854e-4376-b29f-58f18d68799e",
   "metadata": {
    "tags": []
   },
   "source": [
    "### Accepted interpolation data"
   ]
  },
  {
   "cell_type": "code",
   "execution_count": 55,
   "id": "7f5a983c-106d-4148-84e7-c7594dbdf585",
   "metadata": {},
   "outputs": [
    {
     "name": "stdout",
     "output_type": "stream",
     "text": [
      "--------------------------------------------------------------\n",
      "  score             test                \n",
      "  MAE               1.66E-02    \n",
      "    MEDIAN            0.01    \n",
      "    2.5%              0.00    \n",
      "    97.5%             0.05    \n",
      "    MAX               0.05    \n",
      "  MSE               4.64E-04    \n",
      "  RMSE              2.16E-02    \n",
      "  R2                0.999190   \n",
      "\n",
      "  MAPE                1.08    \n",
      "    MEDIAN            0.83    \n",
      "    2.5%              0.19    \n",
      "    97.5%             2.67    \n",
      "    MAX               2.84    \n",
      "\n",
      "  ME                  0.00    \n",
      "  MPE                 0.11    \n",
      "    MEDIAN           -0.25    \n",
      "    2.5%             -1.40    \n",
      "    97.5%             2.67    \n",
      "    MAX               2.84    \n",
      "--------------------------------------------------------------\n"
     ]
    }
   ],
   "source": [
    "ANN_postMD_iacc_eval_t1  = evaluate_mymodel(Y_interp_accept_raw,ANN_ens_postMD_iacc_Ypred_stats_t1.yp_mean_arr)\n",
    "ANN_postMD_iacc_eval_t1.summary_tofile(\"ensemble-metrics/ANN_postMD_iacc_metrics-11aug22.csv\")\n",
    "ANN_postMD_iacc_eval_t1.summary()"
   ]
  },
  {
   "cell_type": "markdown",
   "id": "7939202a-f42b-4c40-94ac-e734ef40d5b3",
   "metadata": {},
   "source": [
    "### Rejected interpolation data"
   ]
  },
  {
   "cell_type": "code",
   "execution_count": 56,
   "id": "11f1d813-8e95-4557-88c7-83c83cd9ab90",
   "metadata": {},
   "outputs": [
    {
     "name": "stdout",
     "output_type": "stream",
     "text": [
      "--------------------------------------------------------------\n",
      "  score             test                \n",
      "  MAE               9.02E-02    \n",
      "    MEDIAN            0.08    \n",
      "    2.5%              0.02    \n",
      "    97.5%             0.17    \n",
      "    MAX               0.18    \n",
      "  MSE               1.30E-02    \n",
      "  RMSE              1.14E-01    \n",
      "  R2                0.996704   \n",
      "\n",
      "  MAPE               11.45    \n",
      "    MEDIAN            6.78    \n",
      "    2.5%              2.76    \n",
      "    97.5%            28.09    \n",
      "    MAX              29.49    \n",
      "\n",
      "  ME                  0.08    \n",
      "  MPE                10.07    \n",
      "    MEDIAN            6.77    \n",
      "    2.5%             -2.35    \n",
      "    97.5%            28.09    \n",
      "    MAX              29.49    \n",
      "--------------------------------------------------------------\n"
     ]
    }
   ],
   "source": [
    "ANN_postMD_irej_eval_t1  = evaluate_mymodel(Y_interp_reject_raw,ANN_ens_postMD_irej_Ypred_stats_t1.yp_mean_arr)\n",
    "ANN_postMD_irej_eval_t1.summary_tofile(\"ensemble-metrics/ANN_postMD_irej_metrics-11aug22.csv\")\n",
    "ANN_postMD_irej_eval_t1.summary()"
   ]
  },
  {
   "cell_type": "markdown",
   "id": "56e09627-8c28-40d7-a64a-5e6b393f4958",
   "metadata": {
    "tags": []
   },
   "source": [
    "## Manuscript plots"
   ]
  },
  {
   "cell_type": "markdown",
   "id": "a1c1bc15-2e66-46f1-99b7-9c9aeae78a47",
   "metadata": {
    "jp-MarkdownHeadingCollapsed": true,
    "tags": []
   },
   "source": [
    "### All metrics"
   ]
  },
  {
   "cell_type": "code",
   "execution_count": 57,
   "id": "2553942d-aca9-4894-aa81-12e479bd5e4e",
   "metadata": {},
   "outputs": [
    {
     "data": {
      "image/png": "[encoded data removed]",
      "text/plain": [
       "<Figure size 576x432 with 4 Axes>"
      ]
     },
     "metadata": {},
     "output_type": "display_data"
    }
   ],
   "source": [
    "## Load the stylesheet\n",
    "plt.style.use(\"../mpl-templates/sifig1.mplstyle\")\n",
    "\n",
    "## Set up some essentials\n",
    "myaplha=0.6 ; myaplha2 = 0.9\n",
    "testdata_relerr_mean = 2.0\n",
    "\n",
    "sf1, sax1 = plt.subplots(nrows=2, ncols=2,\n",
    "                       sharey=False, sharex=False, gridspec_kw= {\"wspace\" : 0.05},\n",
    "                       constrained_layout=True, figsize=(8,6))\n",
    "\n",
    "\n",
    "## pred visc vs true visc\n",
    "xlow1, ylow1 = 0.1, 0.1\n",
    "xhigh1, yhigh1 = 30, 30\n",
    "\n",
    "stline = np.arange(xlow1,xhigh1,0.01)\n",
    "\n",
    "sax1[0,0].plot(stline, stline, '--', c='black')\n",
    "sax1[0,0].plot(ANN_postMD_Vlugt_eval_t1.Y_true, ANN_postMD_Vlugt_eval_t1.Y_pred,\n",
    "            marker= 's', mec='black', mfc=None, ms=8, alpha=myaplha,\n",
    "            label=\"Vlugt\", zorder=2)\n",
    "sax1[0,0].plot(ANN_postMD_iacc_eval_t1.Y_true, ANN_postMD_iacc_eval_t1.Y_pred, \n",
    "            marker= '^', mec='orange', mfc=None, ms=8, alpha=myaplha2,\n",
    "            label=\"In-AD\", zorder=4)\n",
    "sax1[0,0].plot(ANN_postMD_irej_eval_t1.Y_true, ANN_postMD_irej_eval_t1.Y_pred, \n",
    "            marker= '*', mec='red', mfc=None, ms=8, alpha=myaplha2,\n",
    "            label=\"Out-AD\", zorder=4)\n",
    "\n",
    "\n",
    "sax1[0,0].set_xlim(xlow1,xhigh1)\n",
    "sax1[0,0].set_ylim(ylow1,yhigh1)\n",
    "sax1[0,0].set_xscale(\"log\")\n",
    "sax1[0,0].set_yscale(\"log\")\n",
    "\n",
    "sax1[0,0].set_xlabel(r\"$\\eta_{true}$\")\n",
    "sax1[0,0].set_ylabel(r\"$\\eta_{pred}$\")\n",
    "\n",
    "sax1[0,0].legend(loc='lower right',fontsize=14)\n",
    "sax1[0,0].grid(ls=\":\",lw=1.5)\n",
    "\n",
    "## APE vs true visc\n",
    "xlow1, ylow1 = 0.2, 0.001\n",
    "xhigh1, yhigh1 = 30, 50\n",
    "    \n",
    "stline = np.arange(xlow1,xhigh1,0.01)\n",
    "\n",
    "glinex1 = np.logspace(np.log10(0.3),np.log10(1),num=10,base=10)\n",
    "gliney1 = np.logspace(-1,-3,num=10,base=10)\n",
    "glinex2 = np.logspace(np.log10(5),np.log10(20),num=10,base=10)\n",
    "gliney2 = np.logspace(-3,0,num=10,base=10)\n",
    "\n",
    "sax1[1,0].plot(ANN_postMD_Vlugt_eval_t1.Y_true, ANN_postMD_Vlugt_eval_t1.metric_dict['resid_abs_percent'], \n",
    "              marker= 's', mec='black', mfc=None, ms=8, alpha=myaplha,\n",
    "              label=\"Train\", zorder=2)\n",
    "\n",
    "sax1[1,0].plot(ANN_postMD_iacc_eval_t1.Y_true, ANN_postMD_iacc_eval_t1.metric_dict['resid_abs_percent'],\n",
    "              marker= '^', mec='orange', mfc=None, ms=8, alpha=myaplha2,\n",
    "              label=\"In-AD\", zorder=4)\n",
    "\n",
    "sax1[1,0].plot(ANN_postMD_irej_eval_t1.Y_true, ANN_postMD_irej_eval_t1.metric_dict['resid_abs_percent'],\n",
    "              marker= '*', mec='red', mfc=None, ms=8, alpha=myaplha2,\n",
    "              label=\"Out-AD\", zorder=4)\n",
    "\n",
    "sax1[1,0].axhline(y=testdata_relerr_mean, ls=\"--\", lw=2.0, color=\"blue\")\n",
    "sax1[1,0].plot(glinex1, gliney1,'--',color=\"tab:orange\", lw=2)\n",
    "sax1[1,0].plot(glinex2, gliney2,'--',color=\"tab:orange\", lw=2)\n",
    "\n",
    "\n",
    "sax1[1,0].set_xlim(xlow1,xhigh1)\n",
    "sax1[1,0].set_ylim(ylow1,yhigh1)\n",
    "sax1[1,0].set_xscale(\"log\")\n",
    "sax1[1,0].set_yscale(\"log\")\n",
    "\n",
    "sax1[1,0].set_xlabel(r\"$\\eta_{true}$\")\n",
    "sax1[1,0].set_ylabel(r\"APE\")\n",
    "\n",
    "# sax1[1,0].legend(loc='lower right')\n",
    "sax1[1,0].grid(ls=\":\",lw=1.5)\n",
    "\n",
    "\n",
    "## PE histogram\n",
    "xlow1, ylow1 = -15, 0\n",
    "xhigh1, yhigh1 = 15, 0.6\n",
    "stline = np.arange(ylow1,yhigh1,0.01)\n",
    "\n",
    "sax1[0,1].plot(0.0*stline + ANN_postMD_Vlugt_eval_t1.metric_dict['stats']['resid_percent']['median'] , stline, \n",
    "         '--', c='black') \n",
    "sax1[0,1].plot(0.0*stline + ANN_postMD_Vlugt_eval_t1.metric_dict['stats']['resid_percent']['ptile_2p5'] , stline, \n",
    "         '-.', c='blue') \n",
    "sax1[0,1].plot(0.0*stline + ANN_postMD_Vlugt_eval_t1.metric_dict['stats']['resid_percent']['ptile_97p5'] , stline, \n",
    "         '-.', c='blue') \n",
    "\n",
    "sax1[0,1].hist(ANN_postMD_Vlugt_eval_t1.metric_dict['resid_percent'], \n",
    "         range=(-25,25), bins=75, density=True,\n",
    "         rwidth=1 , color='black',alpha=0.6 ,label='Vlugt')\n",
    "\n",
    "sax1[0,1].set_xlim(xlow1,xhigh1)\n",
    "sax1[0,1].set_ylim(ylow1,yhigh1)\n",
    "\n",
    "sax1[0,1].set_xlabel(\"percentage error\")\n",
    "sax1[0,1].set_ylabel(\"Probability density\")\n",
    "\n",
    "# sax1[0,1].legend()\n",
    "sax1[0,1].grid(ls=\":\",lw=1.5)\n",
    "\n",
    "    \n",
    "## Residual % vs true visc\n",
    "xlow1, ylow1 = 0.2, -15\n",
    "xhigh1, yhigh1 = 30, 15\n",
    "stline = np.arange(xlow1,xhigh1,0.01)\n",
    "i=0\n",
    "sax1[1,1].plot(stline, 0.0*stline + ANN_postMD_Vlugt_eval_t1.metric_dict['stats']['resid_percent']['median'] , \n",
    "         '--', c='black') \n",
    "sax1[1,1].plot(stline, 0.0*stline + ANN_postMD_Vlugt_eval_t1.metric_dict['stats']['resid_percent']['ptile_2p5'] ,\n",
    "         '-.', c='blue') \n",
    "sax1[1,1].plot(stline, 0.0*stline + ANN_postMD_Vlugt_eval_t1.metric_dict['stats']['resid_percent']['ptile_97p5'] ,\n",
    "         '-.', c='blue') \n",
    "\n",
    "sax1[1,1].plot(ANN_postMD_Vlugt_eval_t1.Y_true, ANN_postMD_Vlugt_eval_t1.metric_dict['resid_percent'], \n",
    "         marker= 's', mec='black', ms=8, alpha=myaplha,\n",
    "         label=\"Vlugt\")\n",
    "\n",
    "sax1[1,1].plot(ANN_postMD_iacc_eval_t1.Y_true, ANN_postMD_iacc_eval_t1.metric_dict['resid_percent'],\n",
    "         marker= '^', mec='orange', ms=8, alpha=myaplha2,\n",
    "         label=\"In-AD\")\n",
    "\n",
    "sax1[1,1].plot(ANN_postMD_irej_eval_t1.Y_true, ANN_postMD_irej_eval_t1.metric_dict['resid_percent'],\n",
    "         marker= '*', mec='red', ms=8, alpha=myaplha2,\n",
    "         label=\"Out-AD\")\n",
    "\n",
    "sax1[1,1].set_xlim(xlow1,xhigh1)\n",
    "sax1[1,1].set_ylim(ylow1,yhigh1)\n",
    "sax1[1,1].set_xscale(\"log\")\n",
    "\n",
    "sax1[1,1].set_xlabel(r\"$\\eta_{true}$\")\n",
    "sax1[1,1].set_ylabel(r\"percentage error\")\n",
    "\n",
    "# sax1[1,1].legend(loc='upper center')\n",
    "sax1[1,1].grid(ls=\":\",lw=1.5)\n",
    "\n",
    "## Text Labels\n",
    "sax1[0,0].text(0.1, 0.85,\"(a)\",transform=sax1[0,0].transAxes,fontsize=22)\n",
    "sax1[1,0].text(0.1, 0.85,\"(b)\",transform=sax1[1,0].transAxes,fontsize=22)\n",
    "sax1[0,1].text(0.1, 0.85,\"(c)\",transform=sax1[0,1].transAxes,fontsize=22)\n",
    "sax1[1,1].text(0.1, 0.85,\"(d)\",transform=sax1[1,1].transAxes,fontsize=22)\n",
    "    \n",
    "## Save the figure to file\n",
    "plt.savefig(\"figures/sifig-ANN-postMD-perf.png\",dpi=300)"
   ]
  },
  {
   "cell_type": "code",
   "execution_count": null,
   "id": "5262c3d4-3512-4e49-a978-8c95b36e5e93",
   "metadata": {},
   "outputs": [],
   "source": []
  },
  {
   "cell_type": "markdown",
   "id": "b58d64e2-08c7-46c0-a59b-5a673f873855",
   "metadata": {
    "jp-MarkdownHeadingCollapsed": true,
    "tags": [],
    "toc-hr-collapsed": true
   },
   "source": [
    "# Ensemble: preMD"
   ]
  },
  {
   "cell_type": "markdown",
   "id": "4fdbba06-1846-43cb-9c89-11b405d36b1f",
   "metadata": {
    "tags": []
   },
   "source": [
    "## Predict the labels (eta) of the ensemble model: \n",
    "- Vlugt dataset \n",
    "- Interpolation set (all,acc,rej)"
   ]
  },
  {
   "cell_type": "code",
   "execution_count": 73,
   "id": "541957aa-908a-4f83-9610-17125cb5658d",
   "metadata": {},
   "outputs": [],
   "source": [
    "ft_indx = [0,1,2,3]\n",
    "ANN_best_preMD_model_t1 = ANN_kfs_preMD_t1\n",
    "ANN_ens_preMD_Vlugt_Ypred_list_t1 = []\n",
    "ANN_ens_preMD_iall_Ypred_list_t1 = []\n",
    "ANN_ens_preMD_iacc_Ypred_list_t1 = []\n",
    "ANN_ens_preMD_irej_Ypred_list_t1 = []\n",
    "\n",
    "for i in range(ANN_best_preMD_model_t1.num_splits):\n",
    "    for j in range(ANN_best_preMD_model_t1.num_folds):\n",
    "        this_model = ANN_best_preMD_model_t1.trained_model_dbllist[i][j]\n",
    "        ## Vlugt data\n",
    "        Ypred = np.power(10,this_model.predict(X_2000p_fset1_scaled[:,ft_indx]))\n",
    "        ANN_ens_preMD_Vlugt_Ypred_list_t1.append(Ypred[:,0])\n",
    "        \n",
    "        ## All Interpolation data\n",
    "        Ypred = np.power(10,this_model.predict(X_interp_fset1_scaled[:,ft_indx]))\n",
    "        ANN_ens_preMD_iall_Ypred_list_t1.append(Ypred[:,0])\n",
    "        \n",
    "        ## Accepted interpolation data\n",
    "        Ypred = np.power(10,this_model.predict(X_interp_accept_scaled[:,ft_indx]))\n",
    "        ANN_ens_preMD_iacc_Ypred_list_t1.append(Ypred[:,0])\n",
    "        \n",
    "        ## Rejected interpolation data\n",
    "        Ypred = np.power(10,this_model.predict(X_interp_reject_scaled[:,ft_indx]))\n",
    "        ANN_ens_preMD_irej_Ypred_list_t1.append(Ypred[:,0])"
   ]
  },
  {
   "cell_type": "code",
   "execution_count": 74,
   "id": "c180776d-4f30-4bf9-8980-8ff2fcb41422",
   "metadata": {},
   "outputs": [],
   "source": [
    "ANN_ens_preMD_Vlugt_Ypred_stats_t1 = stats_ypred(ANN_ens_preMD_Vlugt_Ypred_list_t1)\n",
    "ANN_ens_preMD_iall_Ypred_stats_t1 = stats_ypred(ANN_ens_preMD_iall_Ypred_list_t1)\n",
    "ANN_ens_preMD_iacc_Ypred_stats_t1 = stats_ypred(ANN_ens_preMD_iacc_Ypred_list_t1)\n",
    "ANN_ens_preMD_irej_Ypred_stats_t1 = stats_ypred(ANN_ens_preMD_irej_Ypred_list_t1)"
   ]
  },
  {
   "cell_type": "code",
   "execution_count": 75,
   "id": "33f9303b-eaee-4cf2-8d20-13ef1839d16e",
   "metadata": {},
   "outputs": [],
   "source": [
    "ANN_ens_preMD_Vlugt_mape = 100*mean_absolute_percentage_error(Y_fset1_raw,ANN_ens_preMD_Vlugt_Ypred_stats_t1.yp_mean_arr)\n",
    "ANN_ens_preMD_iall_mape = 100*mean_absolute_percentage_error(Y_interp_raw,ANN_ens_preMD_iall_Ypred_stats_t1.yp_mean_arr)\n",
    "ANN_ens_preMD_iacc_mape = 100*mean_absolute_percentage_error(Y_interp_accept_raw,ANN_ens_preMD_iacc_Ypred_stats_t1.yp_mean_arr)\n",
    "ANN_ens_preMD_irej_mape = 100*mean_absolute_percentage_error(Y_interp_reject_raw,ANN_ens_preMD_irej_Ypred_stats_t1.yp_mean_arr)"
   ]
  },
  {
   "cell_type": "markdown",
   "id": "495368ee-b64a-4ea7-9ce9-54bbbc5ee406",
   "metadata": {
    "tags": []
   },
   "source": [
    "## Plot the results"
   ]
  },
  {
   "cell_type": "code",
   "execution_count": 76,
   "id": "0a25b684-abc7-4eeb-ba9a-ce5183f7a2f1",
   "metadata": {},
   "outputs": [
    {
     "data": {
      "image/png": "[encoded data removed]",
      "text/plain": [
       "<Figure size 680x480 with 1 Axes>"
      ]
     },
     "metadata": {},
     "output_type": "display_data"
    }
   ],
   "source": [
    "f,ax = plt.subplots(1,1,figsize=(6.8,4.8),dpi=100)\n",
    "\n",
    "stline = np.arange(0.09,20,0.01)\n",
    "\n",
    "ax.plot(Y_fset1_raw,ANN_ens_preMD_Vlugt_Ypred_stats_t1.yp_mean_arr,\n",
    "        \"s\",c=\"black\",mfc=\"none\",label=\"all MAPE:{:.1f}\".format(ANN_ens_preMD_Vlugt_mape))\n",
    "ax.plot(Y_interp_accept_raw,ANN_ens_preMD_iacc_Ypred_stats_t1.yp_mean_arr,\n",
    "        \"^\",c=\"orange\",mfc=\"none\",label=\"iacc MAPE:{:.1f}\".format(ANN_ens_preMD_iacc_mape))\n",
    "ax.plot(Y_interp_reject_raw,ANN_ens_preMD_irej_Ypred_stats_t1.yp_mean_arr,\n",
    "        \"*\",c=\"red\",mfc=\"none\",label=\"irej MAPE:{:.1f}\".format(ANN_ens_preMD_irej_mape))\n",
    "ax.plot(stline,stline,\"k--\",alpha=0.5)\n",
    "\n",
    "ax.legend()\n",
    "ax.set_xscale(\"log\") ; ax.set_yscale(\"log\")\n",
    "ax.set_xlabel(r\"$\\eta_{true}$\") ; ax.set_ylabel(r\"$\\eta_{pred}$\")\n",
    "plt.savefig(\"figures/fig-preMD-ytrue-vs-ENSpred.png\",dpi=300,bbox_inches='tight')"
   ]
  },
  {
   "cell_type": "markdown",
   "id": "321e9e62-f024-4d52-994f-8fc2f35d1b36",
   "metadata": {
    "tags": []
   },
   "source": [
    "## Estimate the errors"
   ]
  },
  {
   "cell_type": "code",
   "execution_count": 77,
   "id": "74a93331-7455-49c9-a1d9-0c22d1fc008c",
   "metadata": {},
   "outputs": [
    {
     "name": "stdout",
     "output_type": "stream",
     "text": [
      "(17, 1)\n",
      "[0.8776064  0.47558558 2.090097   2.6175704  0.8424572  1.7004766\n",
      " 2.1513429  1.3091562  0.41203785 0.90902257 1.897143   2.1637204\n",
      " 0.42696404 5.3030643  0.98851365 2.8393524  1.4951935 ]\n"
     ]
    }
   ],
   "source": [
    "# print(ANN_kfs_preMD_t1.Y_pred_interp_dbllist[0][0])\n",
    "print(ANN_kfs_preMD_t1.Y_pred_interp_dbllist[0][0].shape)\n",
    "print(ANN_kfs_preMD_t1.Y_pred_interp_dbllist[0][0][:,0])"
   ]
  },
  {
   "cell_type": "markdown",
   "id": "acf73cf5-e5c4-4432-bcc9-8854d781daf3",
   "metadata": {
    "tags": []
   },
   "source": [
    "### Vlugt data"
   ]
  },
  {
   "cell_type": "code",
   "execution_count": 78,
   "id": "e63a7ca6-cde8-401b-9192-e7af2b03cf16",
   "metadata": {},
   "outputs": [
    {
     "name": "stdout",
     "output_type": "stream",
     "text": [
      "--------------------------------------------------------------\n",
      "  score             test                \n",
      "  MAE               5.34E-02    \n",
      "    MEDIAN            0.02    \n",
      "    2.5%              0.00    \n",
      "    97.5%             0.27    \n",
      "    MAX               2.67    \n",
      "  MSE               4.29E-02    \n",
      "  RMSE              2.07E-01    \n",
      "  R2                0.991214   \n",
      "\n",
      "  MAPE                1.15    \n",
      "    MEDIAN            0.73    \n",
      "    2.5%              0.06    \n",
      "    97.5%             5.83    \n",
      "    MAX              14.88    \n",
      "\n",
      "  ME                 -0.01    \n",
      "  MPE                 0.06    \n",
      "    MEDIAN            0.14    \n",
      "    2.5%             -2.49    \n",
      "    97.5%             2.72    \n",
      "    MAX               7.39    \n",
      "--------------------------------------------------------------\n"
     ]
    }
   ],
   "source": [
    "ANN_preMD_Vlugt_eval_t1  = evaluate_mymodel(Y_fset1_raw,ANN_ens_preMD_Vlugt_Ypred_stats_t1.yp_mean_arr)\n",
    "ANN_preMD_Vlugt_eval_t1.summary_tofile(\"ensemble-metrics/ANN_preMD_Vlugt_metrics-16aug22.csv\")\n",
    "ANN_preMD_Vlugt_eval_t1.summary()"
   ]
  },
  {
   "cell_type": "markdown",
   "id": "bd844f11-132b-4718-a94d-66bb4439f1db",
   "metadata": {
    "tags": []
   },
   "source": [
    "### All interpolation data"
   ]
  },
  {
   "cell_type": "code",
   "execution_count": 79,
   "id": "6fe6996d-1e1b-4faf-96f5-a545a2bba654",
   "metadata": {},
   "outputs": [
    {
     "name": "stdout",
     "output_type": "stream",
     "text": [
      "--------------------------------------------------------------\n",
      "  score             test                \n",
      "  MAE               5.45E-02    \n",
      "    MEDIAN            0.02    \n",
      "    2.5%              0.00    \n",
      "    97.5%             0.27    \n",
      "    MAX               0.27    \n",
      "  MSE               1.05E-02    \n",
      "  RMSE              1.02E-01    \n",
      "  R2                0.992331   \n",
      "\n",
      "  MAPE               14.77    \n",
      "    MEDIAN            0.89    \n",
      "    2.5%              0.08    \n",
      "    97.5%           128.09    \n",
      "    MAX             183.88    \n",
      "\n",
      "  ME                  0.05    \n",
      "  MPE                14.13    \n",
      "    MEDIAN            0.52    \n",
      "    2.5%             -1.63    \n",
      "    97.5%           128.09    \n",
      "    MAX             183.88    \n",
      "--------------------------------------------------------------\n"
     ]
    }
   ],
   "source": [
    "ANN_preMD_iall_eval_t1  = evaluate_mymodel(Y_interp_raw,ANN_ens_preMD_iall_Ypred_stats_t1.yp_mean_arr)\n",
    "ANN_preMD_iall_eval_t1.summary_tofile(\"ensemble-metrics/ANN_preMD_iall_metrics-16aug22.csv\")\n",
    "ANN_preMD_iall_eval_t1.summary()"
   ]
  },
  {
   "cell_type": "markdown",
   "id": "310adb52-d3b2-4f01-8a6d-d8afb846f9d7",
   "metadata": {
    "tags": []
   },
   "source": [
    "### Accepted interpolation data"
   ]
  },
  {
   "cell_type": "code",
   "execution_count": 80,
   "id": "909f6395-4f01-4419-9061-5e023be47711",
   "metadata": {},
   "outputs": [
    {
     "name": "stdout",
     "output_type": "stream",
     "text": [
      "--------------------------------------------------------------\n",
      "  score             test                \n",
      "  MAE               1.69E-02    \n",
      "    MEDIAN            0.02    \n",
      "    2.5%              0.00    \n",
      "    97.5%             0.05    \n",
      "    MAX               0.05    \n",
      "  MSE               4.97E-04    \n",
      "  RMSE              2.23E-02    \n",
      "  R2                0.999133   \n",
      "\n",
      "  MAPE                1.47    \n",
      "    MEDIAN            0.70    \n",
      "    2.5%              0.07    \n",
      "    97.5%             6.61    \n",
      "    MAX               8.37    \n",
      "\n",
      "  ME                  0.01    \n",
      "  MPE                 0.69    \n",
      "    MEDIAN            0.18    \n",
      "    2.5%             -1.73    \n",
      "    97.5%             6.61    \n",
      "    MAX               8.37    \n",
      "--------------------------------------------------------------\n"
     ]
    }
   ],
   "source": [
    "ANN_preMD_iacc_eval_t1  = evaluate_mymodel(Y_interp_accept_raw,ANN_ens_preMD_iacc_Ypred_stats_t1.yp_mean_arr)\n",
    "ANN_preMD_iacc_eval_t1.summary_tofile(\"ensemble-metrics/ANN_preMD_iacc_metrics-16aug22.csv\")\n",
    "ANN_preMD_iacc_eval_t1.summary()"
   ]
  },
  {
   "cell_type": "markdown",
   "id": "d92d1368-ad20-4c23-8d2e-366e8626ed6c",
   "metadata": {},
   "source": [
    "### Rejected interpolation data"
   ]
  },
  {
   "cell_type": "code",
   "execution_count": 81,
   "id": "b247ff21-6715-4328-a44d-8844e6757a4c",
   "metadata": {},
   "outputs": [
    {
     "name": "stdout",
     "output_type": "stream",
     "text": [
      "--------------------------------------------------------------\n",
      "  score             test                \n",
      "  MAE               1.77E-01    \n",
      "    MEDIAN            0.22    \n",
      "    2.5%              0.02    \n",
      "    97.5%             0.27    \n",
      "    MAX               0.27    \n",
      "  MSE               4.31E-02    \n",
      "  RMSE              2.08E-01    \n",
      "  R2                0.989067   \n",
      "\n",
      "  MAPE               58.01    \n",
      "    MEDIAN           23.84    \n",
      "    2.5%              0.65    \n",
      "    97.5%           173.44    \n",
      "    MAX             183.91    \n",
      "\n",
      "  ME                  0.18    \n",
      "  MPE                57.79    \n",
      "    MEDIAN           23.84    \n",
      "    2.5%             -0.16    \n",
      "    97.5%           173.44    \n",
      "    MAX             183.91    \n",
      "--------------------------------------------------------------\n"
     ]
    }
   ],
   "source": [
    "ANN_preMD_irej_eval_t1  = evaluate_mymodel(Y_interp_reject_raw,ANN_ens_preMD_irej_Ypred_stats_t1.yp_mean_arr)\n",
    "ANN_preMD_irej_eval_t1.summary_tofile(\"ensemble-metrics/ANN_preMD_irej_metrics-16aug22.csv\")\n",
    "ANN_preMD_irej_eval_t1.summary()"
   ]
  },
  {
   "cell_type": "markdown",
   "id": "25328dcd-c7dd-4788-85d9-312e3bd2c401",
   "metadata": {
    "tags": []
   },
   "source": [
    "## Manuscript plots"
   ]
  },
  {
   "cell_type": "markdown",
   "id": "823829e2-55cf-4250-8dea-39d088b50432",
   "metadata": {
    "tags": []
   },
   "source": [
    "### All metrics"
   ]
  },
  {
   "cell_type": "code",
   "execution_count": 82,
   "id": "1a0cb2fc-96bb-4a8e-bced-d6b41e41b0c9",
   "metadata": {},
   "outputs": [
    {
     "data": {
      "image/png": "[encoded data removed]",
      "text/plain": [
       "<Figure size 576x432 with 4 Axes>"
      ]
     },
     "metadata": {},
     "output_type": "display_data"
    }
   ],
   "source": [
    "## Load the stylesheet\n",
    "plt.style.use(\"../mpl-templates/sifig1.mplstyle\")\n",
    "\n",
    "## Set up some essentials\n",
    "myaplha=0.6 ; myaplha2 = 0.9\n",
    "testdata_relerr_mean = 2.0\n",
    "\n",
    "sf1, sax1 = plt.subplots(nrows=2, ncols=2,\n",
    "                       sharey=False, sharex=False, gridspec_kw= {\"wspace\" : 0.05},\n",
    "                       constrained_layout=True, figsize=(8,6))\n",
    "\n",
    "\n",
    "## pred visc vs true visc\n",
    "xlow1, ylow1 = 0.1, 0.1\n",
    "xhigh1, yhigh1 = 30, 30\n",
    "\n",
    "stline = np.arange(xlow1,xhigh1,0.01)\n",
    "\n",
    "sax1[0,0].plot(stline, stline, '--', c='black')\n",
    "sax1[0,0].plot(ANN_preMD_Vlugt_eval_t1.Y_true, ANN_preMD_Vlugt_eval_t1.Y_pred,\n",
    "            marker= 's', mec='black', mfc=None, ms=8, alpha=myaplha,\n",
    "            label=\"Vlugt\", zorder=2)\n",
    "sax1[0,0].plot(ANN_preMD_iacc_eval_t1.Y_true, ANN_preMD_iacc_eval_t1.Y_pred, \n",
    "            marker= '^', mec='orange', mfc=None, ms=8, alpha=myaplha2,\n",
    "            label=\"In-AD\", zorder=4)\n",
    "sax1[0,0].plot(ANN_preMD_irej_eval_t1.Y_true, ANN_preMD_irej_eval_t1.Y_pred, \n",
    "            marker= '*', mec='red', mfc=None, ms=8, alpha=myaplha2,\n",
    "            label=\"Out-AD\", zorder=4)\n",
    "\n",
    "\n",
    "sax1[0,0].set_xlim(xlow1,xhigh1)\n",
    "sax1[0,0].set_ylim(ylow1,yhigh1)\n",
    "sax1[0,0].set_xscale(\"log\")\n",
    "sax1[0,0].set_yscale(\"log\")\n",
    "\n",
    "sax1[0,0].set_xlabel(r\"$\\eta_{true}$\")\n",
    "sax1[0,0].set_ylabel(r\"$\\eta_{pred}$\")\n",
    "\n",
    "sax1[0,0].legend(loc='lower right',fontsize=14)\n",
    "sax1[0,0].grid(ls=\":\",lw=1.5)\n",
    "\n",
    "## APE vs true visc\n",
    "xlow1, ylow1 = 0.2, 0.001\n",
    "xhigh1, yhigh1 = 30, 50\n",
    "    \n",
    "stline = np.arange(xlow1,xhigh1,0.01)\n",
    "\n",
    "glinex1 = np.logspace(np.log10(0.3),np.log10(1),num=10,base=10)\n",
    "gliney1 = np.logspace(-1,-3,num=10,base=10)\n",
    "glinex2 = np.logspace(np.log10(5),np.log10(20),num=10,base=10)\n",
    "gliney2 = np.logspace(-3,0,num=10,base=10)\n",
    "\n",
    "sax1[1,0].plot(ANN_preMD_Vlugt_eval_t1.Y_true, ANN_preMD_Vlugt_eval_t1.metric_dict['resid_abs_percent'], \n",
    "              marker= 's', mec='black', mfc=None, ms=8, alpha=myaplha,\n",
    "              label=\"Train\", zorder=2)\n",
    "\n",
    "sax1[1,0].plot(ANN_preMD_iacc_eval_t1.Y_true, ANN_preMD_iacc_eval_t1.metric_dict['resid_abs_percent'],\n",
    "              marker= '^', mec='orange', mfc=None, ms=8, alpha=myaplha2,\n",
    "              label=\"In-AD\", zorder=4)\n",
    "\n",
    "sax1[1,0].plot(ANN_preMD_irej_eval_t1.Y_true, ANN_preMD_irej_eval_t1.metric_dict['resid_abs_percent'],\n",
    "              marker= '*', mec='red', mfc=None, ms=8, alpha=myaplha2,\n",
    "              label=\"Out-AD\", zorder=4)\n",
    "\n",
    "sax1[1,0].axhline(y=testdata_relerr_mean, ls=\"--\", lw=2.0, color=\"blue\")\n",
    "sax1[1,0].plot(glinex1, gliney1,'--',color=\"tab:orange\", lw=2)\n",
    "sax1[1,0].plot(glinex2, gliney2,'--',color=\"tab:orange\", lw=2)\n",
    "\n",
    "\n",
    "sax1[1,0].set_xlim(xlow1,xhigh1)\n",
    "sax1[1,0].set_ylim(ylow1,yhigh1)\n",
    "sax1[1,0].set_xscale(\"log\")\n",
    "sax1[1,0].set_yscale(\"log\")\n",
    "\n",
    "sax1[1,0].set_xlabel(r\"$\\eta_{true}$\")\n",
    "sax1[1,0].set_ylabel(r\"APE\")\n",
    "\n",
    "# sax1[1,0].legend(loc='lower right')\n",
    "sax1[1,0].grid(ls=\":\",lw=1.5)\n",
    "\n",
    "\n",
    "## PE histogram\n",
    "xlow1, ylow1 = -15, 0\n",
    "xhigh1, yhigh1 = 15, 0.6\n",
    "stline = np.arange(ylow1,yhigh1,0.01)\n",
    "\n",
    "sax1[0,1].plot(0.0*stline + ANN_preMD_Vlugt_eval_t1.metric_dict['stats']['resid_percent']['median'] , stline, \n",
    "         '--', c='black') \n",
    "sax1[0,1].plot(0.0*stline + ANN_preMD_Vlugt_eval_t1.metric_dict['stats']['resid_percent']['ptile_2p5'] , stline, \n",
    "         '-.', c='blue') \n",
    "sax1[0,1].plot(0.0*stline + ANN_preMD_Vlugt_eval_t1.metric_dict['stats']['resid_percent']['ptile_97p5'] , stline, \n",
    "         '-.', c='blue') \n",
    "\n",
    "sax1[0,1].hist(ANN_preMD_Vlugt_eval_t1.metric_dict['resid_percent'], \n",
    "         range=(-25,25), bins=75, density=True,\n",
    "         rwidth=1 , color='black',alpha=0.6 ,label='Vlugt')\n",
    "\n",
    "sax1[0,1].set_xlim(xlow1,xhigh1)\n",
    "sax1[0,1].set_ylim(ylow1,yhigh1)\n",
    "\n",
    "sax1[0,1].set_xlabel(\"percentage error\")\n",
    "sax1[0,1].set_ylabel(\"Probability density\")\n",
    "\n",
    "# sax1[0,1].legend()\n",
    "sax1[0,1].grid(ls=\":\",lw=1.5)\n",
    "\n",
    "    \n",
    "## Residual % vs true visc\n",
    "xlow1, ylow1 = 0.2, -15\n",
    "xhigh1, yhigh1 = 30, 15\n",
    "stline = np.arange(xlow1,xhigh1,0.01)\n",
    "i=0\n",
    "sax1[1,1].plot(stline, 0.0*stline + ANN_preMD_Vlugt_eval_t1.metric_dict['stats']['resid_percent']['median'] , \n",
    "         '--', c='black') \n",
    "sax1[1,1].plot(stline, 0.0*stline + ANN_preMD_Vlugt_eval_t1.metric_dict['stats']['resid_percent']['ptile_2p5'] ,\n",
    "         '-.', c='blue') \n",
    "sax1[1,1].plot(stline, 0.0*stline + ANN_preMD_Vlugt_eval_t1.metric_dict['stats']['resid_percent']['ptile_97p5'] ,\n",
    "         '-.', c='blue') \n",
    "\n",
    "sax1[1,1].plot(ANN_preMD_Vlugt_eval_t1.Y_true, ANN_preMD_Vlugt_eval_t1.metric_dict['resid_percent'], \n",
    "         marker= 's', mec='black', ms=8, alpha=myaplha,\n",
    "         label=\"Vlugt\")\n",
    "\n",
    "sax1[1,1].plot(ANN_preMD_iacc_eval_t1.Y_true, ANN_preMD_iacc_eval_t1.metric_dict['resid_percent'],\n",
    "         marker= '^', mec='orange', ms=8, alpha=myaplha2,\n",
    "         label=\"In-AD\")\n",
    "\n",
    "sax1[1,1].plot(ANN_preMD_irej_eval_t1.Y_true, ANN_preMD_irej_eval_t1.metric_dict['resid_percent'],\n",
    "         marker= '*', mec='red', ms=8, alpha=myaplha2,\n",
    "         label=\"Out-AD\")\n",
    "\n",
    "sax1[1,1].set_xlim(xlow1,xhigh1)\n",
    "sax1[1,1].set_ylim(ylow1,yhigh1)\n",
    "sax1[1,1].set_xscale(\"log\")\n",
    "\n",
    "sax1[1,1].set_xlabel(r\"$\\eta_{true}$\")\n",
    "sax1[1,1].set_ylabel(r\"percentage error\")\n",
    "\n",
    "# sax1[1,1].legend(loc='upper center')\n",
    "sax1[1,1].grid(ls=\":\",lw=1.5)\n",
    "\n",
    "## Text Labels\n",
    "sax1[0,0].text(0.1, 0.85,\"(a)\",transform=sax1[0,0].transAxes,fontsize=22)\n",
    "sax1[1,0].text(0.1, 0.85,\"(b)\",transform=sax1[1,0].transAxes,fontsize=22)\n",
    "sax1[0,1].text(0.1, 0.85,\"(c)\",transform=sax1[0,1].transAxes,fontsize=22)\n",
    "sax1[1,1].text(0.1, 0.85,\"(d)\",transform=sax1[1,1].transAxes,fontsize=22)\n",
    "    \n",
    "## Save the figure to file\n",
    "plt.savefig(\"figures/sifig-ANN-preMD-perf.png\",dpi=300)"
   ]
  },
  {
   "cell_type": "code",
   "execution_count": null,
   "id": "5479bb42-d48f-4b05-b4c4-4532aa0a133d",
   "metadata": {},
   "outputs": [],
   "source": []
  },
  {
   "cell_type": "markdown",
   "id": "85518f17-1e6e-4499-bf58-f717c8205c3b",
   "metadata": {
    "jp-MarkdownHeadingCollapsed": true,
    "tags": []
   },
   "source": [
    "# Model interpolation\n",
    "- x1_int\n",
    "- sig2_int\n",
    "- eps2_int\n",
    "- k12_int"
   ]
  },
  {
   "cell_type": "markdown",
   "id": "19c98885-9f8b-47fd-b649-22ee64779815",
   "metadata": {
    "jp-MarkdownHeadingCollapsed": true,
    "tags": []
   },
   "source": [
    "### preMD scaling"
   ]
  },
  {
   "cell_type": "code",
   "execution_count": 85,
   "id": "27b13bd0-c017-419d-ab7b-7fdb4d3ec0e0",
   "metadata": {},
   "outputs": [
    {
     "name": "stdout",
     "output_type": "stream",
     "text": [
      "X scaled :  (273, 4)\n"
     ]
    }
   ],
   "source": [
    "## transform the features if necessary\n",
    "preMD_X_raw = X_2000p_fset1_raw[:,0:4]\n",
    "preMD_sc = MinMaxScaler() ## Needs a 2D array -- if only a single feature, use reshape\n",
    "preMD_sc.fit(preMD_X_raw) \n",
    "tmparr = preMD_sc.transform(preMD_X_raw)\n",
    "print(\"X scaled : \", tmparr.shape)"
   ]
  },
  {
   "cell_type": "markdown",
   "id": "f5028336-ec5e-4476-95c4-f033f9db7e2c",
   "metadata": {
    "jp-MarkdownHeadingCollapsed": true,
    "tags": []
   },
   "source": [
    "### Construct the interpolation grid"
   ]
  },
  {
   "cell_type": "code",
   "execution_count": 86,
   "id": "6fca85ba-119e-4d64-a019-e7c541ac2c53",
   "metadata": {},
   "outputs": [],
   "source": [
    "## Values used to construct the original X grid\n",
    "x1_vals = [0.10, 0.30, 0.50, 0.70, 0.90] ; num_x1_vals = len(x1_vals)\n",
    "eps2_vals = [0.50, 0.60, 0.80, 1.00] ; num_eps2_vals = len(eps2_vals)\n",
    "sig2_vals = [1.0, 1.20, 1.40, 1.60] ; num_sig2_vals = len(sig2_vals)\n",
    "k12_vals = [-0.60, -0.30, 0.00, 0.05] ; num_k12_vals = len(k12_vals)"
   ]
  },
  {
   "cell_type": "code",
   "execution_count": 87,
   "id": "a35af1be-42b0-4ff1-9e83-2aeee24c17f0",
   "metadata": {},
   "outputs": [
    {
     "name": "stdout",
     "output_type": "stream",
     "text": [
      "Num of Vlugt grid points:  320\n",
      "Raw grid   :  (320, 4)\n",
      "Scaled grid:  (320, 4)\n",
      "Num holes  :  47\n",
      "Vlugt holes:  (47, 4)\n",
      "Vlugt holes:  [[0.1  0.5  1.   0.  ]\n",
      " [0.1  0.5  1.   0.05]]\n"
     ]
    }
   ],
   "source": [
    "## construct the total Vlugt grid\n",
    "num_vlugt_grid_vals = num_x1_vals*num_eps2_vals*num_sig2_vals*num_k12_vals\n",
    "print(\"Num of Vlugt grid points: \",num_vlugt_grid_vals)\n",
    "\n",
    "vlugt_grid = np.zeros((num_vlugt_grid_vals,4))\n",
    "cntr = 0\n",
    "for i in range(num_x1_vals):\n",
    "    for j in range(num_eps2_vals):\n",
    "        for k in range(num_sig2_vals):\n",
    "            for l in range(num_k12_vals):\n",
    "                vlugt_grid[cntr,:] = [x1_vals[i],eps2_vals[j],sig2_vals[k],k12_vals[l]]\n",
    "                cntr += 1\n",
    "\n",
    "## Get a scaled version\n",
    "vlugt_grid_scaled = preMD_sc.transform(vlugt_grid)\n",
    "# print(\"Raw grid   : \", vlugt_grid[0:2,:])\n",
    "# print(\"Scaled grid: \", vlugt_grid_scaled[0:2,:])\n",
    "print(\"Raw grid   : \", vlugt_grid.shape)\n",
    "print(\"Scaled grid: \", vlugt_grid_scaled.shape)\n",
    "\n",
    "## Locate holes\n",
    "vlugt_holes = [] ; num_vlugt_holes = 0\n",
    "for p in vlugt_grid:\n",
    "    mindist = 2\n",
    "    for d in preMD_X_raw:\n",
    "        dist = np.linalg.norm(p-d)\n",
    "        if (dist < mindist):\n",
    "            mindist = dist\n",
    "    if (mindist > 0.0001):\n",
    "        vlugt_holes.append(p)\n",
    "        num_vlugt_holes += 1\n",
    "        \n",
    "vlugt_holes = np.array(vlugt_holes)  \n",
    "vlugt_holes_scaled = preMD_sc.transform(vlugt_holes)\n",
    "print(\"Num holes  : \", num_vlugt_holes)\n",
    "print(\"Vlugt holes: \", vlugt_holes.shape)\n",
    "print(\"Vlugt holes: \", vlugt_holes[0:2,:])\n",
    "\n",
    "# All data grid scales\n",
    "preMD_X_raw_scaled = preMD_sc.transform(preMD_X_raw)"
   ]
  },
  {
   "cell_type": "code",
   "execution_count": 88,
   "id": "7e154f1d-18a1-4163-b043-614ee748fa64",
   "metadata": {},
   "outputs": [
    {
     "name": "stdout",
     "output_type": "stream",
     "text": [
      "Num of grid points:  19\n",
      "\n",
      "x1 Grid values       :  [0.14, 0.18, 0.22000000000000003, 0.26, 0.30000000000000004, 0.3400000000000001, 0.38, 0.42000000000000004, 0.45999999999999996, 0.5, 0.54, 0.5800000000000001, 0.62, 0.66, 0.7, 0.74, 0.78, 0.82, 0.86]\n",
      "Num of interpolated points:  1216\n",
      "x1 interpolate shape:  (1216, 4)\n",
      "\n",
      "eps2 Grid values       :  [0.525, 0.55, 0.575, 0.6, 0.625, 0.65, 0.675, 0.7, 0.725, 0.75, 0.775, 0.8, 0.825, 0.85, 0.875, 0.9, 0.925, 0.95, 0.975]\n",
      "Num of interpolated points:  1520\n",
      "eps2 interpolate shape:  (1520, 4)\n",
      "\n",
      "sig2 Grid values       :  [1.03, 1.06, 1.09, 1.12, 1.15, 1.18, 1.21, 1.24, 1.27, 1.3, 1.33, 1.36, 1.3900000000000001, 1.4200000000000002, 1.4500000000000002, 1.48, 1.51, 1.54, 1.57]\n",
      "Num of interpolated points:  1520\n",
      "sig2 interpolate shape:  (1520, 4)\n",
      "\n",
      "k12 Grid values       :  [-0.5675, -0.5349999999999999, -0.5025, -0.47, -0.4375, -0.40499999999999997, -0.3725, -0.33999999999999997, -0.30749999999999994, -0.27499999999999997, -0.24249999999999994, -0.20999999999999996, -0.17749999999999994, -0.14500000000000002, -0.11249999999999999, -0.07999999999999996, -0.04749999999999999, -0.014999999999999902, 0.01749999999999996]\n",
      "Num of interpolated points:  1520\n",
      "k12 interpolate shape:  (1520, 4)\n",
      "\n"
     ]
    }
   ],
   "source": [
    "## Create X_in -- a grid of values within X range by changing 1 feature at a time\n",
    "num_in = 19 ; num_features = 4\n",
    "print(\"Num of grid points: \",num_in)\n",
    "print()\n",
    "\n",
    "#### x1 interpolation ####\n",
    "x1_int_vals = [] ; delx = x1_vals[num_x1_vals-1] - x1_vals[0] ; minx = x1_vals[0]\n",
    "for i in range(1, num_in+1):\n",
    "    x1_int_vals.append(minx + i*delx/(num_in+1.0))\n",
    "print(\"x1 Grid values       : \",x1_int_vals)\n",
    "\n",
    "num_x1_int_data = num_in*(num_eps2_vals*num_sig2_vals*num_k12_vals)\n",
    "print(\"Num of interpolated points: \",num_x1_int_data)\n",
    "assert num_x1_int_data < 100000 # a check to keep the program from crashing\n",
    "x1_int = np.zeros((num_x1_int_data,num_features)) \n",
    "cntr = 0\n",
    "for i in range(num_in):\n",
    "    for j in range(num_eps2_vals):\n",
    "        for k in range(num_sig2_vals):\n",
    "            for l in range(num_k12_vals):\n",
    "                tmp = np.array([x1_int_vals[i], eps2_vals[j], sig2_vals[k], k12_vals[l]])\n",
    "                x1_int[cntr,:] = tmp.copy()\n",
    "                cntr +=1\n",
    "x1_int = preMD_sc.transform(x1_int)\n",
    "print(\"x1 interpolate shape: \", x1_int.shape)\n",
    "print()\n",
    "\n",
    "#### eps2 interpolation ####\n",
    "eps2_int_vals = [] ; delx = eps2_vals[num_eps2_vals-1] - eps2_vals[0] ; minx = eps2_vals[0]\n",
    "for i in range(1, num_in+1):\n",
    "    eps2_int_vals.append(minx + i*delx/(num_in+1.0))\n",
    "print(\"eps2 Grid values       : \",eps2_int_vals)  \n",
    "\n",
    "num_eps2_int_data = num_in*(num_x1_vals*num_sig2_vals*num_k12_vals)\n",
    "print(\"Num of interpolated points: \",num_eps2_int_data)\n",
    "assert num_eps2_int_data < 100000 # a check to keep the program from crashing\n",
    "eps2_int = np.zeros((num_eps2_int_data,num_features)) \n",
    "cntr = 0\n",
    "for i in range(num_x1_vals):\n",
    "    for j in range(num_in):\n",
    "        for k in range(num_sig2_vals):\n",
    "            for l in range(num_k12_vals):\n",
    "                tmp = np.array([x1_vals[i], eps2_int_vals[j], sig2_vals[k], k12_vals[l]])\n",
    "                eps2_int[cntr,:] = tmp.copy()\n",
    "                cntr +=1\n",
    "eps2_int = preMD_sc.transform(eps2_int)\n",
    "print(\"eps2 interpolate shape: \", eps2_int.shape)\n",
    "print()\n",
    "\n",
    "#### sig2 interpolation ####\n",
    "sig2_int_vals = [] ; delx = sig2_vals[num_sig2_vals-1] - sig2_vals[0] ; minx = sig2_vals[0]\n",
    "for i in range(1, num_in+1):\n",
    "    sig2_int_vals.append(minx + i*delx/(num_in+1.0))\n",
    "print(\"sig2 Grid values       : \",sig2_int_vals)\n",
    "\n",
    "num_sig2_int_data = num_in*(num_x1_vals*num_eps2_vals*num_k12_vals)\n",
    "print(\"Num of interpolated points: \",num_sig2_int_data)\n",
    "assert num_sig2_int_data < 100000 # a check to keep the program from crashing\n",
    "sig2_int = np.zeros((num_sig2_int_data,num_features)) \n",
    "cntr = 0\n",
    "for i in range(num_x1_vals):\n",
    "    for j in range(num_eps2_vals):\n",
    "        for k in range(num_in):\n",
    "            for l in range(num_k12_vals):\n",
    "                tmp = np.array([x1_vals[i], eps2_vals[j], sig2_int_vals[k], k12_vals[l]])\n",
    "                sig2_int[cntr,:] = tmp.copy()\n",
    "                cntr +=1\n",
    "sig2_int = preMD_sc.transform(sig2_int)\n",
    "print(\"sig2 interpolate shape: \", sig2_int.shape)\n",
    "print()\n",
    "\n",
    "#### k12 interpolation ####\n",
    "k12_int_vals = [] ; delx = k12_vals[num_k12_vals-1] - k12_vals[0] ; minx = k12_vals[0]\n",
    "for i in range(1, num_in+1):\n",
    "    k12_int_vals.append(minx + i*delx/(num_in+1.0))\n",
    "print(\"k12 Grid values       : \",k12_int_vals) \n",
    "\n",
    "num_k12_int_data = num_in*(num_x1_vals*num_eps2_vals*num_sig2_vals)\n",
    "print(\"Num of interpolated points: \",num_k12_int_data)\n",
    "assert num_k12_int_data < 100000 # a check to keep the program from crashing\n",
    "k12_int = np.zeros((num_k12_int_data,num_features)) \n",
    "cntr = 0\n",
    "for i in range(num_x1_vals):\n",
    "    for j in range(num_eps2_vals):\n",
    "        for k in range(num_sig2_vals):\n",
    "            for l in range(num_in):\n",
    "                tmp = np.array([x1_vals[i], eps2_vals[j], sig2_vals[k], k12_int_vals[l]])\n",
    "                k12_int[cntr,:] = tmp.copy()\n",
    "                cntr +=1\n",
    "k12_int = preMD_sc.transform(k12_int)\n",
    "print(\"k12 interpolate shape: \", k12_int.shape)\n",
    "print()"
   ]
  },
  {
   "cell_type": "code",
   "execution_count": 89,
   "id": "559c3432-432a-4545-85c8-fceaa5692c1d",
   "metadata": {},
   "outputs": [
    {
     "name": "stdout",
     "output_type": "stream",
     "text": [
      "Time:  3.7310773079516366\n",
      "Time:  4.734044268028811\n",
      "Time:  4.760957446065731\n",
      "Time:  4.778407815028913\n"
     ]
    }
   ],
   "source": [
    "#### Color code the points w.r.t the distance from the nearest training point ####\n",
    "# if  train_dist > vlugt_dist -> the point is closer to test than train set\n",
    "# if  vlugt_dist > grid_dist  -> the point is closer to hole than train/test set\n",
    "\n",
    "#### x1 interpolation distance ####\n",
    "tic = time.perf_counter()\n",
    "x1_train_dist = [] ; x1_vlugt_dist = [] ; x1_grid_dist = [] ; x1_hole_bool = []\n",
    "\n",
    "indxlist = [1,2,3] ; cntr = 0\n",
    "for x in x1_int:\n",
    "    mindist = 4\n",
    "    # training grid distance\n",
    "    for y in preMD_X_raw_scaled:\n",
    "        # tmpdist = np.sum(np.square(x[indxlist]-y[indxlist]))\n",
    "        tmpdist = np.linalg.norm(x-y)\n",
    "        if tmpdist < mindist:\n",
    "            mindist = tmpdist\n",
    "    x1_train_dist.append(mindist)\n",
    "\n",
    "    # Vlugt distance\n",
    "    for y in preMD_X_raw_scaled:\n",
    "        # tmpdist = np.sum(np.square(x[indxlist]-y[indxlist]))\n",
    "        tmpdist = np.linalg.norm(x-y)\n",
    "        if tmpdist < mindist:\n",
    "            mindist = tmpdist\n",
    "    x1_vlugt_dist.append(mindist)\n",
    "\n",
    "    # ideal grid distance\n",
    "    for y in vlugt_holes_scaled:\n",
    "        # tmpdist = np.sum(np.square(x[indxlist]-y[indxlist]))\n",
    "        tmpdist = np.linalg.norm(x-y)\n",
    "        if tmpdist < mindist:\n",
    "            mindist = tmpdist\n",
    "    x1_grid_dist.append(mindist)\n",
    "\n",
    "    if (x1_vlugt_dist[cntr] - x1_grid_dist[cntr] > 0.0001):\n",
    "        x1_hole_bool.append(True)\n",
    "    else:\n",
    "        x1_hole_bool.append(False)\n",
    "\n",
    "    cntr += 1\n",
    "\n",
    "toc = time.perf_counter()\n",
    "print(\"Time: \",toc-tic)\n",
    "\n",
    "#### eps2 interpolation distance ####\n",
    "tic = time.perf_counter()\n",
    "eps2_train_dist = [] ; eps2_vlugt_dist = [] ; eps2_grid_dist = [] ; eps2_hole_bool = []\n",
    "\n",
    "indxlist = [0,2,3] ; cntr = 0\n",
    "for x in eps2_int:\n",
    "    mindist = 4\n",
    "    # training grid distance\n",
    "    for y in preMD_X_raw_scaled:\n",
    "        # tmpdist = np.sum(np.square(x[indxlist]-y[indxlist]))\n",
    "        tmpdist = np.linalg.norm(x-y)\n",
    "        if tmpdist < mindist:\n",
    "            mindist = tmpdist\n",
    "    eps2_train_dist.append(mindist)\n",
    "\n",
    "    # Vlugt distance\n",
    "    for y in preMD_X_raw_scaled:\n",
    "        # tmpdist = np.sum(np.square(x[indxlist]-y[indxlist]))\n",
    "        tmpdist = np.linalg.norm(x-y)\n",
    "        if tmpdist < mindist:\n",
    "            mindist = tmpdist\n",
    "    eps2_vlugt_dist.append(mindist)\n",
    "\n",
    "    # ideal grid distance\n",
    "    for y in vlugt_holes_scaled:\n",
    "        # tmpdist = np.sum(np.square(x[indxlist]-y[indxlist]))\n",
    "        tmpdist = np.linalg.norm(x-y)\n",
    "        if tmpdist < mindist:\n",
    "            mindist = tmpdist\n",
    "    eps2_grid_dist.append(mindist)\n",
    "\n",
    "    if (eps2_vlugt_dist[cntr] - eps2_grid_dist[cntr] > 0.0001):\n",
    "        eps2_hole_bool.append(True)\n",
    "    else:\n",
    "        eps2_hole_bool.append(False)\n",
    "\n",
    "    cntr += 1\n",
    "\n",
    "toc = time.perf_counter()\n",
    "print(\"Time: \",toc-tic)\n",
    "\n",
    "#### sig2 interpolation distance ####\n",
    "tic = time.perf_counter()\n",
    "sig2_train_dist = [] ; sig2_vlugt_dist = [] ; sig2_grid_dist = [] ; sig2_hole_bool = []\n",
    "\n",
    "indxlist = [0,1,3] ; cntr = 0\n",
    "for x in sig2_int:\n",
    "    mindist = 4\n",
    "    # training grid distance\n",
    "    for y in preMD_X_raw_scaled:\n",
    "        # tmpdist = np.sum(np.square(x[indxlist]-y[indxlist]))\n",
    "        tmpdist = np.linalg.norm(x-y)\n",
    "        if tmpdist < mindist:\n",
    "            mindist = tmpdist\n",
    "    sig2_train_dist.append(mindist)\n",
    "\n",
    "    # Vlugt distance\n",
    "    for y in preMD_X_raw_scaled:\n",
    "        # tmpdist = np.sum(np.square(x[indxlist]-y[indxlist]))\n",
    "        tmpdist = np.linalg.norm(x-y)\n",
    "        if tmpdist < mindist:\n",
    "            mindist = tmpdist\n",
    "    sig2_vlugt_dist.append(mindist)\n",
    "\n",
    "    # ideal grid distance\n",
    "    for y in vlugt_holes_scaled:\n",
    "        # tmpdist = np.sum(np.square(x[indxlist]-y[indxlist]))\n",
    "        tmpdist = np.linalg.norm(x-y)\n",
    "        if tmpdist < mindist:\n",
    "            mindist = tmpdist\n",
    "    sig2_grid_dist.append(mindist)\n",
    "\n",
    "    if (sig2_vlugt_dist[cntr] - sig2_grid_dist[cntr] > 0.0001):\n",
    "        sig2_hole_bool.append(True)\n",
    "    else:\n",
    "        sig2_hole_bool.append(False)\n",
    "\n",
    "    cntr += 1\n",
    "\n",
    "toc = time.perf_counter()\n",
    "print(\"Time: \",toc-tic)\n",
    "\n",
    "#### k12 interpolation distance ####\n",
    "tic = time.perf_counter()\n",
    "k12_train_dist = [] ; k12_vlugt_dist = [] ; k12_grid_dist = [] ; k12_hole_bool = []\n",
    "\n",
    "indxlist = [0,1,2] ; cntr = 0\n",
    "for x in k12_int:\n",
    "    mindist = 4\n",
    "    # training grid distance\n",
    "    for y in preMD_X_raw_scaled:\n",
    "        # tmpdist = np.sum(np.square(x[indxlist]-y[indxlist]))\n",
    "        tmpdist = np.linalg.norm(x-y)\n",
    "        if tmpdist < mindist:\n",
    "            mindist = tmpdist\n",
    "    k12_train_dist.append(mindist)\n",
    "\n",
    "    # Vlugt distance\n",
    "    for y in preMD_X_raw_scaled:\n",
    "        # tmpdist = np.sum(np.square(x[indxlist]-y[indxlist]))\n",
    "        tmpdist = np.linalg.norm(x-y)\n",
    "        if tmpdist < mindist:\n",
    "            mindist = tmpdist\n",
    "    k12_vlugt_dist.append(mindist)\n",
    "\n",
    "    # ideal grid distance\n",
    "    for y in vlugt_holes_scaled:\n",
    "        # tmpdist = np.sum(np.square(x[indxlist]-y[indxlist]))\n",
    "        tmpdist = np.linalg.norm(x-y)\n",
    "        if tmpdist < mindist:\n",
    "            mindist = tmpdist\n",
    "    k12_grid_dist.append(mindist)\n",
    "\n",
    "    if (k12_vlugt_dist[cntr] - k12_grid_dist[cntr] > 0.0001):\n",
    "        k12_hole_bool.append(True)\n",
    "    else:\n",
    "        k12_hole_bool.append(False)\n",
    "\n",
    "    cntr += 1\n",
    "\n",
    "toc = time.perf_counter()\n",
    "print(\"Time: \",toc-tic)"
   ]
  },
  {
   "cell_type": "code",
   "execution_count": 90,
   "id": "d790bd3f-1f02-4187-9fbe-123290040a9f",
   "metadata": {},
   "outputs": [
    {
     "name": "stdout",
     "output_type": "stream",
     "text": [
      "Num int closer to holes :  205 1216 0.16858552631578946\n",
      "Num int closer to holes :  137 1520 0.09013157894736842\n",
      "Num int closer to holes :  216 1520 0.14210526315789473\n",
      "Num int closer to holes :  134 1520 0.0881578947368421\n"
     ]
    }
   ],
   "source": [
    "tst = list(map(int, x1_hole_bool))\n",
    "print(\"Num int closer to holes : \", np.sum(tst), len(tst), np.sum(tst)/len(tst))\n",
    "tst = list(map(int, eps2_hole_bool))\n",
    "print(\"Num int closer to holes : \", np.sum(tst), len(tst), np.sum(tst)/len(tst))\n",
    "tst = list(map(int, sig2_hole_bool))\n",
    "print(\"Num int closer to holes : \", np.sum(tst), len(tst), np.sum(tst)/len(tst))\n",
    "tst = list(map(int, k12_hole_bool))\n",
    "print(\"Num int closer to holes : \", np.sum(tst), len(tst), np.sum(tst)/len(tst))"
   ]
  },
  {
   "cell_type": "markdown",
   "id": "a2c62bc6-14f2-4ee7-83cb-caef52f45d78",
   "metadata": {
    "tags": []
   },
   "source": [
    "### Evaluate the models at interpolated points"
   ]
  },
  {
   "cell_type": "code",
   "execution_count": 91,
   "id": "d86adf1f-0c2a-4ef1-849c-cac336ef86e2",
   "metadata": {},
   "outputs": [],
   "source": [
    "ft_indx = [0,1,2,3]\n",
    "ANN_best_preMD_model_t1 = ANN_kfs_preMD_t1\n",
    "ANN_ens_x1_int_Ypred_list_t1 = []\n",
    "ANN_ens_sig2_int_Ypred_list_t1 = []\n",
    "ANN_ens_eps2_int_Ypred_list_t1 = []\n",
    "ANN_ens_k12_int_Ypred_list_t1 = []\n",
    "\n",
    "for i in range(ANN_best_preMD_model_t1.num_splits):\n",
    "    for j in range(ANN_best_preMD_model_t1.num_folds):\n",
    "        this_model = ANN_best_preMD_model_t1.trained_model_dbllist[i][j]\n",
    "        ## x1-int\n",
    "        Ypred = np.power(10,this_model.predict(x1_int[:,ft_indx]))\n",
    "        ANN_ens_x1_int_Ypred_list_t1.append(Ypred)\n",
    "        \n",
    "        ## sig2-int\n",
    "        Ypred = np.power(10,this_model.predict(sig2_int[:,ft_indx]))\n",
    "        ANN_ens_sig2_int_Ypred_list_t1.append(Ypred)\n",
    "        \n",
    "        ## eps2-int\n",
    "        Ypred = np.power(10,this_model.predict(eps2_int[:,ft_indx]))\n",
    "        ANN_ens_eps2_int_Ypred_list_t1.append(Ypred)\n",
    "        \n",
    "        ## k12-int\n",
    "        Ypred = np.power(10,this_model.predict(k12_int[:,ft_indx]))\n",
    "        ANN_ens_k12_int_Ypred_list_t1.append(Ypred)"
   ]
  },
  {
   "cell_type": "code",
   "execution_count": 92,
   "id": "7dc338c8-0f3b-40c4-b72c-2036ce329784",
   "metadata": {},
   "outputs": [],
   "source": [
    "ANN_ens_x1_int_Ypred_stats_t1 = stats_ypred(ANN_ens_x1_int_Ypred_list_t1)\n",
    "ANN_ens_eps2_int_Ypred_stats_t1 = stats_ypred(ANN_ens_eps2_int_Ypred_list_t1)\n",
    "ANN_ens_sig2_int_Ypred_stats_t1 = stats_ypred(ANN_ens_sig2_int_Ypred_list_t1)\n",
    "ANN_ens_k12_int_Ypred_stats_t1 = stats_ypred(ANN_ens_k12_int_Ypred_list_t1)"
   ]
  },
  {
   "cell_type": "markdown",
   "id": "976bbe5b-9344-4b9d-8e36-79a52716aba8",
   "metadata": {
    "jp-MarkdownHeadingCollapsed": true,
    "tags": []
   },
   "source": [
    "## Figure 4 - Model interpolation"
   ]
  },
  {
   "cell_type": "code",
   "execution_count": 93,
   "id": "54244400-01a9-4b66-9574-40cb3301ebc5",
   "metadata": {},
   "outputs": [
    {
     "data": {
      "image/png": "[encoded data removed]",
      "text/plain": [
       "<Figure size 1296x864 with 8 Axes>"
      ]
     },
     "metadata": {},
     "output_type": "display_data"
    }
   ],
   "source": [
    "from matplotlib import cm\n",
    "cmap1 = cm.get_cmap('viridis_r')\n",
    "alpha1 = 1.0 ; alpha2 = 0.6\n",
    "\n",
    "plt.style.use(\"../mpl-templates/interpolate.mplstyle\")\n",
    "mpl.rcParams['lines.markersize'] = 9\n",
    "mpl.rcParams['lines.markerfacecolor'] = 'None'\n",
    "mpl.rcParams['lines.markeredgecolor'] = 'black'\n",
    "mpl.rcParams['lines.markeredgewidth'] = 0.5\n",
    "mpl.rcParams['markers.fillstyle'] = 'none'\n",
    "label_str = ['X_1', 'epsilon_2', 'sigma_2', 'k_12']\n",
    "\n",
    "sf6, sax6 = plt.subplots(nrows=2, ncols=2, \n",
    "                       sharey=True, sharex=True, gridspec_kw= {\"wspace\" : 0.05},\n",
    "                       figsize=(18,12))\n",
    "cntr = 0\n",
    "for i in range(2):\n",
    "    for j in range(2):\n",
    "        sax6[i,j].scatter(X_2000p_fset1_scaled[:,cntr], Y_fset1_raw,\n",
    "                        marker=\"D\", alpha=alpha2, c=\"red\", label=\"Vlugt\", linewidths=(1.5,))\n",
    "        \n",
    "        for spine in sax6[i,j].spines.values():\n",
    "            spine.set_edgecolor('black')\n",
    "\n",
    "        sax6[i,j].set_ylabel(r\"$\\eta$\")\n",
    "        sax6[i,j].set_yscale(\"log\")\n",
    "        sax6[i,j].grid(ls=\":\")\n",
    "        cntr += 1 \n",
    "\n",
    "#### x1 interpolation ####\n",
    "mpl.rcParams['lines.markersize'] = 10\n",
    "mpl.rcParams['markers.fillstyle'] = 'full'\n",
    "sim1 = sax6[0,0].scatter(x1_int[:,0], ANN_ens_x1_int_Ypred_stats_t1.yp_mean_arr, marker = \"_\",\n",
    "                   c=x1_vlugt_dist, cmap=cmap1, vmin=0, vmax=0.2,\n",
    "                   alpha=alpha1, \n",
    "                   label=\"Interpolation\")\n",
    "\n",
    "#### eps2 interpolation ####\n",
    "sim2 = sax6[0,1].scatter(eps2_int[:,1], ANN_ens_eps2_int_Ypred_stats_t1.yp_mean_arr, marker = \"_\",\n",
    "           c=eps2_vlugt_dist, cmap=cmap1, vmin=0, vmax=0.2,\n",
    "           alpha=alpha1, \n",
    "           label=\"Interpolation\")\n",
    "\n",
    "#### sig2 interpolation ####\n",
    "sim3 = sax6[1,0].scatter(sig2_int[:,2], ANN_ens_sig2_int_Ypred_stats_t1.yp_mean_arr, marker = \"_\",\n",
    "           c=sig2_vlugt_dist, cmap=cmap1, vmin=0, vmax=0.2,\n",
    "           alpha=alpha1, \n",
    "           label=\"Interpolation\")\n",
    "\n",
    "#### k12 interpolation ####\n",
    "sim4 = sax6[1,1].scatter(k12_int[:,3], ANN_ens_k12_int_Ypred_stats_t1.yp_mean_arr, marker = \"_\",\n",
    "                 c=k12_vlugt_dist, cmap=cmap1, vmin=0, vmax=0.2,\n",
    "                 alpha=alpha1, \n",
    "                 label=\"Interpolation\")\n",
    "ticklist = [0.0, 0.05, 0.10, 0.15, 0.20]\n",
    "sf6.colorbar(sim1, ax=sax6[0,0],\n",
    "             location = \"right\",\n",
    "             ticks= ticklist, format='%.2f')\n",
    "sf6.colorbar(sim2, ax=sax6[0,1],\n",
    "             location = \"right\",\n",
    "             ticks= ticklist, format='%.2f')\n",
    "sf6.colorbar(sim3, ax=sax6[1,0],\n",
    "             location = \"right\",\n",
    "             ticks= ticklist, format='%.2f')\n",
    "sf6.colorbar(sim4, ax=sax6[1,1],\n",
    "             location = \"right\",\n",
    "             ticks= ticklist, format='%.2f')\n",
    "\n",
    "sax6[0,0].set_xlabel(r\"X$_1$\")\n",
    "sax6[1,0].set_xlabel(r\"$\\sigma_2$\")\n",
    "sax6[0,1].set_xlabel(r\"$\\epsilon_2$\")\n",
    "sax6[1,1].set_xlabel(r\"k$_{12}$\")\n",
    "\n",
    "plt.legend()\n",
    "plt.savefig(\"figures/sfig-ANN-ens-interpolation.png\",dpi=300)"
   ]
  },
  {
   "cell_type": "markdown",
   "id": "05f790ca-8e70-4454-ab7a-170c989ca81d",
   "metadata": {
    "jp-MarkdownHeadingCollapsed": true,
    "tags": [],
    "toc-hr-collapsed": true
   },
   "source": [
    "# Save to files\n",
    "- pickle.dump(obj, open(fname,'wb'))\n",
    "- pickle.load(open(savepath+'test1.obj', 'rb'))"
   ]
  },
  {
   "cell_type": "markdown",
   "id": "4168bba0-49ea-4dea-8fb7-0207cb0a2a84",
   "metadata": {
    "tags": []
   },
   "source": [
    "## Test saving the models"
   ]
  },
  {
   "cell_type": "markdown",
   "id": "c1aff34a-8e48-4572-947b-e8562b27612d",
   "metadata": {
    "jp-MarkdownHeadingCollapsed": true,
    "tags": []
   },
   "source": [
    "### save and load "
   ]
  },
  {
   "cell_type": "code",
   "execution_count": 60,
   "id": "caf72cf3-3707-49f0-9160-18ff1a0bda2a",
   "metadata": {
    "collapsed": true,
    "jupyter": {
     "outputs_hidden": true
    },
    "tags": []
   },
   "outputs": [
    {
     "name": "stderr",
     "output_type": "stream",
     "text": [
      "2022-08-12 01:29:03.153539: W tensorflow/python/util/util.cc:368] Sets are not currently considered sequences, but this may change in the future, so consider avoiding using them.\n"
     ]
    },
    {
     "name": "stdout",
     "output_type": "stream",
     "text": [
      "INFO:tensorflow:Assets written to: ram://ea9d410c-3c90-41cd-8e90-f9df43eef7ee/assets\n",
      "INFO:tensorflow:Assets written to: ram://bc5b80a6-7742-400d-8b9b-def3400796f8/assets\n",
      "INFO:tensorflow:Assets written to: ram://1768ad52-02d6-4f16-8dfd-f9577631ff4b/assets\n",
      "INFO:tensorflow:Assets written to: ram://cb2b9c9b-a752-4bc9-b5cd-f2b7a6994e7f/assets\n",
      "INFO:tensorflow:Assets written to: ram://bf99cfd8-f55c-4855-9277-5e29b9713de9/assets\n",
      "INFO:tensorflow:Assets written to: ram://dc457231-c1da-4da0-a1e5-d7634eb7be41/assets\n",
      "INFO:tensorflow:Assets written to: ram://a4c16a49-d349-4526-80f7-d3d76dc28529/assets\n",
      "INFO:tensorflow:Assets written to: ram://c934f727-9c1f-48bb-ba87-5bfd53cdc343/assets\n",
      "INFO:tensorflow:Assets written to: ram://41ccef4d-b194-4047-8434-ccec6f3cee6b/assets\n",
      "INFO:tensorflow:Assets written to: ram://781b2fff-e02d-483b-bea9-d833b4fd45cf/assets\n",
      "INFO:tensorflow:Assets written to: ram://4bfd42c4-3503-4ff0-ab25-b556c0526097/assets\n",
      "INFO:tensorflow:Assets written to: ram://63161114-bba7-4bc1-8463-a4d7a090af3c/assets\n",
      "INFO:tensorflow:Assets written to: ram://178fdcee-12ed-440e-9391-3829a18a8eae/assets\n",
      "INFO:tensorflow:Assets written to: ram://eaf9a147-0a18-4dcb-a8a0-54ac2df77f42/assets\n",
      "INFO:tensorflow:Assets written to: ram://b3c0643c-4f44-48ee-a5f8-97766658ed39/assets\n",
      "INFO:tensorflow:Assets written to: ram://ebf46045-4665-41ce-8bdf-23c3118c0936/assets\n",
      "INFO:tensorflow:Assets written to: ram://8e94d156-ee8a-44cc-8fa4-cb796f481707/assets\n",
      "INFO:tensorflow:Assets written to: ram://f94c040c-e5e8-4911-bbbf-242677790da4/assets\n",
      "INFO:tensorflow:Assets written to: ram://bcca13ff-288d-47a2-84e0-7356d871fe81/assets\n",
      "INFO:tensorflow:Assets written to: ram://f55837e6-6879-422e-9d1c-f4490c61f86c/assets\n",
      "INFO:tensorflow:Assets written to: ram://a67079f3-8bc2-495b-87ef-ad3032f3b316/assets\n",
      "INFO:tensorflow:Assets written to: ram://56b17f31-e5dd-4c35-a326-4414eb366ce7/assets\n",
      "INFO:tensorflow:Assets written to: ram://f3006862-0a6f-4825-b37c-6c88a3e25cbf/assets\n",
      "INFO:tensorflow:Assets written to: ram://674538d4-2429-4431-a097-829487f5e6ec/assets\n",
      "INFO:tensorflow:Assets written to: ram://8c511cb4-e880-4319-b7b3-985fb15447d1/assets\n",
      "INFO:tensorflow:Assets written to: ram://9adee02e-204d-4c87-986f-1f2cf5fc143a/assets\n",
      "INFO:tensorflow:Assets written to: ram://d8f73c49-5f25-47f1-8a4d-e6d16d45bd08/assets\n",
      "INFO:tensorflow:Assets written to: ram://e752940c-72a0-4c60-9be1-c19ab8a76a37/assets\n",
      "INFO:tensorflow:Assets written to: ram://ec326b73-2cab-4875-8b4b-3035e9d0ba32/assets\n",
      "INFO:tensorflow:Assets written to: ram://1ead0179-a3e0-4d12-b4ff-09b1baf4ed1c/assets\n",
      "INFO:tensorflow:Assets written to: ram://26e65347-9f9d-4631-83f6-4854d13ec7b1/assets\n",
      "INFO:tensorflow:Assets written to: ram://a94cf3a3-3085-47c0-8c0a-e1a55510a63b/assets\n",
      "INFO:tensorflow:Assets written to: ram://40c59534-d340-4923-84eb-19aad614c7dd/assets\n",
      "INFO:tensorflow:Assets written to: ram://9b2bd4c5-da6b-472f-8368-f127cc3dae37/assets\n",
      "INFO:tensorflow:Assets written to: ram://8bb1d609-28c7-4313-851c-ea80dbb534fc/assets\n",
      "INFO:tensorflow:Assets written to: ram://32e68ed8-a4ad-4196-b297-367c5e698672/assets\n",
      "INFO:tensorflow:Assets written to: ram://f28efe31-bde9-41c3-b7ee-31794690366c/assets\n",
      "INFO:tensorflow:Assets written to: ram://294cfcd6-45b7-4ce3-80f4-7d4052cc7296/assets\n",
      "INFO:tensorflow:Assets written to: ram://fb8ddde9-7c49-4337-848b-61d92c3e4ed8/assets\n",
      "INFO:tensorflow:Assets written to: ram://fb013e68-fb83-48f9-a48e-dbd3639d7a8a/assets\n",
      "INFO:tensorflow:Assets written to: ram://ca7f5001-1b3b-4c08-8424-42e088c1d3df/assets\n",
      "INFO:tensorflow:Assets written to: ram://ce82b602-5ac5-4d65-a5fd-4b63793ca23a/assets\n",
      "INFO:tensorflow:Assets written to: ram://99841d5a-f8e8-4b6d-8590-c25469983fa7/assets\n",
      "INFO:tensorflow:Assets written to: ram://fd94114a-fba7-46bc-95c8-dafaf215c56b/assets\n",
      "INFO:tensorflow:Assets written to: ram://e9c905eb-9eab-4100-95e3-9eaca48bba50/assets\n",
      "INFO:tensorflow:Assets written to: ram://28c1becc-4db4-4c39-bdfa-2d7e6cfeda01/assets\n",
      "INFO:tensorflow:Assets written to: ram://623f8717-5e30-45f4-8269-0d9709c6c615/assets\n",
      "INFO:tensorflow:Assets written to: ram://6104a959-f756-4a74-8c27-11c287ae14e6/assets\n",
      "INFO:tensorflow:Assets written to: ram://982f169d-a380-424b-99db-2a0f0ad8f62c/assets\n",
      "INFO:tensorflow:Assets written to: ram://509d9526-0737-4f33-9199-4b1a245cdc00/assets\n",
      "INFO:tensorflow:Assets written to: ram://2d99af3f-406a-4e5f-8b8d-b0ef2a341ca7/assets\n",
      "INFO:tensorflow:Assets written to: ram://0065e17a-6eaa-4947-be49-3e51feb9c02d/assets\n",
      "INFO:tensorflow:Assets written to: ram://1c791566-55c5-4320-948e-69e9f594fbe8/assets\n",
      "INFO:tensorflow:Assets written to: ram://ae473c0c-58b5-46ca-bffa-8050fcd2a81f/assets\n",
      "INFO:tensorflow:Assets written to: ram://9f407a58-78e8-4354-abfb-430fa9987e57/assets\n",
      "INFO:tensorflow:Assets written to: ram://f32dcb26-2a03-4361-812a-36a8f153c5ac/assets\n",
      "INFO:tensorflow:Assets written to: ram://37b2a673-4777-4afb-ad5f-427cc5659731/assets\n",
      "INFO:tensorflow:Assets written to: ram://8685ad27-3530-4a08-9744-a0cb53655e7a/assets\n",
      "INFO:tensorflow:Assets written to: ram://e586efbe-4353-473e-b663-afe3692c7f30/assets\n",
      "INFO:tensorflow:Assets written to: ram://eacd5d1d-2307-474c-944a-c15917488fa3/assets\n",
      "INFO:tensorflow:Assets written to: ram://d3854eb7-3566-47f7-97a6-54379cb8631c/assets\n",
      "INFO:tensorflow:Assets written to: ram://4c4ccb57-7a4d-402b-9016-afbf1df802a3/assets\n",
      "INFO:tensorflow:Assets written to: ram://2bc718a5-62fd-459b-96d0-0d6b184eae19/assets\n",
      "INFO:tensorflow:Assets written to: ram://7728795c-b0f5-4d2e-aea4-9abd91c8ed32/assets\n",
      "INFO:tensorflow:Assets written to: ram://7e8fa7f1-feb8-4d9b-a069-350766f0c663/assets\n",
      "INFO:tensorflow:Assets written to: ram://4fac2a69-ba6f-4e48-9ef6-6fa0364edbb4/assets\n",
      "INFO:tensorflow:Assets written to: ram://56ad2b41-00e3-4b11-8d7c-4fe2b851673e/assets\n",
      "INFO:tensorflow:Assets written to: ram://e7528bba-2f57-4313-af92-8e14692c377d/assets\n",
      "INFO:tensorflow:Assets written to: ram://90d282c5-d13e-4ea2-922e-32d8aff0d578/assets\n",
      "INFO:tensorflow:Assets written to: ram://88c8e376-975d-4596-af9e-f76ba75f3622/assets\n",
      "INFO:tensorflow:Assets written to: ram://705e11ad-f1e1-4a54-887b-3961a460db8d/assets\n",
      "INFO:tensorflow:Assets written to: ram://0779510a-4bd9-44f4-b14e-662475dee636/assets\n",
      "INFO:tensorflow:Assets written to: ram://d5baaded-b8a2-469a-be47-b586a510ffc5/assets\n",
      "INFO:tensorflow:Assets written to: ram://78a4f691-048d-4738-b3f8-a6f9914966ff/assets\n",
      "INFO:tensorflow:Assets written to: ram://3168c9ca-f8cf-42b8-8f88-95e0e4f2e355/assets\n",
      "INFO:tensorflow:Assets written to: ram://b379e028-3c9d-4c1b-b3c7-b2fe53e04dcb/assets\n",
      "INFO:tensorflow:Assets written to: ram://f8d54a15-45f0-4717-a39a-349b01071adc/assets\n",
      "INFO:tensorflow:Assets written to: ram://86a07b45-9c98-446d-9911-53eee8f107dc/assets\n",
      "INFO:tensorflow:Assets written to: ram://01119104-3012-476b-8775-63896875697d/assets\n",
      "INFO:tensorflow:Assets written to: ram://ce3aee4f-56ea-4428-bac4-ede24f1545e1/assets\n",
      "INFO:tensorflow:Assets written to: ram://1612deab-84fd-47d7-a37a-040b66e497ba/assets\n",
      "INFO:tensorflow:Assets written to: ram://29a9c915-d9fc-4294-baaa-258997c75f67/assets\n",
      "INFO:tensorflow:Assets written to: ram://70d828da-6916-4464-8870-cf8ccdbbf158/assets\n",
      "INFO:tensorflow:Assets written to: ram://4b129837-3925-4c8e-bb3d-5a7b8c8b909b/assets\n",
      "INFO:tensorflow:Assets written to: ram://488e002f-a061-427a-800b-5cb1016095ba/assets\n",
      "INFO:tensorflow:Assets written to: ram://1d0e8af3-f913-4006-9662-95d1ca03f74d/assets\n",
      "INFO:tensorflow:Assets written to: ram://2ee97bd5-0dc8-4d72-b2bf-b6d22a1d5a92/assets\n",
      "INFO:tensorflow:Assets written to: ram://2f92a54e-dc0c-46d6-b6d1-255bc89c1db1/assets\n",
      "INFO:tensorflow:Assets written to: ram://dade6330-5d2c-4136-baa8-4d7d47c8a09e/assets\n",
      "INFO:tensorflow:Assets written to: ram://dca569b6-be76-45b7-9b1e-dceda228099c/assets\n",
      "INFO:tensorflow:Assets written to: ram://0fe48889-d8d3-4bac-86bd-c0a5e27bea72/assets\n",
      "INFO:tensorflow:Assets written to: ram://132d014d-ea60-4e7b-ba9b-65a773d380ba/assets\n",
      "INFO:tensorflow:Assets written to: ram://67e086d0-d53e-47b4-a7de-5b78f53110c3/assets\n",
      "INFO:tensorflow:Assets written to: ram://96d82b13-cae2-4ed8-a76b-b913a0ed94f5/assets\n",
      "INFO:tensorflow:Assets written to: ram://7731656f-7b92-4e7c-af94-24487c15b016/assets\n",
      "INFO:tensorflow:Assets written to: ram://276ad13b-c3c0-4079-8b36-28b722913c5c/assets\n",
      "INFO:tensorflow:Assets written to: ram://bf5fa062-0870-419c-8e8d-ed977b2b9a49/assets\n",
      "INFO:tensorflow:Assets written to: ram://0febc5e7-a32e-4a48-b722-733b676212b9/assets\n",
      "INFO:tensorflow:Assets written to: ram://db2f311e-f56e-47e3-938b-43aaa45636f5/assets\n",
      "INFO:tensorflow:Assets written to: ram://f2163cb1-305d-46b9-92e9-4b052d5d3989/assets\n"
     ]
    }
   ],
   "source": [
    "savepath = \"best-models/\"\n",
    "\n",
    "## Save the models\n",
    "saveobj = ANN_kfs_postMD_t1\n",
    "pickle.dump(saveobj, open(savepath+'test1.obj', 'wb'))\n",
    "\n",
    "## Save the metrics\n",
    "saveobj = ANN_kfs_metrics_postMD_t1\n",
    "pickle.dump(saveobj, open(savepath+'test2.obj', 'wb'))"
   ]
  },
  {
   "cell_type": "code",
   "execution_count": 61,
   "id": "9fd40ac5-13be-444b-8b2a-199fdb00fa13",
   "metadata": {},
   "outputs": [],
   "source": [
    "test1_loadobj = pickle.load(open(savepath+'test1.obj', 'rb'))\n",
    "test2_loadobj = pickle.load(open(savepath+'test2.obj', 'rb'))"
   ]
  },
  {
   "cell_type": "code",
   "execution_count": 62,
   "id": "8501484e-fa97-45f5-a4ef-a2e7bb1591f1",
   "metadata": {
    "tags": []
   },
   "outputs": [
    {
     "data": {
      "text/plain": [
       "['Y_pred_interp_dbllist',\n",
       " 'Y_pred_test_dbllist',\n",
       " 'Y_pred_train_dbllist',\n",
       " 'Y_pred_val_dbllist',\n",
       " 'Yerr_pred_interp_dbllist',\n",
       " 'Yerr_pred_test_dbllist',\n",
       " 'Yerr_pred_train_dbllist',\n",
       " 'Yerr_pred_val_dbllist',\n",
       " '__class__',\n",
       " '__delattr__',\n",
       " '__dict__',\n",
       " '__dir__',\n",
       " '__doc__',\n",
       " '__eq__',\n",
       " '__format__',\n",
       " '__ge__',\n",
       " '__getattribute__',\n",
       " '__gt__',\n",
       " '__hash__',\n",
       " '__init__',\n",
       " '__init_subclass__',\n",
       " '__le__',\n",
       " '__lt__',\n",
       " '__module__',\n",
       " '__ne__',\n",
       " '__new__',\n",
       " '__reduce__',\n",
       " '__reduce_ex__',\n",
       " '__repr__',\n",
       " '__setattr__',\n",
       " '__sizeof__',\n",
       " '__slotnames__',\n",
       " '__str__',\n",
       " '__subclasshook__',\n",
       " '__weakref__',\n",
       " 'best_hyperparameter_dict',\n",
       " 'fit_model_list',\n",
       " 'ft_indx',\n",
       " 'num_fit_pts',\n",
       " 'num_folds',\n",
       " 'num_interp_pts',\n",
       " 'num_splits',\n",
       " 'num_test_pts',\n",
       " 'num_train_pts',\n",
       " 'num_val_pts',\n",
       " 'predict',\n",
       " 'predict_for_performance_evaluation',\n",
       " 'trained_model_dbllist']"
      ]
     },
     "execution_count": 62,
     "metadata": {},
     "output_type": "execute_result"
    }
   ],
   "source": [
    "dir(test1_loadobj)"
   ]
  },
  {
   "cell_type": "markdown",
   "id": "3ac98425-d257-4122-ab3a-bb3fd2664bc3",
   "metadata": {
    "jp-MarkdownHeadingCollapsed": true,
    "tags": []
   },
   "source": [
    "### Test the loaded object"
   ]
  },
  {
   "cell_type": "code",
   "execution_count": 63,
   "id": "30639400-b864-4abc-963c-76c85e2ef1e3",
   "metadata": {},
   "outputs": [],
   "source": [
    "ft_indx = [0,1,2,3,4,5]\n",
    "ANN_best_postMD_model_tl1 = test1_loadobj\n",
    "ANN_ens_postMD_Vlugt_Ypred_list_tl1 = []\n",
    "ANN_ens_postMD_iall_Ypred_list_tl1 = []\n",
    "ANN_ens_postMD_iacc_Ypred_list_tl1 = []\n",
    "ANN_ens_postMD_irej_Ypred_list_tl1 = []\n",
    "\n",
    "for i in range(ANN_best_postMD_model_tl1.num_splits):\n",
    "    for j in range(ANN_best_postMD_model_tl1.num_folds):\n",
    "        this_model = ANN_best_postMD_model_tl1.trained_model_dbllist[i][j]\n",
    "        ## Vlugt data\n",
    "        Ypred = np.power(10,this_model.predict(X_2000p_fset1_scaled[:,ft_indx]))\n",
    "        ANN_ens_postMD_Vlugt_Ypred_list_tl1.append(Ypred)\n",
    "        \n",
    "        ## All Interpolation data\n",
    "        Ypred = np.power(10,this_model.predict(X_interp_fset1_scaled[:,ft_indx]))\n",
    "        ANN_ens_postMD_iall_Ypred_list_tl1.append(Ypred)\n",
    "        \n",
    "        ## Accepted interpolation data\n",
    "        Ypred = np.power(10,this_model.predict(X_interp_accept_scaled[:,ft_indx]))\n",
    "        ANN_ens_postMD_iacc_Ypred_list_tl1.append(Ypred)\n",
    "        \n",
    "        ## Rejected interpolation data\n",
    "        Ypred = np.power(10,this_model.predict(X_interp_reject_scaled[:,ft_indx]))\n",
    "        ANN_ens_postMD_irej_Ypred_list_tl1.append(Ypred)\n",
    "\n",
    "ANN_ens_postMD_Vlugt_Ypred_stats_tl1 = stats_ypred(ANN_ens_postMD_Vlugt_Ypred_list_tl1)\n",
    "ANN_ens_postMD_iall_Ypred_stats_tl1 = stats_ypred(ANN_ens_postMD_iall_Ypred_list_tl1)\n",
    "ANN_ens_postMD_iacc_Ypred_stats_tl1 = stats_ypred(ANN_ens_postMD_iacc_Ypred_list_tl1)\n",
    "ANN_ens_postMD_irej_Ypred_stats_tl1 = stats_ypred(ANN_ens_postMD_irej_Ypred_list_tl1)\n",
    "\n",
    "ANN_ens_postMD_Vlugt_mape_tl1 = 100*mean_absolute_percentage_error(Y_fset1_raw,ANN_ens_postMD_Vlugt_Ypred_stats_tl1.yp_mean_arr)\n",
    "ANN_ens_postMD_iall_mape_tl1 = 100*mean_absolute_percentage_error(Y_interp_raw,ANN_ens_postMD_iall_Ypred_stats_tl1.yp_mean_arr)\n",
    "ANN_ens_postMD_iacc_mape_tl1 = 100*mean_absolute_percentage_error(Y_interp_accept_raw,ANN_ens_postMD_iacc_Ypred_stats_tl1.yp_mean_arr)\n",
    "ANN_ens_postMD_irej_mape_tl1 = 100*mean_absolute_percentage_error(Y_interp_reject_raw,ANN_ens_postMD_irej_Ypred_stats_tl1.yp_mean_arr)\n"
   ]
  },
  {
   "cell_type": "code",
   "execution_count": 64,
   "id": "4daa97b6-9c56-4818-9eab-1e6a2a5e236c",
   "metadata": {},
   "outputs": [
    {
     "data": {
      "image/png": "[encoded data removed]",
      "text/plain": [
       "<Figure size 680x480 with 1 Axes>"
      ]
     },
     "metadata": {},
     "output_type": "display_data"
    }
   ],
   "source": [
    "f,ax = plt.subplots(1,1,figsize=(6.8,4.8),dpi=100)\n",
    "\n",
    "stline = np.arange(0.09,20,0.01)\n",
    "\n",
    "ax.plot(Y_fset1_raw,ANN_ens_postMD_Vlugt_Ypred_stats_tl1.yp_mean_arr,\n",
    "        \"s\",c=\"black\",mfc=\"none\",label=\"all MAPE:{:.1f}\".format(ANN_ens_postMD_Vlugt_mape_tl1))\n",
    "ax.plot(Y_interp_accept_raw,ANN_ens_postMD_iacc_Ypred_stats_tl1.yp_mean_arr,\n",
    "        \"^\",c=\"orange\",mfc=\"none\",label=\"iacc MAPE:{:.1f}\".format(ANN_ens_postMD_iacc_mape_tl1))\n",
    "ax.plot(Y_interp_reject_raw,ANN_ens_postMD_irej_Ypred_stats_tl1.yp_mean_arr,\n",
    "        \"*\",c=\"red\",mfc=\"none\",label=\"irej MAPE:{:.1f}\".format(ANN_ens_postMD_irej_mape_tl1))\n",
    "ax.plot(stline,stline,\"k--\",alpha=0.5)\n",
    "\n",
    "ax.legend()\n",
    "ax.set_xscale(\"log\") ; ax.set_yscale(\"log\")\n",
    "ax.set_xlabel(r\"$\\eta_{true}$\") ; ax.set_ylabel(r\"$\\eta_{pred}$\")\n",
    "plt.savefig(\"best-models/fig-ytrue-vs-ENSpred.png\",dpi=300,bbox_inches='tight')"
   ]
  },
  {
   "cell_type": "code",
   "execution_count": 65,
   "id": "23e0573c-e0d7-4595-9290-ecedc39ce67e",
   "metadata": {},
   "outputs": [
    {
     "name": "stdout",
     "output_type": "stream",
     "text": [
      "--------------------------------------------------------------\n",
      "  score             test                \n",
      "  MAE               4.64E-02    \n",
      "    MEDIAN            1.60    \n",
      "    2.5%              0.06    \n",
      "    97.5%             8.43    \n",
      "    MAX              17.57    \n",
      "  MSE               3.54E-02    \n",
      "  RMSE              1.88E-01    \n",
      "  R2                0.992761   \n",
      "\n",
      "  MAPE                0.97    \n",
      "    MEDIAN           58.60    \n",
      "    2.5%              2.54    \n",
      "    97.5%           715.78    \n",
      "    MAX             4255.27    \n",
      "\n",
      "  ME                 -0.01    \n",
      "  MPE                71.75    \n",
      "    MEDIAN           -0.05    \n",
      "    2.5%            -87.82    \n",
      "    97.5%           715.78    \n",
      "    MAX             4255.27    \n",
      "--------------------------------------------------------------\n"
     ]
    }
   ],
   "source": [
    "ANN_postMD_Vlugt_eval_tl1  = evaluate_mymodel(Y_fset1_raw,ANN_ens_postMD_Vlugt_Ypred_stats_tl1.yp_mean_arr)\n",
    "ANN_postMD_Vlugt_eval_tl1.summary_tofile(\"best-models/ANN_postMD_Vlugt_metrics-11aug22.csv\")\n",
    "ANN_postMD_Vlugt_eval_tl1.summary()"
   ]
  },
  {
   "cell_type": "markdown",
   "id": "b7fb3c94-567a-4fe5-a941-223b2639016e",
   "metadata": {
    "jp-MarkdownHeadingCollapsed": true,
    "tags": []
   },
   "source": [
    "### Test the loaded metrics object"
   ]
  },
  {
   "cell_type": "code",
   "execution_count": 69,
   "id": "38596dba-76a8-4dc0-bf58-9254b26573e1",
   "metadata": {},
   "outputs": [
    {
     "name": "stdout",
     "output_type": "stream",
     "text": [
      "0.006297002692719535\n",
      "0.0600403057735321\n",
      "0.09938741318213598\n",
      "0.33119289450300865\n"
     ]
    }
   ],
   "source": [
    "print(test2_loadobj.MSE_test_q2p5)\n",
    "print(test2_loadobj.MSE_test_median)\n",
    "print(test2_loadobj.MSE_test_avg)\n",
    "print(test2_loadobj.MSE_test_q97p5)"
   ]
  },
  {
   "cell_type": "markdown",
   "id": "b5685042-b4af-4964-9d58-4dcecbe83dc1",
   "metadata": {
    "jp-MarkdownHeadingCollapsed": true,
    "tags": []
   },
   "source": [
    "## The best postMD models + metrics"
   ]
  },
  {
   "cell_type": "code",
   "execution_count": 67,
   "id": "b118bec3-089f-4e6d-b728-d1c991d290c7",
   "metadata": {
    "collapsed": true,
    "jupyter": {
     "outputs_hidden": true
    },
    "tags": []
   },
   "outputs": [
    {
     "name": "stdout",
     "output_type": "stream",
     "text": [
      "INFO:tensorflow:Assets written to: ram://b7db0904-8d94-4dd5-98c5-230dcc0fe7ab/assets\n",
      "INFO:tensorflow:Assets written to: ram://1f7f1c40-11b6-4ef5-a350-fc07eb87f6e9/assets\n",
      "INFO:tensorflow:Assets written to: ram://067220e7-37a3-49b4-8d9e-abdbc625cd57/assets\n",
      "INFO:tensorflow:Assets written to: ram://b2e22834-17de-46de-b223-a38cac43aac2/assets\n",
      "INFO:tensorflow:Assets written to: ram://f8e349aa-73df-4cd0-9109-75d88839bbf9/assets\n",
      "INFO:tensorflow:Assets written to: ram://bcd2acd6-c7f3-482a-a62a-f9721190d71f/assets\n",
      "INFO:tensorflow:Assets written to: ram://34cc551b-747e-4502-b3ef-6305d7cc4787/assets\n",
      "INFO:tensorflow:Assets written to: ram://6d3b136a-8661-495d-8699-2da79de2a806/assets\n",
      "INFO:tensorflow:Assets written to: ram://dc578f48-7a45-4aff-88de-4e7ff1980d90/assets\n",
      "INFO:tensorflow:Assets written to: ram://e19e43fb-b2f8-48e6-bcba-52fb3a9b55c4/assets\n",
      "INFO:tensorflow:Assets written to: ram://f8faba68-7d1f-4be6-85dc-1d867158082c/assets\n",
      "INFO:tensorflow:Assets written to: ram://4d94669b-02e5-4862-835f-9f210d4506aa/assets\n",
      "INFO:tensorflow:Assets written to: ram://64f2b5db-eaae-49aa-9ccb-3e048b2d1a20/assets\n",
      "INFO:tensorflow:Assets written to: ram://0f1ac471-7161-48f5-9851-f485a1c1f35d/assets\n",
      "INFO:tensorflow:Assets written to: ram://dc116c9d-1976-4485-8e39-f712456962b8/assets\n",
      "INFO:tensorflow:Assets written to: ram://fb2b6795-320f-414d-9d3a-d09d2c5729a0/assets\n",
      "INFO:tensorflow:Assets written to: ram://06b7bb82-cf50-4a13-8d23-d9af5624f7fa/assets\n",
      "INFO:tensorflow:Assets written to: ram://234aa583-4052-4b88-af77-59c73f4ecf8d/assets\n",
      "INFO:tensorflow:Assets written to: ram://4f121c26-f991-438e-959e-e9ba1a0fd0f7/assets\n",
      "INFO:tensorflow:Assets written to: ram://9ab1a5c2-b7cc-40bd-98f0-e0e3b6c11988/assets\n",
      "INFO:tensorflow:Assets written to: ram://ba953343-f2b4-4bd2-ab05-7e60d9a4107b/assets\n",
      "INFO:tensorflow:Assets written to: ram://42904b0d-1ecd-4471-8029-f1e4c8ce6d7a/assets\n",
      "INFO:tensorflow:Assets written to: ram://e78239f0-fd80-4164-b9e3-24e5ce9bb123/assets\n",
      "INFO:tensorflow:Assets written to: ram://84e9f876-0e54-4089-a0e3-5588facf38d9/assets\n",
      "INFO:tensorflow:Assets written to: ram://a872560a-d177-4c3a-a853-a0af157da5b3/assets\n",
      "INFO:tensorflow:Assets written to: ram://82554df7-2640-411b-8e7c-bb6dbd478733/assets\n",
      "INFO:tensorflow:Assets written to: ram://80dd7db0-7084-446c-88e4-d8b02100ff91/assets\n",
      "INFO:tensorflow:Assets written to: ram://a67f9b04-5538-44b7-a0d7-de106e5bc301/assets\n",
      "INFO:tensorflow:Assets written to: ram://f131ae38-2764-4bdc-811c-0379e2bc4b09/assets\n",
      "INFO:tensorflow:Assets written to: ram://6be886ba-be47-4f54-bf07-a33f7946bbac/assets\n",
      "INFO:tensorflow:Assets written to: ram://01dcc718-7517-4363-a40f-85f8bdeb25d0/assets\n",
      "INFO:tensorflow:Assets written to: ram://1508cd54-92f7-409e-825c-5b8d55cbbed0/assets\n",
      "INFO:tensorflow:Assets written to: ram://d05547d2-43f9-48e5-9606-08fc70c46f59/assets\n",
      "INFO:tensorflow:Assets written to: ram://ad446b35-d3ee-486d-94e8-369b2ce83200/assets\n",
      "INFO:tensorflow:Assets written to: ram://2a18e45c-7106-4dbe-969b-d02dd4aa323c/assets\n",
      "INFO:tensorflow:Assets written to: ram://6ea70f73-3355-4c83-ac46-34e200a453c9/assets\n",
      "INFO:tensorflow:Assets written to: ram://f0e96670-35eb-4653-9be9-f523742f15a5/assets\n",
      "INFO:tensorflow:Assets written to: ram://dde1273f-4d7c-479b-b0c7-ce0c573c9907/assets\n",
      "INFO:tensorflow:Assets written to: ram://e44408fd-bee8-47d7-bad0-c66f696f1c76/assets\n",
      "INFO:tensorflow:Assets written to: ram://4cae3ecb-e6b0-4607-aff0-7114f8d0c423/assets\n",
      "INFO:tensorflow:Assets written to: ram://3635a3d4-14e5-4cdd-a5b6-b45c69156c15/assets\n",
      "INFO:tensorflow:Assets written to: ram://292b076d-d9df-4fe7-85ea-b1921061fbc9/assets\n",
      "INFO:tensorflow:Assets written to: ram://49a34aa8-5643-4634-abf0-ead486c10780/assets\n",
      "INFO:tensorflow:Assets written to: ram://e91bfa8c-fdf2-4af3-bb96-36b1dc25ef9e/assets\n",
      "INFO:tensorflow:Assets written to: ram://cb14cded-b82d-409e-91ca-3f2792ae128b/assets\n",
      "INFO:tensorflow:Assets written to: ram://c8fb03f1-ad11-416b-9407-ece3cf61dce7/assets\n",
      "INFO:tensorflow:Assets written to: ram://0a35531f-ab02-4a5c-b925-6ead435bb7c7/assets\n",
      "INFO:tensorflow:Assets written to: ram://d64211a1-9535-4518-b931-9cef535461af/assets\n",
      "INFO:tensorflow:Assets written to: ram://47963fdc-6ae7-43c5-8e5b-3c61a1be9eec/assets\n",
      "INFO:tensorflow:Assets written to: ram://bc0aa381-d1d8-4f87-a77f-0b04e270744a/assets\n",
      "INFO:tensorflow:Assets written to: ram://befe9c01-abfc-4858-86c8-567daae35a1f/assets\n",
      "INFO:tensorflow:Assets written to: ram://e676c4fd-4e2e-49a2-900c-a705f37c10d3/assets\n",
      "INFO:tensorflow:Assets written to: ram://c7f0350c-a26e-4238-ae8b-23e5e4b70924/assets\n",
      "INFO:tensorflow:Assets written to: ram://25bf1e03-ba93-45f9-8e3d-968c79a35732/assets\n",
      "INFO:tensorflow:Assets written to: ram://c82d0f6a-7380-4c08-ac48-e1012d171f75/assets\n",
      "INFO:tensorflow:Assets written to: ram://db99e00e-9e68-429a-b1e5-de7bba94ff3d/assets\n",
      "INFO:tensorflow:Assets written to: ram://cf6ce721-c586-402c-aa39-ac690ae1f1f6/assets\n",
      "INFO:tensorflow:Assets written to: ram://916a823b-c868-42ef-946c-ebff57338cce/assets\n",
      "INFO:tensorflow:Assets written to: ram://503ec4c1-3ae0-4353-8378-39b89020ec89/assets\n",
      "INFO:tensorflow:Assets written to: ram://ad5341ad-d01a-444a-8228-09a34b55032a/assets\n",
      "INFO:tensorflow:Assets written to: ram://f5c8a5a8-c332-48ee-b0f8-1cc50504fc23/assets\n",
      "INFO:tensorflow:Assets written to: ram://f11439f0-0cd9-448c-b2e3-44b951413da4/assets\n",
      "INFO:tensorflow:Assets written to: ram://6b616aba-e490-463a-811b-016447603f75/assets\n",
      "INFO:tensorflow:Assets written to: ram://145e73ae-0cf5-444e-bad7-f72c9493bd0c/assets\n",
      "INFO:tensorflow:Assets written to: ram://f1e75dc3-17a9-4bd5-8536-c9467ae76f0b/assets\n",
      "INFO:tensorflow:Assets written to: ram://4f426cde-8834-42ea-826f-e7a30fc551f9/assets\n",
      "INFO:tensorflow:Assets written to: ram://9bd0def7-965c-4965-b352-14deb6b49419/assets\n",
      "INFO:tensorflow:Assets written to: ram://bf68628c-4a7d-4bae-936c-3dcb2c56762f/assets\n",
      "INFO:tensorflow:Assets written to: ram://73ffe763-878f-45bd-a895-df51156fdd67/assets\n",
      "INFO:tensorflow:Assets written to: ram://cb7c9704-562c-4c40-a021-bc1c27dcfd38/assets\n",
      "INFO:tensorflow:Assets written to: ram://ff13da34-5934-4c2e-b128-7dad8da44695/assets\n",
      "INFO:tensorflow:Assets written to: ram://3377bb16-1d12-4556-89ea-bf26cdfbcc31/assets\n",
      "INFO:tensorflow:Assets written to: ram://dbc0fc45-7e3f-4734-b29b-4dacb4a4799e/assets\n",
      "INFO:tensorflow:Assets written to: ram://d7bc0c59-d5b0-45ff-a4c6-741cd6a7b341/assets\n",
      "INFO:tensorflow:Assets written to: ram://c9bcdc5e-195c-425f-bee2-5e22b1065bae/assets\n",
      "INFO:tensorflow:Assets written to: ram://9218dc47-0030-456e-8f12-04a4461e0bfd/assets\n",
      "INFO:tensorflow:Assets written to: ram://567cfcc7-ac63-4d26-a98d-510eab0bfa3e/assets\n",
      "INFO:tensorflow:Assets written to: ram://dc6af72a-9f6a-4b4e-8690-12d075baec18/assets\n",
      "INFO:tensorflow:Assets written to: ram://50f18c59-4a12-4422-96f0-b9d8997c626b/assets\n",
      "INFO:tensorflow:Assets written to: ram://ae42bc23-0b4e-43eb-ae5d-9e75752ef414/assets\n",
      "INFO:tensorflow:Assets written to: ram://11ab4d21-44e4-41b9-a860-fedd2a872bac/assets\n",
      "INFO:tensorflow:Assets written to: ram://46114cfe-e215-422d-b60e-81f86f8fd121/assets\n",
      "INFO:tensorflow:Assets written to: ram://65e221ee-3b8d-492c-a161-014702e06ce9/assets\n",
      "INFO:tensorflow:Assets written to: ram://d3924119-0bc6-486c-add0-2a99a78091aa/assets\n",
      "INFO:tensorflow:Assets written to: ram://c11cc043-ffe9-49b4-addb-28e434395538/assets\n",
      "INFO:tensorflow:Assets written to: ram://f7893f69-b9a8-4b4d-a441-e5fe5a855e2f/assets\n",
      "INFO:tensorflow:Assets written to: ram://fea65f60-1828-41ec-83d1-0571df291fd2/assets\n",
      "INFO:tensorflow:Assets written to: ram://34c5d740-0133-4fff-9af3-ffe1e38333bc/assets\n",
      "INFO:tensorflow:Assets written to: ram://2d522c7f-19da-4b69-b52d-9baf105e058e/assets\n",
      "INFO:tensorflow:Assets written to: ram://c3d11923-81d0-4e05-bb79-0d3f33dc9847/assets\n",
      "INFO:tensorflow:Assets written to: ram://f87ae2c6-b5e3-4248-a76a-e170bb74c2c6/assets\n",
      "INFO:tensorflow:Assets written to: ram://24a8ee34-a8b4-4fb9-9213-f8ad528985dc/assets\n",
      "INFO:tensorflow:Assets written to: ram://edb66558-28c1-4fd7-8832-fe77abb76390/assets\n",
      "INFO:tensorflow:Assets written to: ram://83518756-1e3e-4160-b722-04e3cac838a1/assets\n",
      "INFO:tensorflow:Assets written to: ram://debf6d5f-e04f-4cfa-b028-4ca4719cbb38/assets\n",
      "INFO:tensorflow:Assets written to: ram://9a7ff4b8-e7fe-434c-adce-2f1758c0e38c/assets\n",
      "INFO:tensorflow:Assets written to: ram://52e9922c-b909-4032-b68d-a2af4961e8c1/assets\n",
      "INFO:tensorflow:Assets written to: ram://11a0dda5-adb6-45d6-b93f-b73e16cbb6a4/assets\n",
      "INFO:tensorflow:Assets written to: ram://ccbe7d37-d38e-434d-9edf-6a74d2559a9c/assets\n",
      "INFO:tensorflow:Assets written to: ram://a135fc38-cf7a-4b24-98f9-90143e34882d/assets\n"
     ]
    }
   ],
   "source": [
    "savepath = \"best-models/\"\n",
    "\n",
    "## Save the models\n",
    "saveobj = ANN_kfs_postMD_t1\n",
    "pickle.dump(saveobj, open(savepath+'ANN-best-postMD-models.obj', 'wb'))\n",
    "\n",
    "## Save the metrics\n",
    "saveobj = ANN_kfs_metrics_postMD_t1\n",
    "pickle.dump(saveobj, open(savepath+'ANN-best-postMD-metrics.obj', 'wb'))"
   ]
  },
  {
   "cell_type": "markdown",
   "id": "d254338d-10e5-4c57-a5c1-6e7e6ac172be",
   "metadata": {
    "jp-MarkdownHeadingCollapsed": true,
    "tags": []
   },
   "source": [
    "## The best preMD models + metrics"
   ]
  },
  {
   "cell_type": "code",
   "execution_count": 83,
   "id": "53cafdf7-cff3-427d-91db-fd89c3d4d2a5",
   "metadata": {
    "collapsed": true,
    "jupyter": {
     "outputs_hidden": true
    },
    "tags": []
   },
   "outputs": [
    {
     "name": "stdout",
     "output_type": "stream",
     "text": [
      "INFO:tensorflow:Assets written to: ram://2de38d9c-1c0f-4d9b-b953-221f441877de/assets\n",
      "INFO:tensorflow:Assets written to: ram://a8bbcd8a-d33c-49b1-9128-4f6f327e8c83/assets\n",
      "INFO:tensorflow:Assets written to: ram://141094ee-b93f-4a50-9dc0-fae26728dfbb/assets\n",
      "INFO:tensorflow:Assets written to: ram://d3676fea-46ac-4104-aa7b-6f7c521915bc/assets\n",
      "INFO:tensorflow:Assets written to: ram://adf934da-caeb-4981-b98f-6b834f51fa8a/assets\n",
      "INFO:tensorflow:Assets written to: ram://4d376da8-d5b9-4daf-b517-e5680f777905/assets\n",
      "INFO:tensorflow:Assets written to: ram://9d0f0f08-d901-4696-8ff6-df6d5a7bcbff/assets\n",
      "INFO:tensorflow:Assets written to: ram://d9401520-ee4b-4880-ab26-207bd96f153f/assets\n",
      "INFO:tensorflow:Assets written to: ram://84942a27-899a-45c0-9512-3a7ec4bc72ed/assets\n",
      "INFO:tensorflow:Assets written to: ram://71380b52-e03e-40bd-94a5-9762e4bc8d48/assets\n",
      "INFO:tensorflow:Assets written to: ram://22698193-c792-4fd8-9e4e-417bd6235a03/assets\n",
      "INFO:tensorflow:Assets written to: ram://69beabdc-edab-4f12-a2ee-24b39eff06b0/assets\n",
      "INFO:tensorflow:Assets written to: ram://84c49906-9b95-44c5-8ffe-ecb479f7169b/assets\n",
      "INFO:tensorflow:Assets written to: ram://e739e7ce-ffbb-4cfa-a879-fd6778635854/assets\n",
      "INFO:tensorflow:Assets written to: ram://e9f025d4-d15a-4f5c-a201-9a643bb1612a/assets\n",
      "INFO:tensorflow:Assets written to: ram://f92f7cf1-c3da-4e4e-896b-05be1331aedc/assets\n",
      "INFO:tensorflow:Assets written to: ram://dd7da1e1-8ccc-42ea-b723-11987008bcae/assets\n",
      "INFO:tensorflow:Assets written to: ram://203c7d54-99d2-4519-8579-ebb0d3148da3/assets\n",
      "INFO:tensorflow:Assets written to: ram://61ca0565-dbaa-46a6-bf7e-4e7705aae68e/assets\n",
      "INFO:tensorflow:Assets written to: ram://cec6b108-c6fe-4bf6-b967-c005b9673d86/assets\n",
      "INFO:tensorflow:Assets written to: ram://cc132b3d-b435-402a-a21e-7d3304c501df/assets\n",
      "INFO:tensorflow:Assets written to: ram://9f5013c7-1941-48df-b81b-fa8d20763f81/assets\n",
      "INFO:tensorflow:Assets written to: ram://13672953-5a6d-4fe8-86ec-f77bbf6e255f/assets\n",
      "INFO:tensorflow:Assets written to: ram://7b3ceb3f-0465-4024-83fb-79a05c8c00fe/assets\n",
      "INFO:tensorflow:Assets written to: ram://e12c13ca-e801-4a51-aa0e-4b27859bf0bc/assets\n",
      "INFO:tensorflow:Assets written to: ram://0506fcde-e483-429f-aa2e-f8ab98eb1816/assets\n",
      "INFO:tensorflow:Assets written to: ram://077fdd57-cec4-4850-b9b5-5ee65a03b35c/assets\n",
      "INFO:tensorflow:Assets written to: ram://4fc856cb-149c-4442-a184-29365a181dd5/assets\n",
      "INFO:tensorflow:Assets written to: ram://63fa6ec2-4e62-4b31-853a-9ac881ef3fe0/assets\n",
      "INFO:tensorflow:Assets written to: ram://73e38a70-f71a-4d09-833d-6fe363bc7102/assets\n",
      "INFO:tensorflow:Assets written to: ram://4fba5cdf-605a-4839-9960-af9207f28a99/assets\n",
      "INFO:tensorflow:Assets written to: ram://888b6588-4ac2-4b24-89ee-319e609b5554/assets\n",
      "INFO:tensorflow:Assets written to: ram://40baec9d-f46e-44bd-addb-a72ff312bf34/assets\n",
      "INFO:tensorflow:Assets written to: ram://6071006e-bb8b-4c51-8ec4-3fc769d4bd27/assets\n",
      "INFO:tensorflow:Assets written to: ram://f18ff82a-4d59-41f9-ba7c-d014f609ddce/assets\n",
      "INFO:tensorflow:Assets written to: ram://292ce732-2d92-4514-b798-8dae0bfc8788/assets\n",
      "INFO:tensorflow:Assets written to: ram://522f420b-784d-4761-a442-a58c912aa9fb/assets\n",
      "INFO:tensorflow:Assets written to: ram://63809795-d656-424b-8a1e-369edf5aac64/assets\n",
      "INFO:tensorflow:Assets written to: ram://afceff3a-cf71-406b-84da-088fe9f342ad/assets\n",
      "INFO:tensorflow:Assets written to: ram://9b91d08f-3868-42fe-8dc7-79fb2a1c733d/assets\n",
      "INFO:tensorflow:Assets written to: ram://482c9391-31d9-488a-9838-bbe657e39f78/assets\n",
      "INFO:tensorflow:Assets written to: ram://4815e4f9-c5ad-42ca-9d32-4a8680a3122a/assets\n",
      "INFO:tensorflow:Assets written to: ram://f18cbeea-f0fb-430e-a537-3cbe09c97251/assets\n",
      "INFO:tensorflow:Assets written to: ram://02d3962f-27fa-4e6a-b518-f3f1f9b19ef2/assets\n",
      "INFO:tensorflow:Assets written to: ram://0bcc944c-b57b-4ccb-93bb-8224117d16ae/assets\n",
      "INFO:tensorflow:Assets written to: ram://2b824a34-bf9a-4a08-a4cf-498bb60e78fb/assets\n",
      "INFO:tensorflow:Assets written to: ram://472b147c-9698-45b2-af8f-0f36637bb276/assets\n",
      "INFO:tensorflow:Assets written to: ram://d60a0dee-48bb-4ffd-8327-b6e72d4c78e9/assets\n",
      "INFO:tensorflow:Assets written to: ram://dede8a4c-aa44-412f-8f27-a8417a72c14c/assets\n",
      "INFO:tensorflow:Assets written to: ram://03bf3017-b9b2-4854-8439-3293d9a3a258/assets\n",
      "INFO:tensorflow:Assets written to: ram://7e51c157-f33c-4a35-b63e-79383008b277/assets\n",
      "INFO:tensorflow:Assets written to: ram://6d6986fa-c6e2-4bcb-a4b0-fba23d5ebb0c/assets\n",
      "INFO:tensorflow:Assets written to: ram://07dac6eb-2912-4ebf-9112-d069259e8ed0/assets\n",
      "INFO:tensorflow:Assets written to: ram://3c6b7869-ff83-4cfa-91e8-dc54448a26e6/assets\n",
      "INFO:tensorflow:Assets written to: ram://e34624b8-686f-4954-ae3c-2ce493761402/assets\n",
      "INFO:tensorflow:Assets written to: ram://13cbea9b-dbdc-431b-8cf8-a4ca5a624b29/assets\n",
      "INFO:tensorflow:Assets written to: ram://c419ba24-ebe6-44ba-96c9-d740f0736b2d/assets\n",
      "INFO:tensorflow:Assets written to: ram://b7ded7f8-87a5-4f2e-bb7d-0aa980639813/assets\n",
      "INFO:tensorflow:Assets written to: ram://87c6e459-8ba0-4e62-9b71-f7eee69eeddd/assets\n",
      "INFO:tensorflow:Assets written to: ram://1d079d65-bacd-4e25-8292-8a09782c1482/assets\n",
      "INFO:tensorflow:Assets written to: ram://a66281ba-99f9-4237-9cc3-28219e247536/assets\n",
      "INFO:tensorflow:Assets written to: ram://4105be7e-c79d-4980-804b-13799b2f2f87/assets\n",
      "INFO:tensorflow:Assets written to: ram://4b6f1a43-778c-488e-9f4f-3263abc2349c/assets\n",
      "INFO:tensorflow:Assets written to: ram://66ba2747-abc3-4ca1-a408-c3a0016a281a/assets\n",
      "INFO:tensorflow:Assets written to: ram://92a208d3-a922-493c-9b40-d99d78d060d3/assets\n",
      "INFO:tensorflow:Assets written to: ram://69bb9a33-3dfc-4c36-8bf5-129009b995c2/assets\n",
      "INFO:tensorflow:Assets written to: ram://060a0169-04b5-4e13-ba55-d2e0cba3cad6/assets\n",
      "INFO:tensorflow:Assets written to: ram://5b00f9f5-f9a8-4e58-aeb5-eac2bf70a752/assets\n",
      "INFO:tensorflow:Assets written to: ram://d9609c53-450b-4000-b90a-df31882e1d47/assets\n",
      "INFO:tensorflow:Assets written to: ram://998e24b9-660a-4c81-82e1-4dfae64a0df2/assets\n",
      "INFO:tensorflow:Assets written to: ram://15d1ec47-4040-47fe-a87c-da09db80af09/assets\n",
      "INFO:tensorflow:Assets written to: ram://9758ceeb-58fe-465d-8b4a-944613deda84/assets\n",
      "INFO:tensorflow:Assets written to: ram://87ed1f13-db0d-465e-a8ef-f7d1775b69c6/assets\n",
      "INFO:tensorflow:Assets written to: ram://b46c8b30-d5d8-4c92-a087-6afded0b196d/assets\n",
      "INFO:tensorflow:Assets written to: ram://598e7c7e-74a0-4abf-9dcb-a298eee5001b/assets\n",
      "INFO:tensorflow:Assets written to: ram://78a3c812-1e5b-4371-ae86-5c42a2b287c1/assets\n",
      "INFO:tensorflow:Assets written to: ram://234744d3-1c1e-4787-9483-edb2f17a1d1a/assets\n",
      "INFO:tensorflow:Assets written to: ram://80da8bf9-7c09-487c-900a-451dbf982c73/assets\n",
      "INFO:tensorflow:Assets written to: ram://d752af79-abec-4cbb-88be-bcd9067e97f1/assets\n",
      "INFO:tensorflow:Assets written to: ram://d8681f4a-243f-44bb-97df-cb935ce0ebfd/assets\n",
      "INFO:tensorflow:Assets written to: ram://67f731c6-30cb-4e32-a29b-08aec3559d2d/assets\n",
      "INFO:tensorflow:Assets written to: ram://f73af960-6d9e-40b0-a0d6-efbe50c8d5fa/assets\n",
      "INFO:tensorflow:Assets written to: ram://c3d9833f-d15d-46ae-9765-b217653dd358/assets\n",
      "INFO:tensorflow:Assets written to: ram://40108abc-b08a-456e-a454-696eec40d156/assets\n",
      "INFO:tensorflow:Assets written to: ram://a2c75750-e84d-4cbf-9e67-24c02511dd1f/assets\n",
      "INFO:tensorflow:Assets written to: ram://b52ad6db-b262-4540-a957-7d4ca01fa855/assets\n",
      "INFO:tensorflow:Assets written to: ram://ad17a7df-b5a2-45ff-9c54-8a7786564f03/assets\n",
      "INFO:tensorflow:Assets written to: ram://8ad9d0d1-6e89-4bb6-bd4e-c08acd607947/assets\n",
      "INFO:tensorflow:Assets written to: ram://7e300bed-f37d-4986-af8d-ea6a15cb56da/assets\n",
      "INFO:tensorflow:Assets written to: ram://d9e9de1d-ca64-4100-b360-00668f234487/assets\n",
      "INFO:tensorflow:Assets written to: ram://85511285-85dd-45f5-95d8-d357355ab15f/assets\n",
      "INFO:tensorflow:Assets written to: ram://934019bb-07fe-4349-b7af-833cd409b266/assets\n",
      "INFO:tensorflow:Assets written to: ram://bd9db9ee-2d1e-4195-a107-a7c9e227f6c0/assets\n",
      "INFO:tensorflow:Assets written to: ram://f79d3ff3-fec7-4826-a051-33c8ed56ec42/assets\n",
      "INFO:tensorflow:Assets written to: ram://5e4fa52e-0d8c-446f-83ed-fd34b69dd359/assets\n",
      "INFO:tensorflow:Assets written to: ram://97628186-d80e-4aac-bbc5-6f00e7350a80/assets\n",
      "INFO:tensorflow:Assets written to: ram://4082b090-cdfc-43fb-8db9-e57885d915ab/assets\n",
      "INFO:tensorflow:Assets written to: ram://92089180-9830-4a69-915e-169091b67a53/assets\n",
      "INFO:tensorflow:Assets written to: ram://c576cac1-b75e-4d32-97a0-07f725c4677f/assets\n",
      "INFO:tensorflow:Assets written to: ram://a5ec3229-b763-4d14-bf77-bcf2b4ff9b0e/assets\n"
     ]
    }
   ],
   "source": [
    "savepath = \"best-models/\"\n",
    "\n",
    "## Save the models\n",
    "saveobj = ANN_kfs_preMD_t1\n",
    "pickle.dump(saveobj, open(savepath+'ANN-best-preMD-models.obj', 'wb'))\n",
    "\n",
    "## Save the metrics\n",
    "saveobj = ANN_kfs_metrics_preMD_t1\n",
    "pickle.dump(saveobj, open(savepath+'ANN-best-preMD-metrics.obj', 'wb'))"
   ]
  },
  {
   "cell_type": "markdown",
   "id": "f7186b8b-c252-4704-8a20-658b2b33294b",
   "metadata": {
    "tags": []
   },
   "source": [
    "## The ensemble results"
   ]
  },
  {
   "cell_type": "markdown",
   "id": "e5d21a7e-2db1-4f9a-a570-bf5c0f9c3824",
   "metadata": {
    "jp-MarkdownHeadingCollapsed": true,
    "tags": []
   },
   "source": [
    "### postMD results"
   ]
  },
  {
   "cell_type": "code",
   "execution_count": 68,
   "id": "d1b00ac5-eaf3-42a0-a89b-574fac33b6a4",
   "metadata": {},
   "outputs": [],
   "source": [
    "## Save the models\n",
    "saveobj = ANN_ens_postMD_Vlugt_Ypred_stats_t1\n",
    "pickle.dump(saveobj, open(savepath+'ANN-ens-postMD-Vlugt-ypred.obj', 'wb'))\n",
    "\n",
    "saveobj = ANN_ens_postMD_iall_Ypred_stats_t1\n",
    "pickle.dump(saveobj, open(savepath+'ANN-ens-postMD-iall-ypred.obj', 'wb'))\n",
    "\n",
    "saveobj = ANN_ens_postMD_iacc_Ypred_stats_t1\n",
    "pickle.dump(saveobj, open(savepath+'ANN-ens-postMD-iacc-ypred.obj', 'wb'))\n",
    "\n",
    "saveobj = ANN_ens_postMD_irej_Ypred_stats_t1\n",
    "pickle.dump(saveobj, open(savepath+'ANN-ens-postMD-irej-ypred.obj', 'wb'))"
   ]
  },
  {
   "cell_type": "markdown",
   "id": "f340bbb0-44b8-4f9b-8a35-13809a14af43",
   "metadata": {
    "jp-MarkdownHeadingCollapsed": true,
    "tags": []
   },
   "source": [
    "### preMD results"
   ]
  },
  {
   "cell_type": "code",
   "execution_count": 84,
   "id": "84d34a4d-b704-496f-9145-11c78958ad0b",
   "metadata": {},
   "outputs": [],
   "source": [
    "## Save the models\n",
    "saveobj = ANN_ens_preMD_Vlugt_Ypred_stats_t1\n",
    "pickle.dump(saveobj, open(savepath+'ANN-ens-preMD-Vlugt-ypred.obj', 'wb'))\n",
    "\n",
    "saveobj = ANN_ens_preMD_iall_Ypred_stats_t1\n",
    "pickle.dump(saveobj, open(savepath+'ANN-ens-preMD-iall-ypred.obj', 'wb'))\n",
    "\n",
    "saveobj = ANN_ens_preMD_iacc_Ypred_stats_t1\n",
    "pickle.dump(saveobj, open(savepath+'ANN-ens-preMD-iacc-ypred.obj', 'wb'))\n",
    "\n",
    "saveobj = ANN_ens_preMD_irej_Ypred_stats_t1\n",
    "pickle.dump(saveobj, open(savepath+'ANN-ens-preMD-irej-ypred.obj', 'wb'))"
   ]
  },
  {
   "cell_type": "markdown",
   "id": "00568beb-0fd2-4958-8155-7f0d504a3aa1",
   "metadata": {
    "jp-MarkdownHeadingCollapsed": true,
    "tags": []
   },
   "source": [
    "## The interpolation results"
   ]
  },
  {
   "cell_type": "code",
   "execution_count": 94,
   "id": "a15d58fc-5993-4018-9958-46560b1b3e4d",
   "metadata": {},
   "outputs": [],
   "source": [
    "## Save the models\n",
    "saveobj = ANN_ens_x1_int_Ypred_stats_t1\n",
    "pickle.dump(saveobj, open(savepath+'ANN-interp-x1-ypred.obj', 'wb'))\n",
    "\n",
    "saveobj = ANN_ens_eps2_int_Ypred_stats_t1\n",
    "pickle.dump(saveobj, open(savepath+'ANN-interp-eps2-ypred.obj', 'wb'))\n",
    "\n",
    "saveobj = ANN_ens_sig2_int_Ypred_stats_t1\n",
    "pickle.dump(saveobj, open(savepath+'ANN-interp-sig2-ypred.obj', 'wb'))\n",
    "\n",
    "saveobj = ANN_ens_k12_int_Ypred_stats_t1\n",
    "pickle.dump(saveobj, open(savepath+'ANN-interp-k12-ypred.obj', 'wb'))"
   ]
  }
 ],
 "metadata": {
  "kernelspec": {
   "display_name": "Python 3 (ipykernel)",
   "language": "python",
   "name": "python3"
  },
  "language_info": {
   "codemirror_mode": {
    "name": "ipython",
    "version": 3
   },
   "file_extension": ".py",
   "mimetype": "text/x-python",
   "name": "python",
   "nbconvert_exporter": "python",
   "pygments_lexer": "ipython3",
   "version": "3.9.7"
  }
 },
 "nbformat": 4,
 "nbformat_minor": 5
}
